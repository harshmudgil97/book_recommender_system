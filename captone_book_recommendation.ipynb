{
  "nbformat": 4,
  "nbformat_minor": 0,
  "metadata": {
    "colab": {
      "name": "captone_book_recommendation.ipynb",
      "provenance": [],
      "collapsed_sections": [],
      "authorship_tag": "ABX9TyOaBalfxhQ4ytnu773coq7g",
      "include_colab_link": true
    },
    "kernelspec": {
      "display_name": "Python 3",
      "name": "python3"
    },
    "language_info": {
      "name": "python"
    }
  },
  "cells": [
    {
      "cell_type": "markdown",
      "metadata": {
        "id": "view-in-github",
        "colab_type": "text"
      },
      "source": [
        "<a href=\"https://colab.research.google.com/github/harshmudgil97/book_recommender_system/blob/main/captone_book_recommendation.ipynb\" target=\"_parent\"><img src=\"https://colab.research.google.com/assets/colab-badge.svg\" alt=\"Open In Colab\"/></a>"
      ]
    },
    {
      "cell_type": "markdown",
      "metadata": {
        "id": "iOENk26z0uzE"
      },
      "source": [
        "# **Book Recommendation Engine**"
      ]
    },
    {
      "cell_type": "markdown",
      "metadata": {
        "id": "YfYE76cS2lf5"
      },
      "source": [
        "#Introduction\n",
        "\n",
        "\n",
        "---\n",
        "\n",
        "\n",
        "During the last few decades, recommender systems have taken more and more place in our lives. From e-commerce to online advertisement, recommender systems are today unavoidable in our daily online journeys.\n",
        "\n",
        "In a very general way, recommender systems are algorithms aimed at suggesting relevant items to users. Recommender systems are really critical in some industries as they can generate a huge amount of income when they are efficient or also be a way to stand out significantly from competitors. The main objective is to create a book recommendation system for users."
      ]
    },
    {
      "cell_type": "markdown",
      "metadata": {
        "id": "hHzvwkjG2fEm"
      },
      "source": [
        "#Data Description\n",
        "\n",
        "\n",
        "---\n",
        "\n",
        "\n",
        "\n",
        "**The Book-Crossing dataset comprises 3 files.**\n",
        "\n",
        "**● Users**\n",
        "\n",
        "Contains the users. Note that user IDs (User-ID) have been anonymized and map to\n",
        "integers. Demographic data is provided (Location, Age) if available. Otherwise, these fields contain NULL values.\n",
        "\n",
        "**● Books**\n",
        "\n",
        "Books are identified by their respective ISBN. Invalid ISBNs have already been removed from the dataset. Moreover, some content-based information is given (Book-Title,Book-Author, Year-Of-Publication, Publisher), obtained from Amazon Web Services. Note that in the case of several authors, only the first is provided. URLs linking to cover images are also given, appearing in three different flavors (Image-URL-S,Image-URL-M, Image-URL-L), i.e., small, medium, large. These URLs point to the Amazon website.\n",
        "\n",
        "**● Ratings**\n",
        "Contains the book rating information. Ratings (Book-Rating) are either explicit,\n",
        "expressed on a scale from 1-10 (higher values denoting higher appreciation), or implicit, expressed by 0."
      ]
    },
    {
      "cell_type": "code",
      "metadata": {
        "id": "4hw48MrL2rDI"
      },
      "source": [
        "import pandas as pd\n",
        "%matplotlib inline\n",
        "import matplotlib.pyplot as plt\n",
        "import seaborn as sns\n",
        "import numpy as np\n",
        "import warnings\n",
        "warnings.filterwarnings('ignore')"
      ],
      "execution_count": 202,
      "outputs": []
    },
    {
      "cell_type": "code",
      "metadata": {
        "colab": {
          "base_uri": "https://localhost:8080/"
        },
        "id": "6oAad2120Xiy",
        "outputId": "02ff2165-1d20-491b-a360-a66a09c30a51"
      },
      "source": [
        "from google.colab import drive\n",
        "drive.mount('/content/gdrive')"
      ],
      "execution_count": 203,
      "outputs": [
        {
          "output_type": "stream",
          "name": "stdout",
          "text": [
            "Drive already mounted at /content/gdrive; to attempt to forcibly remount, call drive.mount(\"/content/gdrive\", force_remount=True).\n"
          ]
        }
      ]
    },
    {
      "cell_type": "code",
      "metadata": {
        "id": "Limg3Yz_2ovw"
      },
      "source": [
        "df_user = pd.read_csv('/content/gdrive/MyDrive/Colab Notebooks/Module 4: Machine Learning/Capstone Project - 2/BOOK RECOMMENDATION SYSTEM - Harsh Mudgil/Datasets/Users.csv')\n",
        "df_books = pd.read_csv('/content/gdrive/MyDrive/Colab Notebooks/Module 4: Machine Learning/Capstone Project - 2/BOOK RECOMMENDATION SYSTEM - Harsh Mudgil/Datasets/Books.csv')\n",
        "df_ratings = pd.read_csv('/content/gdrive/MyDrive/Colab Notebooks/Module 4: Machine Learning/Capstone Project - 2/BOOK RECOMMENDATION SYSTEM - Harsh Mudgil/Datasets/Ratings.csv')"
      ],
      "execution_count": 204,
      "outputs": []
    },
    {
      "cell_type": "markdown",
      "metadata": {
        "id": "34Dv8cxH3YBW"
      },
      "source": [
        "#Primary Inspection\n",
        "\n",
        "\n",
        "---\n",
        "\n"
      ]
    },
    {
      "cell_type": "markdown",
      "metadata": {
        "id": "uc4HScewY0_x"
      },
      "source": [
        "# On user data set"
      ]
    },
    {
      "cell_type": "code",
      "metadata": {
        "colab": {
          "base_uri": "https://localhost:8080/",
          "height": 204
        },
        "id": "LbqwEp9o3LeE",
        "outputId": "fe231c1c-a5a5-4157-858c-57ba0723bd1d"
      },
      "source": [
        "df_user.head()"
      ],
      "execution_count": 205,
      "outputs": [
        {
          "output_type": "execute_result",
          "data": {
            "text/html": [
              "<div>\n",
              "<style scoped>\n",
              "    .dataframe tbody tr th:only-of-type {\n",
              "        vertical-align: middle;\n",
              "    }\n",
              "\n",
              "    .dataframe tbody tr th {\n",
              "        vertical-align: top;\n",
              "    }\n",
              "\n",
              "    .dataframe thead th {\n",
              "        text-align: right;\n",
              "    }\n",
              "</style>\n",
              "<table border=\"1\" class=\"dataframe\">\n",
              "  <thead>\n",
              "    <tr style=\"text-align: right;\">\n",
              "      <th></th>\n",
              "      <th>User-ID</th>\n",
              "      <th>Location</th>\n",
              "      <th>Age</th>\n",
              "    </tr>\n",
              "  </thead>\n",
              "  <tbody>\n",
              "    <tr>\n",
              "      <th>0</th>\n",
              "      <td>1</td>\n",
              "      <td>nyc, new york, usa</td>\n",
              "      <td>NaN</td>\n",
              "    </tr>\n",
              "    <tr>\n",
              "      <th>1</th>\n",
              "      <td>2</td>\n",
              "      <td>stockton, california, usa</td>\n",
              "      <td>18.0</td>\n",
              "    </tr>\n",
              "    <tr>\n",
              "      <th>2</th>\n",
              "      <td>3</td>\n",
              "      <td>moscow, yukon territory, russia</td>\n",
              "      <td>NaN</td>\n",
              "    </tr>\n",
              "    <tr>\n",
              "      <th>3</th>\n",
              "      <td>4</td>\n",
              "      <td>porto, v.n.gaia, portugal</td>\n",
              "      <td>17.0</td>\n",
              "    </tr>\n",
              "    <tr>\n",
              "      <th>4</th>\n",
              "      <td>5</td>\n",
              "      <td>farnborough, hants, united kingdom</td>\n",
              "      <td>NaN</td>\n",
              "    </tr>\n",
              "  </tbody>\n",
              "</table>\n",
              "</div>"
            ],
            "text/plain": [
              "   User-ID                            Location   Age\n",
              "0        1                  nyc, new york, usa   NaN\n",
              "1        2           stockton, california, usa  18.0\n",
              "2        3     moscow, yukon territory, russia   NaN\n",
              "3        4           porto, v.n.gaia, portugal  17.0\n",
              "4        5  farnborough, hants, united kingdom   NaN"
            ]
          },
          "metadata": {},
          "execution_count": 205
        }
      ]
    },
    {
      "cell_type": "code",
      "metadata": {
        "colab": {
          "base_uri": "https://localhost:8080/"
        },
        "id": "6GQ1B6Jl3Vhx",
        "outputId": "ceeabbdb-30ef-496e-8deb-16d2e6b5d4a2"
      },
      "source": [
        "df_user.info()"
      ],
      "execution_count": 206,
      "outputs": [
        {
          "output_type": "stream",
          "name": "stdout",
          "text": [
            "<class 'pandas.core.frame.DataFrame'>\n",
            "RangeIndex: 278858 entries, 0 to 278857\n",
            "Data columns (total 3 columns):\n",
            " #   Column    Non-Null Count   Dtype  \n",
            "---  ------    --------------   -----  \n",
            " 0   User-ID   278858 non-null  int64  \n",
            " 1   Location  278858 non-null  object \n",
            " 2   Age       168096 non-null  float64\n",
            "dtypes: float64(1), int64(1), object(1)\n",
            "memory usage: 6.4+ MB\n"
          ]
        }
      ]
    },
    {
      "cell_type": "code",
      "metadata": {
        "colab": {
          "base_uri": "https://localhost:8080/",
          "height": 388
        },
        "id": "cRTVoyxF3jA1",
        "outputId": "0804213b-ebc4-479f-c936-2b1e1e716fdd"
      },
      "source": [
        "df_user.describe(include='all')"
      ],
      "execution_count": 207,
      "outputs": [
        {
          "output_type": "execute_result",
          "data": {
            "text/html": [
              "<div>\n",
              "<style scoped>\n",
              "    .dataframe tbody tr th:only-of-type {\n",
              "        vertical-align: middle;\n",
              "    }\n",
              "\n",
              "    .dataframe tbody tr th {\n",
              "        vertical-align: top;\n",
              "    }\n",
              "\n",
              "    .dataframe thead th {\n",
              "        text-align: right;\n",
              "    }\n",
              "</style>\n",
              "<table border=\"1\" class=\"dataframe\">\n",
              "  <thead>\n",
              "    <tr style=\"text-align: right;\">\n",
              "      <th></th>\n",
              "      <th>User-ID</th>\n",
              "      <th>Location</th>\n",
              "      <th>Age</th>\n",
              "    </tr>\n",
              "  </thead>\n",
              "  <tbody>\n",
              "    <tr>\n",
              "      <th>count</th>\n",
              "      <td>278858.00000</td>\n",
              "      <td>278858</td>\n",
              "      <td>168096.000000</td>\n",
              "    </tr>\n",
              "    <tr>\n",
              "      <th>unique</th>\n",
              "      <td>NaN</td>\n",
              "      <td>57339</td>\n",
              "      <td>NaN</td>\n",
              "    </tr>\n",
              "    <tr>\n",
              "      <th>top</th>\n",
              "      <td>NaN</td>\n",
              "      <td>london, england, united kingdom</td>\n",
              "      <td>NaN</td>\n",
              "    </tr>\n",
              "    <tr>\n",
              "      <th>freq</th>\n",
              "      <td>NaN</td>\n",
              "      <td>2506</td>\n",
              "      <td>NaN</td>\n",
              "    </tr>\n",
              "    <tr>\n",
              "      <th>mean</th>\n",
              "      <td>139429.50000</td>\n",
              "      <td>NaN</td>\n",
              "      <td>34.751434</td>\n",
              "    </tr>\n",
              "    <tr>\n",
              "      <th>std</th>\n",
              "      <td>80499.51502</td>\n",
              "      <td>NaN</td>\n",
              "      <td>14.428097</td>\n",
              "    </tr>\n",
              "    <tr>\n",
              "      <th>min</th>\n",
              "      <td>1.00000</td>\n",
              "      <td>NaN</td>\n",
              "      <td>0.000000</td>\n",
              "    </tr>\n",
              "    <tr>\n",
              "      <th>25%</th>\n",
              "      <td>69715.25000</td>\n",
              "      <td>NaN</td>\n",
              "      <td>24.000000</td>\n",
              "    </tr>\n",
              "    <tr>\n",
              "      <th>50%</th>\n",
              "      <td>139429.50000</td>\n",
              "      <td>NaN</td>\n",
              "      <td>32.000000</td>\n",
              "    </tr>\n",
              "    <tr>\n",
              "      <th>75%</th>\n",
              "      <td>209143.75000</td>\n",
              "      <td>NaN</td>\n",
              "      <td>44.000000</td>\n",
              "    </tr>\n",
              "    <tr>\n",
              "      <th>max</th>\n",
              "      <td>278858.00000</td>\n",
              "      <td>NaN</td>\n",
              "      <td>244.000000</td>\n",
              "    </tr>\n",
              "  </tbody>\n",
              "</table>\n",
              "</div>"
            ],
            "text/plain": [
              "             User-ID                         Location            Age\n",
              "count   278858.00000                           278858  168096.000000\n",
              "unique           NaN                            57339            NaN\n",
              "top              NaN  london, england, united kingdom            NaN\n",
              "freq             NaN                             2506            NaN\n",
              "mean    139429.50000                              NaN      34.751434\n",
              "std      80499.51502                              NaN      14.428097\n",
              "min          1.00000                              NaN       0.000000\n",
              "25%      69715.25000                              NaN      24.000000\n",
              "50%     139429.50000                              NaN      32.000000\n",
              "75%     209143.75000                              NaN      44.000000\n",
              "max     278858.00000                              NaN     244.000000"
            ]
          },
          "metadata": {},
          "execution_count": 207
        }
      ]
    },
    {
      "cell_type": "markdown",
      "metadata": {
        "id": "cUNVi-AlZNWd"
      },
      "source": [
        "# On Books data set"
      ]
    },
    {
      "cell_type": "code",
      "metadata": {
        "colab": {
          "base_uri": "https://localhost:8080/",
          "height": 372
        },
        "id": "j08ZKyQxZRvy",
        "outputId": "2eec7762-5629-4c32-9be4-aa8dfddea310"
      },
      "source": [
        "df_books.head()"
      ],
      "execution_count": 208,
      "outputs": [
        {
          "output_type": "execute_result",
          "data": {
            "text/html": [
              "<div>\n",
              "<style scoped>\n",
              "    .dataframe tbody tr th:only-of-type {\n",
              "        vertical-align: middle;\n",
              "    }\n",
              "\n",
              "    .dataframe tbody tr th {\n",
              "        vertical-align: top;\n",
              "    }\n",
              "\n",
              "    .dataframe thead th {\n",
              "        text-align: right;\n",
              "    }\n",
              "</style>\n",
              "<table border=\"1\" class=\"dataframe\">\n",
              "  <thead>\n",
              "    <tr style=\"text-align: right;\">\n",
              "      <th></th>\n",
              "      <th>ISBN</th>\n",
              "      <th>Book-Title</th>\n",
              "      <th>Book-Author</th>\n",
              "      <th>Year-Of-Publication</th>\n",
              "      <th>Publisher</th>\n",
              "      <th>Image-URL-S</th>\n",
              "      <th>Image-URL-M</th>\n",
              "      <th>Image-URL-L</th>\n",
              "    </tr>\n",
              "  </thead>\n",
              "  <tbody>\n",
              "    <tr>\n",
              "      <th>0</th>\n",
              "      <td>0195153448</td>\n",
              "      <td>Classical Mythology</td>\n",
              "      <td>Mark P. O. Morford</td>\n",
              "      <td>2002</td>\n",
              "      <td>Oxford University Press</td>\n",
              "      <td>http://images.amazon.com/images/P/0195153448.0...</td>\n",
              "      <td>http://images.amazon.com/images/P/0195153448.0...</td>\n",
              "      <td>http://images.amazon.com/images/P/0195153448.0...</td>\n",
              "    </tr>\n",
              "    <tr>\n",
              "      <th>1</th>\n",
              "      <td>0002005018</td>\n",
              "      <td>Clara Callan</td>\n",
              "      <td>Richard Bruce Wright</td>\n",
              "      <td>2001</td>\n",
              "      <td>HarperFlamingo Canada</td>\n",
              "      <td>http://images.amazon.com/images/P/0002005018.0...</td>\n",
              "      <td>http://images.amazon.com/images/P/0002005018.0...</td>\n",
              "      <td>http://images.amazon.com/images/P/0002005018.0...</td>\n",
              "    </tr>\n",
              "    <tr>\n",
              "      <th>2</th>\n",
              "      <td>0060973129</td>\n",
              "      <td>Decision in Normandy</td>\n",
              "      <td>Carlo D'Este</td>\n",
              "      <td>1991</td>\n",
              "      <td>HarperPerennial</td>\n",
              "      <td>http://images.amazon.com/images/P/0060973129.0...</td>\n",
              "      <td>http://images.amazon.com/images/P/0060973129.0...</td>\n",
              "      <td>http://images.amazon.com/images/P/0060973129.0...</td>\n",
              "    </tr>\n",
              "    <tr>\n",
              "      <th>3</th>\n",
              "      <td>0374157065</td>\n",
              "      <td>Flu: The Story of the Great Influenza Pandemic...</td>\n",
              "      <td>Gina Bari Kolata</td>\n",
              "      <td>1999</td>\n",
              "      <td>Farrar Straus Giroux</td>\n",
              "      <td>http://images.amazon.com/images/P/0374157065.0...</td>\n",
              "      <td>http://images.amazon.com/images/P/0374157065.0...</td>\n",
              "      <td>http://images.amazon.com/images/P/0374157065.0...</td>\n",
              "    </tr>\n",
              "    <tr>\n",
              "      <th>4</th>\n",
              "      <td>0393045218</td>\n",
              "      <td>The Mummies of Urumchi</td>\n",
              "      <td>E. J. W. Barber</td>\n",
              "      <td>1999</td>\n",
              "      <td>W. W. Norton &amp;amp; Company</td>\n",
              "      <td>http://images.amazon.com/images/P/0393045218.0...</td>\n",
              "      <td>http://images.amazon.com/images/P/0393045218.0...</td>\n",
              "      <td>http://images.amazon.com/images/P/0393045218.0...</td>\n",
              "    </tr>\n",
              "  </tbody>\n",
              "</table>\n",
              "</div>"
            ],
            "text/plain": [
              "         ISBN  ...                                        Image-URL-L\n",
              "0  0195153448  ...  http://images.amazon.com/images/P/0195153448.0...\n",
              "1  0002005018  ...  http://images.amazon.com/images/P/0002005018.0...\n",
              "2  0060973129  ...  http://images.amazon.com/images/P/0060973129.0...\n",
              "3  0374157065  ...  http://images.amazon.com/images/P/0374157065.0...\n",
              "4  0393045218  ...  http://images.amazon.com/images/P/0393045218.0...\n",
              "\n",
              "[5 rows x 8 columns]"
            ]
          },
          "metadata": {},
          "execution_count": 208
        }
      ]
    },
    {
      "cell_type": "code",
      "metadata": {
        "colab": {
          "base_uri": "https://localhost:8080/"
        },
        "id": "TD2OetBmZeSJ",
        "outputId": "01f916d6-7a27-4566-d69a-c3932082047f"
      },
      "source": [
        "df_books.info()"
      ],
      "execution_count": 209,
      "outputs": [
        {
          "output_type": "stream",
          "name": "stdout",
          "text": [
            "<class 'pandas.core.frame.DataFrame'>\n",
            "RangeIndex: 271360 entries, 0 to 271359\n",
            "Data columns (total 8 columns):\n",
            " #   Column               Non-Null Count   Dtype \n",
            "---  ------               --------------   ----- \n",
            " 0   ISBN                 271360 non-null  object\n",
            " 1   Book-Title           271360 non-null  object\n",
            " 2   Book-Author          271359 non-null  object\n",
            " 3   Year-Of-Publication  271360 non-null  object\n",
            " 4   Publisher            271358 non-null  object\n",
            " 5   Image-URL-S          271360 non-null  object\n",
            " 6   Image-URL-M          271360 non-null  object\n",
            " 7   Image-URL-L          271357 non-null  object\n",
            "dtypes: object(8)\n",
            "memory usage: 16.6+ MB\n"
          ]
        }
      ]
    },
    {
      "cell_type": "code",
      "metadata": {
        "colab": {
          "base_uri": "https://localhost:8080/",
          "height": 206
        },
        "id": "pyb07HipZtEw",
        "outputId": "544968f4-edbc-4eb9-d051-fc5cb581533f"
      },
      "source": [
        "df_books.describe(include='all')"
      ],
      "execution_count": 210,
      "outputs": [
        {
          "output_type": "execute_result",
          "data": {
            "text/html": [
              "<div>\n",
              "<style scoped>\n",
              "    .dataframe tbody tr th:only-of-type {\n",
              "        vertical-align: middle;\n",
              "    }\n",
              "\n",
              "    .dataframe tbody tr th {\n",
              "        vertical-align: top;\n",
              "    }\n",
              "\n",
              "    .dataframe thead th {\n",
              "        text-align: right;\n",
              "    }\n",
              "</style>\n",
              "<table border=\"1\" class=\"dataframe\">\n",
              "  <thead>\n",
              "    <tr style=\"text-align: right;\">\n",
              "      <th></th>\n",
              "      <th>ISBN</th>\n",
              "      <th>Book-Title</th>\n",
              "      <th>Book-Author</th>\n",
              "      <th>Year-Of-Publication</th>\n",
              "      <th>Publisher</th>\n",
              "      <th>Image-URL-S</th>\n",
              "      <th>Image-URL-M</th>\n",
              "      <th>Image-URL-L</th>\n",
              "    </tr>\n",
              "  </thead>\n",
              "  <tbody>\n",
              "    <tr>\n",
              "      <th>count</th>\n",
              "      <td>271360</td>\n",
              "      <td>271360</td>\n",
              "      <td>271359</td>\n",
              "      <td>271360</td>\n",
              "      <td>271358</td>\n",
              "      <td>271360</td>\n",
              "      <td>271360</td>\n",
              "      <td>271357</td>\n",
              "    </tr>\n",
              "    <tr>\n",
              "      <th>unique</th>\n",
              "      <td>271360</td>\n",
              "      <td>242135</td>\n",
              "      <td>102023</td>\n",
              "      <td>202</td>\n",
              "      <td>16807</td>\n",
              "      <td>271044</td>\n",
              "      <td>271044</td>\n",
              "      <td>271041</td>\n",
              "    </tr>\n",
              "    <tr>\n",
              "      <th>top</th>\n",
              "      <td>0446364371</td>\n",
              "      <td>Selected Poems</td>\n",
              "      <td>Agatha Christie</td>\n",
              "      <td>2002</td>\n",
              "      <td>Harlequin</td>\n",
              "      <td>http://images.amazon.com/images/P/034536208X.0...</td>\n",
              "      <td>http://images.amazon.com/images/P/037379116X.0...</td>\n",
              "      <td>http://images.amazon.com/images/P/038542471X.0...</td>\n",
              "    </tr>\n",
              "    <tr>\n",
              "      <th>freq</th>\n",
              "      <td>1</td>\n",
              "      <td>27</td>\n",
              "      <td>632</td>\n",
              "      <td>13903</td>\n",
              "      <td>7535</td>\n",
              "      <td>2</td>\n",
              "      <td>2</td>\n",
              "      <td>2</td>\n",
              "    </tr>\n",
              "  </tbody>\n",
              "</table>\n",
              "</div>"
            ],
            "text/plain": [
              "              ISBN  ...                                        Image-URL-L\n",
              "count       271360  ...                                             271357\n",
              "unique      271360  ...                                             271041\n",
              "top     0446364371  ...  http://images.amazon.com/images/P/038542471X.0...\n",
              "freq             1  ...                                                  2\n",
              "\n",
              "[4 rows x 8 columns]"
            ]
          },
          "metadata": {},
          "execution_count": 210
        }
      ]
    },
    {
      "cell_type": "markdown",
      "metadata": {
        "id": "HaF3Pi4Fx73a"
      },
      "source": [
        "# **Insight:** It looks like some book titles have more than one ISBN"
      ]
    },
    {
      "cell_type": "code",
      "metadata": {
        "colab": {
          "base_uri": "https://localhost:8080/",
          "height": 356
        },
        "id": "ktYO2NM51Pxv",
        "outputId": "b1a04e43-e385-45d2-f3e7-4f25fafb3315"
      },
      "source": [
        "df_books.loc[df_books['ISBN'].str.endswith('X')].head()"
      ],
      "execution_count": 211,
      "outputs": [
        {
          "output_type": "execute_result",
          "data": {
            "text/html": [
              "<div>\n",
              "<style scoped>\n",
              "    .dataframe tbody tr th:only-of-type {\n",
              "        vertical-align: middle;\n",
              "    }\n",
              "\n",
              "    .dataframe tbody tr th {\n",
              "        vertical-align: top;\n",
              "    }\n",
              "\n",
              "    .dataframe thead th {\n",
              "        text-align: right;\n",
              "    }\n",
              "</style>\n",
              "<table border=\"1\" class=\"dataframe\">\n",
              "  <thead>\n",
              "    <tr style=\"text-align: right;\">\n",
              "      <th></th>\n",
              "      <th>ISBN</th>\n",
              "      <th>Book-Title</th>\n",
              "      <th>Book-Author</th>\n",
              "      <th>Year-Of-Publication</th>\n",
              "      <th>Publisher</th>\n",
              "      <th>Image-URL-S</th>\n",
              "      <th>Image-URL-M</th>\n",
              "      <th>Image-URL-L</th>\n",
              "    </tr>\n",
              "  </thead>\n",
              "  <tbody>\n",
              "    <tr>\n",
              "      <th>9</th>\n",
              "      <td>074322678X</td>\n",
              "      <td>Where You'll Find Me: And Other Stories</td>\n",
              "      <td>Ann Beattie</td>\n",
              "      <td>2002</td>\n",
              "      <td>Scribner</td>\n",
              "      <td>http://images.amazon.com/images/P/074322678X.0...</td>\n",
              "      <td>http://images.amazon.com/images/P/074322678X.0...</td>\n",
              "      <td>http://images.amazon.com/images/P/074322678X.0...</td>\n",
              "    </tr>\n",
              "    <tr>\n",
              "      <th>11</th>\n",
              "      <td>080652121X</td>\n",
              "      <td>Hitler's Secret Bankers: The Myth of Swiss Neu...</td>\n",
              "      <td>Adam Lebor</td>\n",
              "      <td>2000</td>\n",
              "      <td>Citadel Press</td>\n",
              "      <td>http://images.amazon.com/images/P/080652121X.0...</td>\n",
              "      <td>http://images.amazon.com/images/P/080652121X.0...</td>\n",
              "      <td>http://images.amazon.com/images/P/080652121X.0...</td>\n",
              "    </tr>\n",
              "    <tr>\n",
              "      <th>40</th>\n",
              "      <td>038078243X</td>\n",
              "      <td>Miss Zukas and the Raven's Dance</td>\n",
              "      <td>Jo Dereske</td>\n",
              "      <td>1996</td>\n",
              "      <td>Avon</td>\n",
              "      <td>http://images.amazon.com/images/P/038078243X.0...</td>\n",
              "      <td>http://images.amazon.com/images/P/038078243X.0...</td>\n",
              "      <td>http://images.amazon.com/images/P/038078243X.0...</td>\n",
              "    </tr>\n",
              "    <tr>\n",
              "      <th>41</th>\n",
              "      <td>055321215X</td>\n",
              "      <td>Pride and Prejudice</td>\n",
              "      <td>Jane Austen</td>\n",
              "      <td>1983</td>\n",
              "      <td>Bantam</td>\n",
              "      <td>http://images.amazon.com/images/P/055321215X.0...</td>\n",
              "      <td>http://images.amazon.com/images/P/055321215X.0...</td>\n",
              "      <td>http://images.amazon.com/images/P/055321215X.0...</td>\n",
              "    </tr>\n",
              "    <tr>\n",
              "      <th>42</th>\n",
              "      <td>067176537X</td>\n",
              "      <td>The Therapeutic Touch: How to Use Your Hands t...</td>\n",
              "      <td>Dolores Krieger</td>\n",
              "      <td>1979</td>\n",
              "      <td>Fireside</td>\n",
              "      <td>http://images.amazon.com/images/P/067176537X.0...</td>\n",
              "      <td>http://images.amazon.com/images/P/067176537X.0...</td>\n",
              "      <td>http://images.amazon.com/images/P/067176537X.0...</td>\n",
              "    </tr>\n",
              "  </tbody>\n",
              "</table>\n",
              "</div>"
            ],
            "text/plain": [
              "          ISBN  ...                                        Image-URL-L\n",
              "9   074322678X  ...  http://images.amazon.com/images/P/074322678X.0...\n",
              "11  080652121X  ...  http://images.amazon.com/images/P/080652121X.0...\n",
              "40  038078243X  ...  http://images.amazon.com/images/P/038078243X.0...\n",
              "41  055321215X  ...  http://images.amazon.com/images/P/055321215X.0...\n",
              "42  067176537X  ...  http://images.amazon.com/images/P/067176537X.0...\n",
              "\n",
              "[5 rows x 8 columns]"
            ]
          },
          "metadata": {},
          "execution_count": 211
        }
      ]
    },
    {
      "cell_type": "code",
      "metadata": {
        "colab": {
          "base_uri": "https://localhost:8080/",
          "height": 196
        },
        "id": "271oLXZI3qw0",
        "outputId": "288256ae-f1db-4ef2-ea04-fbde9254ad36"
      },
      "source": [
        "#Titles with more than 1, ISBN code\n",
        "df_books[df_books['Book-Title'] == \"Where You'll Find Me: And Other Stories\"]"
      ],
      "execution_count": 212,
      "outputs": [
        {
          "output_type": "execute_result",
          "data": {
            "text/html": [
              "<div>\n",
              "<style scoped>\n",
              "    .dataframe tbody tr th:only-of-type {\n",
              "        vertical-align: middle;\n",
              "    }\n",
              "\n",
              "    .dataframe tbody tr th {\n",
              "        vertical-align: top;\n",
              "    }\n",
              "\n",
              "    .dataframe thead th {\n",
              "        text-align: right;\n",
              "    }\n",
              "</style>\n",
              "<table border=\"1\" class=\"dataframe\">\n",
              "  <thead>\n",
              "    <tr style=\"text-align: right;\">\n",
              "      <th></th>\n",
              "      <th>ISBN</th>\n",
              "      <th>Book-Title</th>\n",
              "      <th>Book-Author</th>\n",
              "      <th>Year-Of-Publication</th>\n",
              "      <th>Publisher</th>\n",
              "      <th>Image-URL-S</th>\n",
              "      <th>Image-URL-M</th>\n",
              "      <th>Image-URL-L</th>\n",
              "    </tr>\n",
              "  </thead>\n",
              "  <tbody>\n",
              "    <tr>\n",
              "      <th>9</th>\n",
              "      <td>074322678X</td>\n",
              "      <td>Where You'll Find Me: And Other Stories</td>\n",
              "      <td>Ann Beattie</td>\n",
              "      <td>2002</td>\n",
              "      <td>Scribner</td>\n",
              "      <td>http://images.amazon.com/images/P/074322678X.0...</td>\n",
              "      <td>http://images.amazon.com/images/P/074322678X.0...</td>\n",
              "      <td>http://images.amazon.com/images/P/074322678X.0...</td>\n",
              "    </tr>\n",
              "    <tr>\n",
              "      <th>213486</th>\n",
              "      <td>0684815109</td>\n",
              "      <td>Where You'll Find Me: And Other Stories</td>\n",
              "      <td>Ann Beattie</td>\n",
              "      <td>1996</td>\n",
              "      <td>Scribner Book Company</td>\n",
              "      <td>http://images.amazon.com/images/P/0684815109.0...</td>\n",
              "      <td>http://images.amazon.com/images/P/0684815109.0...</td>\n",
              "      <td>http://images.amazon.com/images/P/0684815109.0...</td>\n",
              "    </tr>\n",
              "  </tbody>\n",
              "</table>\n",
              "</div>"
            ],
            "text/plain": [
              "              ISBN  ...                                        Image-URL-L\n",
              "9       074322678X  ...  http://images.amazon.com/images/P/074322678X.0...\n",
              "213486  0684815109  ...  http://images.amazon.com/images/P/0684815109.0...\n",
              "\n",
              "[2 rows x 8 columns]"
            ]
          },
          "metadata": {},
          "execution_count": 212
        }
      ]
    },
    {
      "cell_type": "markdown",
      "metadata": {
        "id": "NDSxSBP84EfD"
      },
      "source": [
        "# **Insight:** Some book titles, with different publishing dates, have different ISBN"
      ]
    },
    {
      "cell_type": "code",
      "metadata": {
        "id": "36URsPBoGDNp"
      },
      "source": [
        "#Removing Duplicates\n",
        "#df_books.drop_duplicates('Book-Title', keep='first',inplace=True)"
      ],
      "execution_count": 213,
      "outputs": []
    },
    {
      "cell_type": "markdown",
      "metadata": {
        "id": "NZiIfGwg4Wfa"
      },
      "source": [
        "#On Ratings Data Set"
      ]
    },
    {
      "cell_type": "code",
      "metadata": {
        "colab": {
          "base_uri": "https://localhost:8080/",
          "height": 204
        },
        "id": "LpOxkqZH4Zmj",
        "outputId": "46401a89-8c18-49d7-c4fa-02a04c2791c1"
      },
      "source": [
        "df_ratings.head()"
      ],
      "execution_count": 214,
      "outputs": [
        {
          "output_type": "execute_result",
          "data": {
            "text/html": [
              "<div>\n",
              "<style scoped>\n",
              "    .dataframe tbody tr th:only-of-type {\n",
              "        vertical-align: middle;\n",
              "    }\n",
              "\n",
              "    .dataframe tbody tr th {\n",
              "        vertical-align: top;\n",
              "    }\n",
              "\n",
              "    .dataframe thead th {\n",
              "        text-align: right;\n",
              "    }\n",
              "</style>\n",
              "<table border=\"1\" class=\"dataframe\">\n",
              "  <thead>\n",
              "    <tr style=\"text-align: right;\">\n",
              "      <th></th>\n",
              "      <th>User-ID</th>\n",
              "      <th>ISBN</th>\n",
              "      <th>Book-Rating</th>\n",
              "    </tr>\n",
              "  </thead>\n",
              "  <tbody>\n",
              "    <tr>\n",
              "      <th>0</th>\n",
              "      <td>276725</td>\n",
              "      <td>034545104X</td>\n",
              "      <td>0</td>\n",
              "    </tr>\n",
              "    <tr>\n",
              "      <th>1</th>\n",
              "      <td>276726</td>\n",
              "      <td>0155061224</td>\n",
              "      <td>5</td>\n",
              "    </tr>\n",
              "    <tr>\n",
              "      <th>2</th>\n",
              "      <td>276727</td>\n",
              "      <td>0446520802</td>\n",
              "      <td>0</td>\n",
              "    </tr>\n",
              "    <tr>\n",
              "      <th>3</th>\n",
              "      <td>276729</td>\n",
              "      <td>052165615X</td>\n",
              "      <td>3</td>\n",
              "    </tr>\n",
              "    <tr>\n",
              "      <th>4</th>\n",
              "      <td>276729</td>\n",
              "      <td>0521795028</td>\n",
              "      <td>6</td>\n",
              "    </tr>\n",
              "  </tbody>\n",
              "</table>\n",
              "</div>"
            ],
            "text/plain": [
              "   User-ID        ISBN  Book-Rating\n",
              "0   276725  034545104X            0\n",
              "1   276726  0155061224            5\n",
              "2   276727  0446520802            0\n",
              "3   276729  052165615X            3\n",
              "4   276729  0521795028            6"
            ]
          },
          "metadata": {},
          "execution_count": 214
        }
      ]
    },
    {
      "cell_type": "code",
      "metadata": {
        "colab": {
          "base_uri": "https://localhost:8080/"
        },
        "id": "ZnnADxboCoQS",
        "outputId": "b9334b31-213a-4146-f44a-c3f0b443c420"
      },
      "source": [
        "df_ratings.info()"
      ],
      "execution_count": 215,
      "outputs": [
        {
          "output_type": "stream",
          "name": "stdout",
          "text": [
            "<class 'pandas.core.frame.DataFrame'>\n",
            "RangeIndex: 1149780 entries, 0 to 1149779\n",
            "Data columns (total 3 columns):\n",
            " #   Column       Non-Null Count    Dtype \n",
            "---  ------       --------------    ----- \n",
            " 0   User-ID      1149780 non-null  int64 \n",
            " 1   ISBN         1149780 non-null  object\n",
            " 2   Book-Rating  1149780 non-null  int64 \n",
            "dtypes: int64(2), object(1)\n",
            "memory usage: 26.3+ MB\n"
          ]
        }
      ]
    },
    {
      "cell_type": "code",
      "metadata": {
        "colab": {
          "base_uri": "https://localhost:8080/",
          "height": 388
        },
        "id": "GbV6NtoA4k3j",
        "outputId": "a21d21aa-9704-43a6-cfae-145d784b4c44"
      },
      "source": [
        "df_ratings.describe(include='all')"
      ],
      "execution_count": 216,
      "outputs": [
        {
          "output_type": "execute_result",
          "data": {
            "text/html": [
              "<div>\n",
              "<style scoped>\n",
              "    .dataframe tbody tr th:only-of-type {\n",
              "        vertical-align: middle;\n",
              "    }\n",
              "\n",
              "    .dataframe tbody tr th {\n",
              "        vertical-align: top;\n",
              "    }\n",
              "\n",
              "    .dataframe thead th {\n",
              "        text-align: right;\n",
              "    }\n",
              "</style>\n",
              "<table border=\"1\" class=\"dataframe\">\n",
              "  <thead>\n",
              "    <tr style=\"text-align: right;\">\n",
              "      <th></th>\n",
              "      <th>User-ID</th>\n",
              "      <th>ISBN</th>\n",
              "      <th>Book-Rating</th>\n",
              "    </tr>\n",
              "  </thead>\n",
              "  <tbody>\n",
              "    <tr>\n",
              "      <th>count</th>\n",
              "      <td>1.149780e+06</td>\n",
              "      <td>1149780</td>\n",
              "      <td>1.149780e+06</td>\n",
              "    </tr>\n",
              "    <tr>\n",
              "      <th>unique</th>\n",
              "      <td>NaN</td>\n",
              "      <td>340556</td>\n",
              "      <td>NaN</td>\n",
              "    </tr>\n",
              "    <tr>\n",
              "      <th>top</th>\n",
              "      <td>NaN</td>\n",
              "      <td>0971880107</td>\n",
              "      <td>NaN</td>\n",
              "    </tr>\n",
              "    <tr>\n",
              "      <th>freq</th>\n",
              "      <td>NaN</td>\n",
              "      <td>2502</td>\n",
              "      <td>NaN</td>\n",
              "    </tr>\n",
              "    <tr>\n",
              "      <th>mean</th>\n",
              "      <td>1.403864e+05</td>\n",
              "      <td>NaN</td>\n",
              "      <td>2.866950e+00</td>\n",
              "    </tr>\n",
              "    <tr>\n",
              "      <th>std</th>\n",
              "      <td>8.056228e+04</td>\n",
              "      <td>NaN</td>\n",
              "      <td>3.854184e+00</td>\n",
              "    </tr>\n",
              "    <tr>\n",
              "      <th>min</th>\n",
              "      <td>2.000000e+00</td>\n",
              "      <td>NaN</td>\n",
              "      <td>0.000000e+00</td>\n",
              "    </tr>\n",
              "    <tr>\n",
              "      <th>25%</th>\n",
              "      <td>7.034500e+04</td>\n",
              "      <td>NaN</td>\n",
              "      <td>0.000000e+00</td>\n",
              "    </tr>\n",
              "    <tr>\n",
              "      <th>50%</th>\n",
              "      <td>1.410100e+05</td>\n",
              "      <td>NaN</td>\n",
              "      <td>0.000000e+00</td>\n",
              "    </tr>\n",
              "    <tr>\n",
              "      <th>75%</th>\n",
              "      <td>2.110280e+05</td>\n",
              "      <td>NaN</td>\n",
              "      <td>7.000000e+00</td>\n",
              "    </tr>\n",
              "    <tr>\n",
              "      <th>max</th>\n",
              "      <td>2.788540e+05</td>\n",
              "      <td>NaN</td>\n",
              "      <td>1.000000e+01</td>\n",
              "    </tr>\n",
              "  </tbody>\n",
              "</table>\n",
              "</div>"
            ],
            "text/plain": [
              "             User-ID        ISBN   Book-Rating\n",
              "count   1.149780e+06     1149780  1.149780e+06\n",
              "unique           NaN      340556           NaN\n",
              "top              NaN  0971880107           NaN\n",
              "freq             NaN        2502           NaN\n",
              "mean    1.403864e+05         NaN  2.866950e+00\n",
              "std     8.056228e+04         NaN  3.854184e+00\n",
              "min     2.000000e+00         NaN  0.000000e+00\n",
              "25%     7.034500e+04         NaN  0.000000e+00\n",
              "50%     1.410100e+05         NaN  0.000000e+00\n",
              "75%     2.110280e+05         NaN  7.000000e+00\n",
              "max     2.788540e+05         NaN  1.000000e+01"
            ]
          },
          "metadata": {},
          "execution_count": 216
        }
      ]
    },
    {
      "cell_type": "code",
      "metadata": {
        "colab": {
          "base_uri": "https://localhost:8080/",
          "height": 114
        },
        "id": "Tb0LP-gr5C0J",
        "outputId": "53eb82ed-817a-45c7-c339-d3d63c452d4a"
      },
      "source": [
        "#Most frequently rated book\n",
        "df_books[df_books['ISBN']=='0971880107']"
      ],
      "execution_count": 217,
      "outputs": [
        {
          "output_type": "execute_result",
          "data": {
            "text/html": [
              "<div>\n",
              "<style scoped>\n",
              "    .dataframe tbody tr th:only-of-type {\n",
              "        vertical-align: middle;\n",
              "    }\n",
              "\n",
              "    .dataframe tbody tr th {\n",
              "        vertical-align: top;\n",
              "    }\n",
              "\n",
              "    .dataframe thead th {\n",
              "        text-align: right;\n",
              "    }\n",
              "</style>\n",
              "<table border=\"1\" class=\"dataframe\">\n",
              "  <thead>\n",
              "    <tr style=\"text-align: right;\">\n",
              "      <th></th>\n",
              "      <th>ISBN</th>\n",
              "      <th>Book-Title</th>\n",
              "      <th>Book-Author</th>\n",
              "      <th>Year-Of-Publication</th>\n",
              "      <th>Publisher</th>\n",
              "      <th>Image-URL-S</th>\n",
              "      <th>Image-URL-M</th>\n",
              "      <th>Image-URL-L</th>\n",
              "    </tr>\n",
              "  </thead>\n",
              "  <tbody>\n",
              "    <tr>\n",
              "      <th>26</th>\n",
              "      <td>0971880107</td>\n",
              "      <td>Wild Animus</td>\n",
              "      <td>Rich Shapero</td>\n",
              "      <td>2004</td>\n",
              "      <td>Too Far</td>\n",
              "      <td>http://images.amazon.com/images/P/0971880107.0...</td>\n",
              "      <td>http://images.amazon.com/images/P/0971880107.0...</td>\n",
              "      <td>http://images.amazon.com/images/P/0971880107.0...</td>\n",
              "    </tr>\n",
              "  </tbody>\n",
              "</table>\n",
              "</div>"
            ],
            "text/plain": [
              "          ISBN  ...                                        Image-URL-L\n",
              "26  0971880107  ...  http://images.amazon.com/images/P/0971880107.0...\n",
              "\n",
              "[1 rows x 8 columns]"
            ]
          },
          "metadata": {},
          "execution_count": 217
        }
      ]
    },
    {
      "cell_type": "code",
      "metadata": {
        "id": "Xf-MrCGg-WLf"
      },
      "source": [
        "df_books.drop(['Image-URL-S','Image-URL-M','Image-URL-L'],axis=1,inplace=True)"
      ],
      "execution_count": 218,
      "outputs": []
    },
    {
      "cell_type": "code",
      "metadata": {
        "colab": {
          "base_uri": "https://localhost:8080/"
        },
        "id": "jyAtoPjx5M7F",
        "outputId": "26eaf060-a532-4c0e-9033-c3736b5ba040"
      },
      "source": [
        "#Average rating of most frequently rated book\n",
        "df_ratings[df_ratings['Book-Rating']!=0].groupby('ISBN')['Book-Rating'].mean()['0971880107']"
      ],
      "execution_count": 219,
      "outputs": [
        {
          "output_type": "execute_result",
          "data": {
            "text/plain": [
              "4.3907056798623065"
            ]
          },
          "metadata": {},
          "execution_count": 219
        }
      ]
    },
    {
      "cell_type": "markdown",
      "metadata": {
        "id": "9_MBjS5W48TM"
      },
      "source": [
        "#**Insights:**\n",
        "# 1. Most frequently rated book is: Wild Animus, by Rich Shapero\n",
        "# 2. Average rating of the most frequently rated book is: 4.4/10"
      ]
    },
    {
      "cell_type": "markdown",
      "metadata": {
        "id": "5pTkjY9aSn1B"
      },
      "source": [
        "#Feature Engineering\n",
        "Since we are merging data sets and creating new columns, missing values will be handeled latter"
      ]
    },
    {
      "cell_type": "code",
      "metadata": {
        "id": "OHm8-qiX5FSs"
      },
      "source": [
        "def get_country(x):\n",
        "  return x.split(',')[-1]"
      ],
      "execution_count": 220,
      "outputs": []
    },
    {
      "cell_type": "code",
      "metadata": {
        "id": "Us4neRqX3vAQ"
      },
      "source": [
        "df_location = df_user.copy(deep=True)\n",
        "df_location['country'] = df_user['Location'].apply(get_country)"
      ],
      "execution_count": 221,
      "outputs": []
    },
    {
      "cell_type": "code",
      "metadata": {
        "id": "khhXJeER9fUV"
      },
      "source": [
        "df_merged = df_ratings.merge(df_books,how='inner',on='ISBN')\n",
        "df_merged = df_merged.merge(df_user,how='inner',on='User-ID')\n",
        "df_merged['Location'] = df_merged['Location'].apply(get_country)"
      ],
      "execution_count": 222,
      "outputs": []
    },
    {
      "cell_type": "code",
      "metadata": {
        "colab": {
          "base_uri": "https://localhost:8080/"
        },
        "id": "-yvRQvLNUeD7",
        "outputId": "46020ca1-24ee-4e68-aa9a-0c3e6a2824fe"
      },
      "source": [
        "df_merged.shape"
      ],
      "execution_count": 223,
      "outputs": [
        {
          "output_type": "execute_result",
          "data": {
            "text/plain": [
              "(1031136, 9)"
            ]
          },
          "metadata": {},
          "execution_count": 223
        }
      ]
    },
    {
      "cell_type": "code",
      "metadata": {
        "id": "E5C1FWeYSs47"
      },
      "source": [
        "df_merged['Title-Lenght'] = df_merged['Book-Title'].apply(len)"
      ],
      "execution_count": 224,
      "outputs": []
    },
    {
      "cell_type": "code",
      "metadata": {
        "id": "ngS6LHMauulf"
      },
      "source": [
        "df_merged['Year-Of-Publication'] = pd.to_numeric(df_merged['Year-Of-Publication'], errors='coerce').fillna(2099, downcast = 'infer')"
      ],
      "execution_count": 225,
      "outputs": []
    },
    {
      "cell_type": "markdown",
      "metadata": {
        "id": "SSf8OI5jwwvq"
      },
      "source": [
        "#Capping the outlier"
      ]
    },
    {
      "cell_type": "code",
      "metadata": {
        "id": "gA0Y6J51wzof"
      },
      "source": [
        "df_merged['Age'] = np.where(df_merged['Age']>90, None, df_merged['Age'])"
      ],
      "execution_count": 226,
      "outputs": []
    },
    {
      "cell_type": "markdown",
      "metadata": {
        "id": "erdh-aXM3Nnz"
      },
      "source": [
        "#Handeling Missing Values"
      ]
    },
    {
      "cell_type": "code",
      "metadata": {
        "id": "0kmUq7eP_wx_"
      },
      "source": [
        "#Dealing with empty strings\n",
        "df_user.replace('', np.nan, inplace=True)\n",
        "df_books.replace('', np.nan, inplace=True)\n",
        "df_ratings.replace('', np.nan, inplace=True)\n",
        "df_location.replace('', np.nan, inplace=True)\n",
        "df_merged.replace('', np.nan, inplace=True)"
      ],
      "execution_count": 227,
      "outputs": []
    },
    {
      "cell_type": "code",
      "metadata": {
        "id": "MlnTr7883Sa2"
      },
      "source": [
        "# Missing Value Count Function\n",
        "def show_missing(y):\n",
        "    missing = y.columns[y.isnull().any()].tolist()\n",
        "    return missing\n",
        "\n",
        "def print_missing(x):\n",
        "  # Missing data counts and percentage\n",
        "  print('Missing Data Count')\n",
        "  print(x[show_missing(x)].isnull().sum().sort_values(ascending = False))\n",
        "  print('--'*50)\n",
        "  print('Missing Data Percentage')\n",
        "  print(round(x[show_missing(x)].isnull().sum().sort_values(ascending = False)/len(x)*100,2))"
      ],
      "execution_count": 228,
      "outputs": []
    },
    {
      "cell_type": "code",
      "metadata": {
        "colab": {
          "base_uri": "https://localhost:8080/"
        },
        "id": "LcfCfUOs3tv2",
        "outputId": "56c0f290-718a-4e17-b139-7c3c364adddd"
      },
      "source": [
        "print_missing(df_user)"
      ],
      "execution_count": 229,
      "outputs": [
        {
          "output_type": "stream",
          "name": "stdout",
          "text": [
            "Missing Data Count\n",
            "Age    110762\n",
            "dtype: int64\n",
            "----------------------------------------------------------------------------------------------------\n",
            "Missing Data Percentage\n",
            "Age    39.72\n",
            "dtype: float64\n"
          ]
        }
      ]
    },
    {
      "cell_type": "code",
      "metadata": {
        "colab": {
          "base_uri": "https://localhost:8080/"
        },
        "id": "ubqoKvdy5S5b",
        "outputId": "8278d1c3-1f65-428d-8fd6-0d4e5577fd9f"
      },
      "source": [
        "print_missing(df_books)"
      ],
      "execution_count": 230,
      "outputs": [
        {
          "output_type": "stream",
          "name": "stdout",
          "text": [
            "Missing Data Count\n",
            "Publisher      2\n",
            "Book-Author    1\n",
            "dtype: int64\n",
            "----------------------------------------------------------------------------------------------------\n",
            "Missing Data Percentage\n",
            "Publisher      0.0\n",
            "Book-Author    0.0\n",
            "dtype: float64\n"
          ]
        }
      ]
    },
    {
      "cell_type": "code",
      "metadata": {
        "colab": {
          "base_uri": "https://localhost:8080/"
        },
        "id": "JV5_-wKP5Va8",
        "outputId": "434bd417-77ed-448b-d285-f9b6b7766959"
      },
      "source": [
        "print_missing(df_ratings)"
      ],
      "execution_count": 231,
      "outputs": [
        {
          "output_type": "stream",
          "name": "stdout",
          "text": [
            "Missing Data Count\n",
            "Series([], dtype: float64)\n",
            "----------------------------------------------------------------------------------------------------\n",
            "Missing Data Percentage\n",
            "Series([], dtype: float64)\n"
          ]
        }
      ]
    },
    {
      "cell_type": "code",
      "metadata": {
        "colab": {
          "base_uri": "https://localhost:8080/"
        },
        "id": "an0RckZ0A3Ve",
        "outputId": "cc071d09-6e61-49b9-8180-d276be7c2626"
      },
      "source": [
        "print_missing(df_location)"
      ],
      "execution_count": 232,
      "outputs": [
        {
          "output_type": "stream",
          "name": "stdout",
          "text": [
            "Missing Data Count\n",
            "Age        110762\n",
            "country      4578\n",
            "dtype: int64\n",
            "----------------------------------------------------------------------------------------------------\n",
            "Missing Data Percentage\n",
            "Age        39.72\n",
            "country     1.64\n",
            "dtype: float64\n"
          ]
        }
      ]
    },
    {
      "cell_type": "code",
      "metadata": {
        "colab": {
          "base_uri": "https://localhost:8080/"
        },
        "id": "AZR3YX3yPpLW",
        "outputId": "e1184e0e-08fb-4ae5-d9df-5730fb54cb7d"
      },
      "source": [
        "print_missing(df_merged)"
      ],
      "execution_count": 233,
      "outputs": [
        {
          "output_type": "stream",
          "name": "stdout",
          "text": [
            "Missing Data Count\n",
            "Age            281090\n",
            "Location        24259\n",
            "Publisher           2\n",
            "Book-Author         1\n",
            "dtype: int64\n",
            "----------------------------------------------------------------------------------------------------\n",
            "Missing Data Percentage\n",
            "Age            27.26\n",
            "Location        2.35\n",
            "Publisher       0.00\n",
            "Book-Author     0.00\n",
            "dtype: float64\n"
          ]
        }
      ]
    },
    {
      "cell_type": "code",
      "metadata": {
        "id": "yxz4MdSnviN2"
      },
      "source": [
        "df_merged[['Book-Author', 'Publisher']] = df_merged[['Book-Author', 'Publisher']].fillna('Unknown')"
      ],
      "execution_count": 234,
      "outputs": []
    },
    {
      "cell_type": "code",
      "metadata": {
        "id": "juYZwOGev0Yq"
      },
      "source": [
        "median = df_merged[\"Age\"].median()\n",
        "std = df_merged[\"Age\"].std()\n",
        "is_null = df_merged[\"Age\"].isnull().sum()"
      ],
      "execution_count": 235,
      "outputs": []
    },
    {
      "cell_type": "code",
      "metadata": {
        "id": "fN-9sLwpv1mN"
      },
      "source": [
        "import random\n",
        "random.seed(25)\n",
        "rand_age = np.random.randint(median - std, median + std, size = is_null)"
      ],
      "execution_count": 236,
      "outputs": []
    },
    {
      "cell_type": "code",
      "metadata": {
        "id": "j-eQvZ2-vwSx"
      },
      "source": [
        "age_slice = df_merged[\"Age\"].copy()\n",
        "age_slice[pd.isnull(age_slice)] = rand_age\n",
        "df_merged[\"Age\"] = age_slice\n",
        "df_merged[\"Age\"] = df_merged[\"Age\"].astype(int)"
      ],
      "execution_count": 237,
      "outputs": []
    },
    {
      "cell_type": "code",
      "metadata": {
        "colab": {
          "base_uri": "https://localhost:8080/"
        },
        "id": "JftRp7bwxl8I",
        "outputId": "1f45c9ba-bba5-433f-9e7f-a75bfcd68f57"
      },
      "source": [
        "print_missing(df_merged) #Important missing Data has been delt with"
      ],
      "execution_count": 238,
      "outputs": [
        {
          "output_type": "stream",
          "name": "stdout",
          "text": [
            "Missing Data Count\n",
            "Location    24259\n",
            "dtype: int64\n",
            "----------------------------------------------------------------------------------------------------\n",
            "Missing Data Percentage\n",
            "Location    2.35\n",
            "dtype: float64\n"
          ]
        }
      ]
    },
    {
      "cell_type": "markdown",
      "metadata": {
        "id": "s04-aMOJr_1i"
      },
      "source": [
        "#Preparing the Dataset: Dealing with coldstart problem"
      ]
    },
    {
      "cell_type": "code",
      "metadata": {
        "colab": {
          "base_uri": "https://localhost:8080/"
        },
        "id": "0aAFXG34lEDF",
        "outputId": "f794acb1-5c1c-44e9-938a-095dd4f8c31a"
      },
      "source": [
        "df_merged['User-ID'].nunique()"
      ],
      "execution_count": 239,
      "outputs": [
        {
          "output_type": "execute_result",
          "data": {
            "text/plain": [
              "92106"
            ]
          },
          "metadata": {},
          "execution_count": 239
        }
      ]
    },
    {
      "cell_type": "code",
      "metadata": {
        "id": "1WIMQuA4twDN"
      },
      "source": [
        "#Removing 0 ratings\n",
        "df_merged_updated = df_merged[df_merged['Book-Rating']!=0]"
      ],
      "execution_count": 240,
      "outputs": []
    },
    {
      "cell_type": "code",
      "metadata": {
        "id": "WG6uTXEdmFpi"
      },
      "source": [
        "#  df_merged_updated = df_merged[df_merged.groupby('Book-Title')['Book-Title'].transform(len) > 19]"
      ],
      "execution_count": 241,
      "outputs": []
    },
    {
      "cell_type": "code",
      "metadata": {
        "id": "SQuhMFhBcOX5"
      },
      "source": [
        "#Selecting Books which have been rated more than 8 times\n",
        "v = df_merged_updated['ISBN'].value_counts()\n",
        "df_merged_updated = df_merged_updated[df_merged_updated['ISBN'].isin(v.index[v.gt(3)])]"
      ],
      "execution_count": 242,
      "outputs": []
    },
    {
      "cell_type": "code",
      "metadata": {
        "id": "Z84HG42VBrZa"
      },
      "source": [
        "#Selecting users which rated more than 4 Users\n",
        "u = df_merged_updated['User-ID'].value_counts()\n",
        "df_merged_updated = df_merged_updated[df_merged_updated['User-ID'].isin(u.index[u.gt(4)])]"
      ],
      "execution_count": 243,
      "outputs": []
    },
    {
      "cell_type": "markdown",
      "metadata": {
        "id": "urTish3Qsz3x"
      },
      "source": [
        "#For the given Dataset, we will make recommendations for rank 0 (implicit) users latter on.\n",
        "\n",
        "On the given data set, using a collaborative filltering aproach, we are able to produce quality recommendations for a subset of the users, who have rated the content.\n",
        "\n",
        "Recommendations should be relevant, otherwise they can cause nuisance to the user."
      ]
    },
    {
      "cell_type": "markdown",
      "metadata": {
        "id": "RsFLvirVCEVx"
      },
      "source": [
        "#Exploratory Data Analysis\n",
        "\n",
        "\n",
        "---\n",
        "\n"
      ]
    },
    {
      "cell_type": "code",
      "metadata": {
        "colab": {
          "base_uri": "https://localhost:8080/"
        },
        "id": "mMCYvS2Eq8o0",
        "outputId": "c9a428ec-fb27-4496-f849-06f037671036"
      },
      "source": [
        "print('Number of books: ', df_merged['ISBN'].nunique())"
      ],
      "execution_count": 244,
      "outputs": [
        {
          "output_type": "stream",
          "name": "stdout",
          "text": [
            "Number of books:  270151\n"
          ]
        }
      ]
    },
    {
      "cell_type": "code",
      "metadata": {
        "colab": {
          "base_uri": "https://localhost:8080/"
        },
        "id": "1bQziPebrTj2",
        "outputId": "e69790e3-abec-474b-df86-b9a83f8e2491"
      },
      "source": [
        "print('Number of users: ',df_merged['User-ID'].nunique())"
      ],
      "execution_count": 245,
      "outputs": [
        {
          "output_type": "stream",
          "name": "stdout",
          "text": [
            "Number of users:  92106\n"
          ]
        }
      ]
    },
    {
      "cell_type": "code",
      "metadata": {
        "colab": {
          "base_uri": "https://localhost:8080/"
        },
        "id": "q6KoEpzNrsL_",
        "outputId": "c9c85147-62a6-41b0-c7de-445686d835f9"
      },
      "source": [
        "print('Number of outliers: ', sum(df_merged['Age'] > 100))"
      ],
      "execution_count": 246,
      "outputs": [
        {
          "output_type": "stream",
          "name": "stdout",
          "text": [
            "Number of outliers:  0\n"
          ]
        }
      ]
    },
    {
      "cell_type": "code",
      "metadata": {
        "colab": {
          "base_uri": "https://localhost:8080/",
          "height": 542
        },
        "id": "l61oIVj2r7af",
        "outputId": "f8a480f3-fea0-4199-b64b-1d479d4ee8b5"
      },
      "source": [
        "sns.set(rc={'figure.figsize':(11.7,8.27)})\n",
        "df_merged_0 = df_merged[df_merged['Book-Rating']!=0]\n",
        "sns.countplot(x='Book-Rating', data=df_merged_0).set_title('Ratings-Density Plot', weight='bold').set_fontsize('25')"
      ],
      "execution_count": 247,
      "outputs": [
        {
          "output_type": "display_data",
          "data": {
            "image/png": "[encoded data removed]",
            "text/plain": [
              "<Figure size 842.4x595.44 with 1 Axes>"
            ]
          },
          "metadata": {}
        }
      ]
    },
    {
      "cell_type": "code",
      "metadata": {
        "colab": {
          "base_uri": "https://localhost:8080/"
        },
        "id": "Z_bqFuN9sEHH",
        "outputId": "8b055700-0e12-4470-cf2b-27ff15f4ffa3"
      },
      "source": [
        "print('Average book rating: ', round(df_merged['Book-Rating'].mean(), 2))"
      ],
      "execution_count": 248,
      "outputs": [
        {
          "output_type": "stream",
          "name": "stdout",
          "text": [
            "Average book rating:  2.84\n"
          ]
        }
      ]
    },
    {
      "cell_type": "code",
      "metadata": {
        "colab": {
          "base_uri": "https://localhost:8080/",
          "height": 542
        },
        "id": "Xe0yDWO-sK-G",
        "outputId": "39f84831-41fa-4265-f696-f29a3df0bd19"
      },
      "source": [
        "year = pd.to_numeric(df_merged['Year-Of-Publication'], errors='coerce').fillna(2099, downcast = 'infer')\n",
        "sns.distplot(year, kde=False, hist_kws={\"range\": [1945,2020]},).set_title('Year of Publication-Density Plot', weight='bold').set_fontsize('25')"
      ],
      "execution_count": 249,
      "outputs": [
        {
          "output_type": "display_data",
          "data": {
            "image/png": "[encoded data removed]",
            "text/plain": [
              "<Figure size 842.4x595.44 with 1 Axes>"
            ]
          },
          "metadata": {}
        }
      ]
    },
    {
      "cell_type": "markdown",
      "metadata": {
        "id": "u94Z3iUHCLcK"
      },
      "source": [
        "#Customer Geography Analysis"
      ]
    },
    {
      "cell_type": "code",
      "metadata": {
        "colab": {
          "base_uri": "https://localhost:8080/",
          "height": 204
        },
        "id": "6yGdUrXaE3xR",
        "outputId": "ad5b6d8c-8dd0-4438-a1bc-6b0eb636b4d5"
      },
      "source": [
        "#Extracting customer country\n",
        "df_location.head()"
      ],
      "execution_count": 250,
      "outputs": [
        {
          "output_type": "execute_result",
          "data": {
            "text/html": [
              "<div>\n",
              "<style scoped>\n",
              "    .dataframe tbody tr th:only-of-type {\n",
              "        vertical-align: middle;\n",
              "    }\n",
              "\n",
              "    .dataframe tbody tr th {\n",
              "        vertical-align: top;\n",
              "    }\n",
              "\n",
              "    .dataframe thead th {\n",
              "        text-align: right;\n",
              "    }\n",
              "</style>\n",
              "<table border=\"1\" class=\"dataframe\">\n",
              "  <thead>\n",
              "    <tr style=\"text-align: right;\">\n",
              "      <th></th>\n",
              "      <th>User-ID</th>\n",
              "      <th>Location</th>\n",
              "      <th>Age</th>\n",
              "      <th>country</th>\n",
              "    </tr>\n",
              "  </thead>\n",
              "  <tbody>\n",
              "    <tr>\n",
              "      <th>0</th>\n",
              "      <td>1</td>\n",
              "      <td>nyc, new york, usa</td>\n",
              "      <td>NaN</td>\n",
              "      <td>usa</td>\n",
              "    </tr>\n",
              "    <tr>\n",
              "      <th>1</th>\n",
              "      <td>2</td>\n",
              "      <td>stockton, california, usa</td>\n",
              "      <td>18.0</td>\n",
              "      <td>usa</td>\n",
              "    </tr>\n",
              "    <tr>\n",
              "      <th>2</th>\n",
              "      <td>3</td>\n",
              "      <td>moscow, yukon territory, russia</td>\n",
              "      <td>NaN</td>\n",
              "      <td>russia</td>\n",
              "    </tr>\n",
              "    <tr>\n",
              "      <th>3</th>\n",
              "      <td>4</td>\n",
              "      <td>porto, v.n.gaia, portugal</td>\n",
              "      <td>17.0</td>\n",
              "      <td>portugal</td>\n",
              "    </tr>\n",
              "    <tr>\n",
              "      <th>4</th>\n",
              "      <td>5</td>\n",
              "      <td>farnborough, hants, united kingdom</td>\n",
              "      <td>NaN</td>\n",
              "      <td>united kingdom</td>\n",
              "    </tr>\n",
              "  </tbody>\n",
              "</table>\n",
              "</div>"
            ],
            "text/plain": [
              "   User-ID                            Location   Age          country\n",
              "0        1                  nyc, new york, usa   NaN              usa\n",
              "1        2           stockton, california, usa  18.0              usa\n",
              "2        3     moscow, yukon territory, russia   NaN           russia\n",
              "3        4           porto, v.n.gaia, portugal  17.0         portugal\n",
              "4        5  farnborough, hants, united kingdom   NaN   united kingdom"
            ]
          },
          "metadata": {},
          "execution_count": 250
        }
      ]
    },
    {
      "cell_type": "code",
      "metadata": {
        "id": "gqL3sL6TGV07"
      },
      "source": [
        "#Identifying what % of customers are coming from different countries\n",
        "df_location = pd.DataFrame(df_location.country.value_counts(normalize=True)).reset_index()\n",
        "df_location.columns = ['countries','value_counts']\n",
        "\n",
        "#Labeling countries with low customer % as other\n",
        "df_location['countries'] = df_location.apply(lambda x: 'other' if (x['value_counts'] < 0.01 or x['countries'] == '') else x['countries'],axis=1)\n",
        "\n",
        "#Grouping the customer % from 'other' countries \n",
        "df_location = df_location.groupby('countries')['value_counts'].sum().reset_index()"
      ],
      "execution_count": 251,
      "outputs": []
    },
    {
      "cell_type": "code",
      "metadata": {
        "colab": {
          "base_uri": "https://localhost:8080/"
        },
        "id": "dD0QM-gzRFUy",
        "outputId": "ec67b7b1-a7c7-4ca1-e338-e849340d58f0"
      },
      "source": [
        "#Every country has now just one occurance\n",
        "df_location.countries.value_counts()"
      ],
      "execution_count": 252,
      "outputs": [
        {
          "output_type": "execute_result",
          "data": {
            "text/plain": [
              " germany           1\n",
              " australia         1\n",
              " spain             1\n",
              "other              1\n",
              " netherlands       1\n",
              " new zealand       1\n",
              " italy             1\n",
              " france            1\n",
              " portugal          1\n",
              " usa               1\n",
              " canada            1\n",
              " united kingdom    1\n",
              "Name: countries, dtype: int64"
            ]
          },
          "metadata": {},
          "execution_count": 252
        }
      ]
    },
    {
      "cell_type": "code",
      "metadata": {
        "colab": {
          "base_uri": "https://localhost:8080/",
          "height": 647
        },
        "id": "I_ujPKRqGspd",
        "outputId": "96b79042-3ac9-4652-c669-fb88289ff01f"
      },
      "source": [
        "#define Seaborn color palette to use\n",
        "colors = sns.color_palette('pastel')[0:5]\n",
        "\n",
        "#create pie chart\n",
        "plt.title(\"Country Representation in the Data Set\",bbox={'facecolor':'0.8', 'pad':8},fontsize=24, fontdict={\"weight\": \"bold\"},y=1.25,x=0.578)\n",
        "f = plt.pie(df_location['value_counts'], labels = df_location['countries'], colors = colors, autopct='%.0f%%',radius=1.4)"
      ],
      "execution_count": 253,
      "outputs": [
        {
          "output_type": "display_data",
          "data": {
            "image/png": "[encoded data removed]",
            "text/plain": [
              "<Figure size 842.4x595.44 with 1 Axes>"
            ]
          },
          "metadata": {}
        }
      ]
    },
    {
      "cell_type": "markdown",
      "metadata": {
        "id": "VOryd0snMLcf"
      },
      "source": [
        "# **Insight**: Most customers are from United states of America, followd by Canada, United Kingdom and Germany\n",
        "\n",
        "*Countries with less than 1% customers are labeled as other"
      ]
    },
    {
      "cell_type": "markdown",
      "metadata": {
        "id": "OA21dsgQCyZ3"
      },
      "source": [
        "#Customer Age Analysis"
      ]
    },
    {
      "cell_type": "code",
      "metadata": {
        "colab": {
          "base_uri": "https://localhost:8080/",
          "height": 527
        },
        "id": "OHY2x9XC344Z",
        "outputId": "767ac058-af3c-45e1-9173-ce5835e60058"
      },
      "source": [
        "g=sns.displot(df_user['Age'][df_user['Age']<100].dropna(), kde='true',legend = False)\n",
        "g.fig.suptitle(\"Customer Age Distribution\", fontsize=24, fontdict={\"weight\": \"bold\"},y=1.05,x=0.58)\n",
        "g.fig.set_size_inches(7,7)\n"
      ],
      "execution_count": 254,
      "outputs": [
        {
          "output_type": "display_data",
          "data": {
            "image/png": "[encoded data removed]",
            "text/plain": [
              "<Figure size 504x504 with 1 Axes>"
            ]
          },
          "metadata": {}
        }
      ]
    },
    {
      "cell_type": "markdown",
      "metadata": {
        "id": "ZWzcYR9G_sZl"
      },
      "source": [
        "# **Insights**\n",
        "# 1. Most customers are in the age group of 24 to 44 years.\n",
        "# 2. Average customer age is 34 years."
      ]
    },
    {
      "cell_type": "markdown",
      "metadata": {
        "id": "hqCgWHB78-4x"
      },
      "source": [
        "#Top selling books with country of sale."
      ]
    },
    {
      "cell_type": "code",
      "metadata": {
        "colab": {
          "base_uri": "https://localhost:8080/"
        },
        "id": "SU2QTpJeUAOX",
        "outputId": "e84e5cda-0526-4b6f-a42c-da42b570527b"
      },
      "source": [
        "df_merged.shape"
      ],
      "execution_count": 255,
      "outputs": [
        {
          "output_type": "execute_result",
          "data": {
            "text/plain": [
              "(1031136, 10)"
            ]
          },
          "metadata": {},
          "execution_count": 255
        }
      ]
    },
    {
      "cell_type": "code",
      "metadata": {
        "colab": {
          "base_uri": "https://localhost:8080/",
          "height": 204
        },
        "id": "06RKz-fXDEhf",
        "outputId": "09bf019b-2b05-46e5-8c82-de605bf76ca5"
      },
      "source": [
        "df_merged.head()"
      ],
      "execution_count": 256,
      "outputs": [
        {
          "output_type": "execute_result",
          "data": {
            "text/html": [
              "<div>\n",
              "<style scoped>\n",
              "    .dataframe tbody tr th:only-of-type {\n",
              "        vertical-align: middle;\n",
              "    }\n",
              "\n",
              "    .dataframe tbody tr th {\n",
              "        vertical-align: top;\n",
              "    }\n",
              "\n",
              "    .dataframe thead th {\n",
              "        text-align: right;\n",
              "    }\n",
              "</style>\n",
              "<table border=\"1\" class=\"dataframe\">\n",
              "  <thead>\n",
              "    <tr style=\"text-align: right;\">\n",
              "      <th></th>\n",
              "      <th>User-ID</th>\n",
              "      <th>ISBN</th>\n",
              "      <th>Book-Rating</th>\n",
              "      <th>Book-Title</th>\n",
              "      <th>Book-Author</th>\n",
              "      <th>Year-Of-Publication</th>\n",
              "      <th>Publisher</th>\n",
              "      <th>Location</th>\n",
              "      <th>Age</th>\n",
              "      <th>Title-Lenght</th>\n",
              "    </tr>\n",
              "  </thead>\n",
              "  <tbody>\n",
              "    <tr>\n",
              "      <th>0</th>\n",
              "      <td>276725</td>\n",
              "      <td>034545104X</td>\n",
              "      <td>0</td>\n",
              "      <td>Flesh Tones: A Novel</td>\n",
              "      <td>M. J. Rose</td>\n",
              "      <td>2002</td>\n",
              "      <td>Ballantine Books</td>\n",
              "      <td>usa</td>\n",
              "      <td>43</td>\n",
              "      <td>20</td>\n",
              "    </tr>\n",
              "    <tr>\n",
              "      <th>1</th>\n",
              "      <td>2313</td>\n",
              "      <td>034545104X</td>\n",
              "      <td>5</td>\n",
              "      <td>Flesh Tones: A Novel</td>\n",
              "      <td>M. J. Rose</td>\n",
              "      <td>2002</td>\n",
              "      <td>Ballantine Books</td>\n",
              "      <td>usa</td>\n",
              "      <td>23</td>\n",
              "      <td>20</td>\n",
              "    </tr>\n",
              "    <tr>\n",
              "      <th>2</th>\n",
              "      <td>2313</td>\n",
              "      <td>0812533550</td>\n",
              "      <td>9</td>\n",
              "      <td>Ender's Game (Ender Wiggins Saga (Paperback))</td>\n",
              "      <td>Orson Scott Card</td>\n",
              "      <td>1986</td>\n",
              "      <td>Tor Books</td>\n",
              "      <td>usa</td>\n",
              "      <td>23</td>\n",
              "      <td>45</td>\n",
              "    </tr>\n",
              "    <tr>\n",
              "      <th>3</th>\n",
              "      <td>2313</td>\n",
              "      <td>0679745580</td>\n",
              "      <td>8</td>\n",
              "      <td>In Cold Blood (Vintage International)</td>\n",
              "      <td>TRUMAN CAPOTE</td>\n",
              "      <td>1994</td>\n",
              "      <td>Vintage</td>\n",
              "      <td>usa</td>\n",
              "      <td>23</td>\n",
              "      <td>37</td>\n",
              "    </tr>\n",
              "    <tr>\n",
              "      <th>4</th>\n",
              "      <td>2313</td>\n",
              "      <td>0060173289</td>\n",
              "      <td>9</td>\n",
              "      <td>Divine Secrets of the Ya-Ya Sisterhood : A Novel</td>\n",
              "      <td>Rebecca Wells</td>\n",
              "      <td>1996</td>\n",
              "      <td>HarperCollins</td>\n",
              "      <td>usa</td>\n",
              "      <td>23</td>\n",
              "      <td>48</td>\n",
              "    </tr>\n",
              "  </tbody>\n",
              "</table>\n",
              "</div>"
            ],
            "text/plain": [
              "   User-ID        ISBN  Book-Rating  ... Location Age  Title-Lenght\n",
              "0   276725  034545104X            0  ...      usa  43            20\n",
              "1     2313  034545104X            5  ...      usa  23            20\n",
              "2     2313  0812533550            9  ...      usa  23            45\n",
              "3     2313  0679745580            8  ...      usa  23            37\n",
              "4     2313  0060173289            9  ...      usa  23            48\n",
              "\n",
              "[5 rows x 10 columns]"
            ]
          },
          "metadata": {},
          "execution_count": 256
        }
      ]
    },
    {
      "cell_type": "code",
      "metadata": {
        "colab": {
          "base_uri": "https://localhost:8080/",
          "height": 358
        },
        "id": "dIF7GbUEdEi7",
        "outputId": "6ffde83c-d4e3-4f44-b1aa-26a65179a25f"
      },
      "source": [
        "#Top selling books with country of sale.\n",
        "rank = df_merged.groupby(['Location','Book-Title'])['Book-Title'].agg(['count']).sort_values(by='count',ascending=False).reset_index()\\\n",
        "                                                          .drop_duplicates('Location', keep='first')\\\n",
        "                                                          .drop_duplicates('Book-Title', keep='first')\n",
        "\n",
        "rank.head(10)"
      ],
      "execution_count": 257,
      "outputs": [
        {
          "output_type": "execute_result",
          "data": {
            "text/html": [
              "<div>\n",
              "<style scoped>\n",
              "    .dataframe tbody tr th:only-of-type {\n",
              "        vertical-align: middle;\n",
              "    }\n",
              "\n",
              "    .dataframe tbody tr th {\n",
              "        vertical-align: top;\n",
              "    }\n",
              "\n",
              "    .dataframe thead th {\n",
              "        text-align: right;\n",
              "    }\n",
              "</style>\n",
              "<table border=\"1\" class=\"dataframe\">\n",
              "  <thead>\n",
              "    <tr style=\"text-align: right;\">\n",
              "      <th></th>\n",
              "      <th>Location</th>\n",
              "      <th>Book-Title</th>\n",
              "      <th>count</th>\n",
              "    </tr>\n",
              "  </thead>\n",
              "  <tbody>\n",
              "    <tr>\n",
              "      <th>0</th>\n",
              "      <td>usa</td>\n",
              "      <td>Wild Animus</td>\n",
              "      <td>1201</td>\n",
              "    </tr>\n",
              "    <tr>\n",
              "      <th>2121</th>\n",
              "      <td>italy</td>\n",
              "      <td>Novocento, Un Monologo</td>\n",
              "      <td>44</td>\n",
              "    </tr>\n",
              "    <tr>\n",
              "      <th>8620</th>\n",
              "      <td>switzerland</td>\n",
              "      <td>Eine Frau, Eine Wohnung, Ein Roman</td>\n",
              "      <td>15</td>\n",
              "    </tr>\n",
              "    <tr>\n",
              "      <th>23750</th>\n",
              "      <td>argentina</td>\n",
              "      <td>Artificios</td>\n",
              "      <td>6</td>\n",
              "    </tr>\n",
              "    <tr>\n",
              "      <th>29197</th>\n",
              "      <td>n/a</td>\n",
              "      <td>Bridget Jones's Diary</td>\n",
              "      <td>5</td>\n",
              "    </tr>\n",
              "    <tr>\n",
              "      <th>33709</th>\n",
              "      <td>romania</td>\n",
              "      <td>Harry Potter and the Chamber of Secrets (Book 2)</td>\n",
              "      <td>5</td>\n",
              "    </tr>\n",
              "    <tr>\n",
              "      <th>37426</th>\n",
              "      <td>sweden</td>\n",
              "      <td>Vatten melonen</td>\n",
              "      <td>4</td>\n",
              "    </tr>\n",
              "    <tr>\n",
              "      <th>38977</th>\n",
              "      <td>denmark</td>\n",
              "      <td>A Son of the Circus</td>\n",
              "      <td>4</td>\n",
              "    </tr>\n",
              "    <tr>\n",
              "      <th>41610</th>\n",
              "      <td>egypt</td>\n",
              "      <td>On Writing</td>\n",
              "      <td>4</td>\n",
              "    </tr>\n",
              "    <tr>\n",
              "      <th>42529</th>\n",
              "      <td>norway</td>\n",
              "      <td>The No. 1 Ladies' Detective Agency (Today Show...</td>\n",
              "      <td>4</td>\n",
              "    </tr>\n",
              "  </tbody>\n",
              "</table>\n",
              "</div>"
            ],
            "text/plain": [
              "           Location                                         Book-Title  count\n",
              "0               usa                                        Wild Animus   1201\n",
              "2121          italy                             Novocento, Un Monologo     44\n",
              "8620    switzerland                 Eine Frau, Eine Wohnung, Ein Roman     15\n",
              "23750     argentina                                         Artificios      6\n",
              "29197           n/a                              Bridget Jones's Diary      5\n",
              "33709       romania   Harry Potter and the Chamber of Secrets (Book 2)      5\n",
              "37426        sweden                                     Vatten melonen      4\n",
              "38977       denmark                                A Son of the Circus      4\n",
              "41610         egypt                                         On Writing      4\n",
              "42529        norway  The No. 1 Ladies' Detective Agency (Today Show...      4"
            ]
          },
          "metadata": {},
          "execution_count": 257
        }
      ]
    },
    {
      "cell_type": "markdown",
      "metadata": {
        "id": "0GVqoSEQnJFS"
      },
      "source": [
        "#Top selling book, with median age of buyer"
      ]
    },
    {
      "cell_type": "code",
      "metadata": {
        "id": "bbDk0juKlHCu"
      },
      "source": [
        "rank_age = df_merged.groupby(['Book-Title'])['Age'].agg(['median'])\n",
        "rank_age.rename({'median':'median-age'},axis=1,inplace=True)    \n",
        "merged_rank = pd.merge(rank,rank_age['median-age'],how='inner',on='Book-Title')                                              "
      ],
      "execution_count": 258,
      "outputs": []
    },
    {
      "cell_type": "code",
      "metadata": {
        "colab": {
          "base_uri": "https://localhost:8080/",
          "height": 358
        },
        "id": "rvj2DZNQlxHh",
        "outputId": "bc3d13b8-978b-47a1-8fb5-1733c85ba6f0"
      },
      "source": [
        "merged_rank.head(10)"
      ],
      "execution_count": 259,
      "outputs": [
        {
          "output_type": "execute_result",
          "data": {
            "text/html": [
              "<div>\n",
              "<style scoped>\n",
              "    .dataframe tbody tr th:only-of-type {\n",
              "        vertical-align: middle;\n",
              "    }\n",
              "\n",
              "    .dataframe tbody tr th {\n",
              "        vertical-align: top;\n",
              "    }\n",
              "\n",
              "    .dataframe thead th {\n",
              "        text-align: right;\n",
              "    }\n",
              "</style>\n",
              "<table border=\"1\" class=\"dataframe\">\n",
              "  <thead>\n",
              "    <tr style=\"text-align: right;\">\n",
              "      <th></th>\n",
              "      <th>Location</th>\n",
              "      <th>Book-Title</th>\n",
              "      <th>count</th>\n",
              "      <th>median-age</th>\n",
              "    </tr>\n",
              "  </thead>\n",
              "  <tbody>\n",
              "    <tr>\n",
              "      <th>0</th>\n",
              "      <td>usa</td>\n",
              "      <td>Wild Animus</td>\n",
              "      <td>1201</td>\n",
              "      <td>32.0</td>\n",
              "    </tr>\n",
              "    <tr>\n",
              "      <th>1</th>\n",
              "      <td>italy</td>\n",
              "      <td>Novocento, Un Monologo</td>\n",
              "      <td>44</td>\n",
              "      <td>31.0</td>\n",
              "    </tr>\n",
              "    <tr>\n",
              "      <th>2</th>\n",
              "      <td>switzerland</td>\n",
              "      <td>Eine Frau, Eine Wohnung, Ein Roman</td>\n",
              "      <td>15</td>\n",
              "      <td>40.0</td>\n",
              "    </tr>\n",
              "    <tr>\n",
              "      <th>3</th>\n",
              "      <td>argentina</td>\n",
              "      <td>Artificios</td>\n",
              "      <td>6</td>\n",
              "      <td>32.0</td>\n",
              "    </tr>\n",
              "    <tr>\n",
              "      <th>4</th>\n",
              "      <td>n/a</td>\n",
              "      <td>Bridget Jones's Diary</td>\n",
              "      <td>5</td>\n",
              "      <td>32.0</td>\n",
              "    </tr>\n",
              "    <tr>\n",
              "      <th>5</th>\n",
              "      <td>romania</td>\n",
              "      <td>Harry Potter and the Chamber of Secrets (Book 2)</td>\n",
              "      <td>5</td>\n",
              "      <td>32.0</td>\n",
              "    </tr>\n",
              "    <tr>\n",
              "      <th>6</th>\n",
              "      <td>sweden</td>\n",
              "      <td>Vatten melonen</td>\n",
              "      <td>4</td>\n",
              "      <td>31.0</td>\n",
              "    </tr>\n",
              "    <tr>\n",
              "      <th>7</th>\n",
              "      <td>denmark</td>\n",
              "      <td>A Son of the Circus</td>\n",
              "      <td>4</td>\n",
              "      <td>34.0</td>\n",
              "    </tr>\n",
              "    <tr>\n",
              "      <th>8</th>\n",
              "      <td>egypt</td>\n",
              "      <td>On Writing</td>\n",
              "      <td>4</td>\n",
              "      <td>35.0</td>\n",
              "    </tr>\n",
              "    <tr>\n",
              "      <th>9</th>\n",
              "      <td>norway</td>\n",
              "      <td>The No. 1 Ladies' Detective Agency (Today Show...</td>\n",
              "      <td>4</td>\n",
              "      <td>38.0</td>\n",
              "    </tr>\n",
              "  </tbody>\n",
              "</table>\n",
              "</div>"
            ],
            "text/plain": [
              "       Location  ... median-age\n",
              "0           usa  ...       32.0\n",
              "1         italy  ...       31.0\n",
              "2   switzerland  ...       40.0\n",
              "3     argentina  ...       32.0\n",
              "4           n/a  ...       32.0\n",
              "5       romania  ...       32.0\n",
              "6        sweden  ...       31.0\n",
              "7       denmark  ...       34.0\n",
              "8         egypt  ...       35.0\n",
              "9        norway  ...       38.0\n",
              "\n",
              "[10 rows x 4 columns]"
            ]
          },
          "metadata": {},
          "execution_count": 259
        }
      ]
    },
    {
      "cell_type": "markdown",
      "metadata": {
        "id": "7ZSzEflwsxHo"
      },
      "source": [
        "#Top Ranked books, with country and median age"
      ]
    },
    {
      "cell_type": "code",
      "metadata": {
        "id": "zduWSajjoSv2"
      },
      "source": [
        "#Top selling books with country of sale.\n",
        "rank_rank = df_merged.groupby(['Location','Book-Title'])['Book-Rating'].agg(['mean']).sort_values(by='mean',ascending=False).reset_index()\\\n",
        "                                                          .drop_duplicates('Location', keep='first')\\\n",
        "                                                          .drop_duplicates('Book-Title', keep='first')\n",
        "merged_rank_rank = pd.merge(rank_rank,rank_age['median-age'],how='inner',on='Book-Title')  \n",
        "merged_rank_rank.rename({'mean':'mean-rating'},axis=1,inplace=True)  "
      ],
      "execution_count": 260,
      "outputs": []
    },
    {
      "cell_type": "code",
      "metadata": {
        "colab": {
          "base_uri": "https://localhost:8080/",
          "height": 358
        },
        "id": "HKknYrvBt5s6",
        "outputId": "03a7704b-3be5-49a2-ed8a-e3ed8be4d1fd"
      },
      "source": [
        "merged_rank_rank.head(10)"
      ],
      "execution_count": 261,
      "outputs": [
        {
          "output_type": "execute_result",
          "data": {
            "text/html": [
              "<div>\n",
              "<style scoped>\n",
              "    .dataframe tbody tr th:only-of-type {\n",
              "        vertical-align: middle;\n",
              "    }\n",
              "\n",
              "    .dataframe tbody tr th {\n",
              "        vertical-align: top;\n",
              "    }\n",
              "\n",
              "    .dataframe thead th {\n",
              "        text-align: right;\n",
              "    }\n",
              "</style>\n",
              "<table border=\"1\" class=\"dataframe\">\n",
              "  <thead>\n",
              "    <tr style=\"text-align: right;\">\n",
              "      <th></th>\n",
              "      <th>Location</th>\n",
              "      <th>Book-Title</th>\n",
              "      <th>mean-rating</th>\n",
              "      <th>median-age</th>\n",
              "    </tr>\n",
              "  </thead>\n",
              "  <tbody>\n",
              "    <tr>\n",
              "      <th>0</th>\n",
              "      <td>usa</td>\n",
              "      <td>An Alphabet of Angels</td>\n",
              "      <td>10.0</td>\n",
              "      <td>40.0</td>\n",
              "    </tr>\n",
              "    <tr>\n",
              "      <th>1</th>\n",
              "      <td>spain</td>\n",
              "      <td>The Patio Garden Month-By-Month (Month-By-Mont...</td>\n",
              "      <td>10.0</td>\n",
              "      <td>57.0</td>\n",
              "    </tr>\n",
              "    <tr>\n",
              "      <th>2</th>\n",
              "      <td>canada</td>\n",
              "      <td>The Bride and the Bachelors: Five Masters of t...</td>\n",
              "      <td>10.0</td>\n",
              "      <td>19.0</td>\n",
              "    </tr>\n",
              "    <tr>\n",
              "      <th>3</th>\n",
              "      <td>bulgaria</td>\n",
              "      <td>The Little Mermaid</td>\n",
              "      <td>10.0</td>\n",
              "      <td>31.0</td>\n",
              "    </tr>\n",
              "    <tr>\n",
              "      <th>4</th>\n",
              "      <td>burma</td>\n",
              "      <td>Six Wives: The Queens of Henry VIII</td>\n",
              "      <td>10.0</td>\n",
              "      <td>27.0</td>\n",
              "    </tr>\n",
              "    <tr>\n",
              "      <th>5</th>\n",
              "      <td>cameroon</td>\n",
              "      <td>The Good American: A Novel Based On True Events</td>\n",
              "      <td>10.0</td>\n",
              "      <td>29.5</td>\n",
              "    </tr>\n",
              "    <tr>\n",
              "      <th>6</th>\n",
              "      <td>c</td>\n",
              "      <td>Anne of Green Gables</td>\n",
              "      <td>10.0</td>\n",
              "      <td>31.5</td>\n",
              "    </tr>\n",
              "    <tr>\n",
              "      <th>7</th>\n",
              "      <td>switzerland</td>\n",
              "      <td>Briefwechsel.</td>\n",
              "      <td>10.0</td>\n",
              "      <td>25.0</td>\n",
              "    </tr>\n",
              "    <tr>\n",
              "      <th>8</th>\n",
              "      <td>sweden</td>\n",
              "      <td>Born in Shame</td>\n",
              "      <td>10.0</td>\n",
              "      <td>34.5</td>\n",
              "    </tr>\n",
              "    <tr>\n",
              "      <th>9</th>\n",
              "      <td>spain\"</td>\n",
              "      <td>Ocho, El</td>\n",
              "      <td>10.0</td>\n",
              "      <td>28.5</td>\n",
              "    </tr>\n",
              "  </tbody>\n",
              "</table>\n",
              "</div>"
            ],
            "text/plain": [
              "       Location  ... median-age\n",
              "0           usa  ...       40.0\n",
              "1         spain  ...       57.0\n",
              "2        canada  ...       19.0\n",
              "3      bulgaria  ...       31.0\n",
              "4         burma  ...       27.0\n",
              "5      cameroon  ...       29.5\n",
              "6             c  ...       31.5\n",
              "7   switzerland  ...       25.0\n",
              "8        sweden  ...       34.5\n",
              "9        spain\"  ...       28.5\n",
              "\n",
              "[10 rows x 4 columns]"
            ]
          },
          "metadata": {},
          "execution_count": 261
        }
      ]
    },
    {
      "cell_type": "code",
      "metadata": {
        "id": "qvkYPfpa66Hg"
      },
      "source": [
        "df= merged_rank_rank['median-age'].head(10).reset_index()\n",
        "df['top-selling'] = merged_rank['median-age'].head(10)"
      ],
      "execution_count": 262,
      "outputs": []
    },
    {
      "cell_type": "code",
      "metadata": {
        "id": "VzYYw5YU78nd"
      },
      "source": [
        "df.drop('index',axis=1,inplace=True)\n",
        "df.rename({'median-age':'top-ranking'},axis=1,inplace=True)"
      ],
      "execution_count": 263,
      "outputs": []
    },
    {
      "cell_type": "code",
      "metadata": {
        "colab": {
          "base_uri": "https://localhost:8080/",
          "height": 377
        },
        "id": "kBmk1jV29NZQ",
        "outputId": "f5b168e4-d4bc-4d79-9b17-9a7ef37cb6f9"
      },
      "source": [
        "fig = plt.figure(figsize=(9, 6))\n",
        "ax = fig.gca()\n",
        "df.boxplot()\n",
        "plt.show()"
      ],
      "execution_count": 264,
      "outputs": [
        {
          "output_type": "display_data",
          "data": {
            "image/png": "[encoded data removed]",
            "text/plain": [
              "<Figure size 648x432 with 1 Axes>"
            ]
          },
          "metadata": {}
        }
      ]
    },
    {
      "cell_type": "markdown",
      "metadata": {
        "id": "jEWBrJLjwtvV"
      },
      "source": [
        "# **Insights**\n",
        "# 1. Top rated books are different from top-selling books\n",
        "# 2. People in the age group of 31 to 38 years of age are the once who are buying the top selling books.\n",
        "# 3. People in the age group of 19 to 40 years of age are the once who are buying and rating the top-rated books\n",
        "\n",
        "#From the boxplot, it can be said that top rated books have a wider age-group than the top selling books"
      ]
    },
    {
      "cell_type": "markdown",
      "metadata": {
        "id": "-1Unm1qTxvte"
      },
      "source": [
        "#Using Collaborative Filltering Model\n",
        "\n",
        "---\n",
        "\n"
      ]
    },
    {
      "cell_type": "code",
      "metadata": {
        "id": "Wm2Ur25AH4jI"
      },
      "source": [
        "import math"
      ],
      "execution_count": 265,
      "outputs": []
    },
    {
      "cell_type": "code",
      "metadata": {
        "colab": {
          "base_uri": "https://localhost:8080/",
          "height": 221
        },
        "id": "0ozwoxsZOtFF",
        "outputId": "2b3d5ea8-162d-447e-d162-d8df8d05caa4"
      },
      "source": [
        "def smooth_user_preference(x):\n",
        "    return math.log(1+x, 2)\n",
        "    \n",
        "interactions_full_df = df_merged_updated.groupby(['User-ID','Book-Title'])['Book-Rating'].sum().apply(smooth_user_preference).reset_index()\n",
        "print('# of unique user/item interactions: %d' % len(interactions_full_df))\n",
        "interactions_full_df.head()"
      ],
      "execution_count": 266,
      "outputs": [
        {
          "output_type": "stream",
          "name": "stdout",
          "text": [
            "# of unique user/item interactions: 149525\n"
          ]
        },
        {
          "output_type": "execute_result",
          "data": {
            "text/html": [
              "<div>\n",
              "<style scoped>\n",
              "    .dataframe tbody tr th:only-of-type {\n",
              "        vertical-align: middle;\n",
              "    }\n",
              "\n",
              "    .dataframe tbody tr th {\n",
              "        vertical-align: top;\n",
              "    }\n",
              "\n",
              "    .dataframe thead th {\n",
              "        text-align: right;\n",
              "    }\n",
              "</style>\n",
              "<table border=\"1\" class=\"dataframe\">\n",
              "  <thead>\n",
              "    <tr style=\"text-align: right;\">\n",
              "      <th></th>\n",
              "      <th>User-ID</th>\n",
              "      <th>Book-Title</th>\n",
              "      <th>Book-Rating</th>\n",
              "    </tr>\n",
              "  </thead>\n",
              "  <tbody>\n",
              "    <tr>\n",
              "      <th>0</th>\n",
              "      <td>99</td>\n",
              "      <td>Fast Women</td>\n",
              "      <td>3.169925</td>\n",
              "    </tr>\n",
              "    <tr>\n",
              "      <th>1</th>\n",
              "      <td>99</td>\n",
              "      <td>Female Intelligence</td>\n",
              "      <td>3.169925</td>\n",
              "    </tr>\n",
              "    <tr>\n",
              "      <th>2</th>\n",
              "      <td>99</td>\n",
              "      <td>McDonald's: Behind the Arches</td>\n",
              "      <td>3.321928</td>\n",
              "    </tr>\n",
              "    <tr>\n",
              "      <th>3</th>\n",
              "      <td>99</td>\n",
              "      <td>Pasquale's Nose: Idle Days in an Italian Town</td>\n",
              "      <td>3.000000</td>\n",
              "    </tr>\n",
              "    <tr>\n",
              "      <th>4</th>\n",
              "      <td>99</td>\n",
              "      <td>Rich Dad, Poor Dad: What the Rich Teach Their ...</td>\n",
              "      <td>3.459432</td>\n",
              "    </tr>\n",
              "  </tbody>\n",
              "</table>\n",
              "</div>"
            ],
            "text/plain": [
              "   User-ID                                         Book-Title  Book-Rating\n",
              "0       99                                         Fast Women     3.169925\n",
              "1       99                                Female Intelligence     3.169925\n",
              "2       99                      McDonald's: Behind the Arches     3.321928\n",
              "3       99      Pasquale's Nose: Idle Days in an Italian Town     3.000000\n",
              "4       99  Rich Dad, Poor Dad: What the Rich Teach Their ...     3.459432"
            ]
          },
          "metadata": {},
          "execution_count": 266
        }
      ]
    },
    {
      "cell_type": "code",
      "metadata": {
        "colab": {
          "base_uri": "https://localhost:8080/"
        },
        "id": "SG0uBRyU05JG",
        "outputId": "3afbce5f-e64f-43d9-f787-3adb99b4458e"
      },
      "source": [
        "from sklearn import preprocessing\n",
        "le = preprocessing.LabelEncoder()\n",
        "le.fit(interactions_full_df['Book-Title'].unique())"
      ],
      "execution_count": 267,
      "outputs": [
        {
          "output_type": "execute_result",
          "data": {
            "text/plain": [
              "LabelEncoder()"
            ]
          },
          "metadata": {},
          "execution_count": 267
        }
      ]
    },
    {
      "cell_type": "code",
      "metadata": {
        "colab": {
          "base_uri": "https://localhost:8080/"
        },
        "id": "4PSLx1ArH6R_",
        "outputId": "f56d9c1c-848d-4abd-ed5f-4a1f3caa5c04"
      },
      "source": [
        "from sklearn.model_selection import train_test_split\n",
        "interactions_train_df, interactions_test_df = train_test_split(interactions_full_df, \n",
        "                                   test_size=0.20,\n",
        "                                   stratify=interactions_full_df['User-ID'],\n",
        "                                   random_state=42)\n",
        "\n",
        "print('# interactions on Train set: %d' % len(interactions_train_df))\n",
        "print('# interactions on Test set: %d' % len(interactions_test_df))"
      ],
      "execution_count": 268,
      "outputs": [
        {
          "output_type": "stream",
          "name": "stdout",
          "text": [
            "# interactions on Train set: 119620\n",
            "# interactions on Test set: 29905\n"
          ]
        }
      ]
    },
    {
      "cell_type": "code",
      "metadata": {
        "colab": {
          "base_uri": "https://localhost:8080/",
          "height": 204
        },
        "id": "4R-xD5_pTb5L",
        "outputId": "66825064-2904-48da-c793-6ffdb707bee7"
      },
      "source": [
        "interactions_train_df['Book-Title'] = le.transform(interactions_train_df['Book-Title'])\n",
        "interactions_test_df['Book-Title'] = le.transform(interactions_test_df['Book-Title'])\n",
        "\n",
        "interactions_train_df.head()"
      ],
      "execution_count": 269,
      "outputs": [
        {
          "output_type": "execute_result",
          "data": {
            "text/html": [
              "<div>\n",
              "<style scoped>\n",
              "    .dataframe tbody tr th:only-of-type {\n",
              "        vertical-align: middle;\n",
              "    }\n",
              "\n",
              "    .dataframe tbody tr th {\n",
              "        vertical-align: top;\n",
              "    }\n",
              "\n",
              "    .dataframe thead th {\n",
              "        text-align: right;\n",
              "    }\n",
              "</style>\n",
              "<table border=\"1\" class=\"dataframe\">\n",
              "  <thead>\n",
              "    <tr style=\"text-align: right;\">\n",
              "      <th></th>\n",
              "      <th>User-ID</th>\n",
              "      <th>Book-Title</th>\n",
              "      <th>Book-Rating</th>\n",
              "    </tr>\n",
              "  </thead>\n",
              "  <tbody>\n",
              "    <tr>\n",
              "      <th>64608</th>\n",
              "      <td>114544</td>\n",
              "      <td>5936</td>\n",
              "      <td>3.000000</td>\n",
              "    </tr>\n",
              "    <tr>\n",
              "      <th>56514</th>\n",
              "      <td>101304</td>\n",
              "      <td>7397</td>\n",
              "      <td>3.459432</td>\n",
              "    </tr>\n",
              "    <tr>\n",
              "      <th>18309</th>\n",
              "      <td>30711</td>\n",
              "      <td>12412</td>\n",
              "      <td>3.000000</td>\n",
              "    </tr>\n",
              "    <tr>\n",
              "      <th>32968</th>\n",
              "      <td>58062</td>\n",
              "      <td>908</td>\n",
              "      <td>2.321928</td>\n",
              "    </tr>\n",
              "    <tr>\n",
              "      <th>106610</th>\n",
              "      <td>197206</td>\n",
              "      <td>12566</td>\n",
              "      <td>3.000000</td>\n",
              "    </tr>\n",
              "  </tbody>\n",
              "</table>\n",
              "</div>"
            ],
            "text/plain": [
              "        User-ID  Book-Title  Book-Rating\n",
              "64608    114544        5936     3.000000\n",
              "56514    101304        7397     3.459432\n",
              "18309     30711       12412     3.000000\n",
              "32968     58062         908     2.321928\n",
              "106610   197206       12566     3.000000"
            ]
          },
          "metadata": {},
          "execution_count": 269
        }
      ]
    },
    {
      "cell_type": "code",
      "metadata": {
        "colab": {
          "base_uri": "https://localhost:8080/"
        },
        "id": "ONFu-9KE1fmG",
        "outputId": "596066c8-6e71-41ef-8d38-645aa1075109"
      },
      "source": [
        "le.inverse_transform([5936])"
      ],
      "execution_count": 270,
      "outputs": [
        {
          "output_type": "execute_result",
          "data": {
            "text/plain": [
              "array(['Icy Sparks'], dtype=object)"
            ]
          },
          "metadata": {},
          "execution_count": 270
        }
      ]
    },
    {
      "cell_type": "code",
      "metadata": {
        "colab": {
          "base_uri": "https://localhost:8080/",
          "height": 317
        },
        "id": "Sz97VDaHIEvk",
        "outputId": "95927301-118e-4f78-f000-b76ff4a7079f"
      },
      "source": [
        "#Creating a sparse pivot table with users in rows and items in columns\n",
        "users_items_pivot_matrix_df = interactions_train_df.pivot(index='User-ID', \n",
        "                                                          columns='Book-Title', \n",
        "                                                          values='Book-Rating').fillna(0)\n",
        "\n",
        "users_items_pivot_matrix_df.head()"
      ],
      "execution_count": 271,
      "outputs": [
        {
          "output_type": "execute_result",
          "data": {
            "text/html": [
              "<div>\n",
              "<style scoped>\n",
              "    .dataframe tbody tr th:only-of-type {\n",
              "        vertical-align: middle;\n",
              "    }\n",
              "\n",
              "    .dataframe tbody tr th {\n",
              "        vertical-align: top;\n",
              "    }\n",
              "\n",
              "    .dataframe thead th {\n",
              "        text-align: right;\n",
              "    }\n",
              "</style>\n",
              "<table border=\"1\" class=\"dataframe\">\n",
              "  <thead>\n",
              "    <tr style=\"text-align: right;\">\n",
              "      <th>Book-Title</th>\n",
              "      <th>0</th>\n",
              "      <th>1</th>\n",
              "      <th>2</th>\n",
              "      <th>3</th>\n",
              "      <th>4</th>\n",
              "      <th>5</th>\n",
              "      <th>6</th>\n",
              "      <th>7</th>\n",
              "      <th>8</th>\n",
              "      <th>9</th>\n",
              "      <th>10</th>\n",
              "      <th>11</th>\n",
              "      <th>12</th>\n",
              "      <th>13</th>\n",
              "      <th>14</th>\n",
              "      <th>15</th>\n",
              "      <th>16</th>\n",
              "      <th>17</th>\n",
              "      <th>18</th>\n",
              "      <th>19</th>\n",
              "      <th>20</th>\n",
              "      <th>21</th>\n",
              "      <th>22</th>\n",
              "      <th>23</th>\n",
              "      <th>24</th>\n",
              "      <th>25</th>\n",
              "      <th>26</th>\n",
              "      <th>27</th>\n",
              "      <th>28</th>\n",
              "      <th>29</th>\n",
              "      <th>30</th>\n",
              "      <th>31</th>\n",
              "      <th>32</th>\n",
              "      <th>33</th>\n",
              "      <th>34</th>\n",
              "      <th>35</th>\n",
              "      <th>36</th>\n",
              "      <th>37</th>\n",
              "      <th>38</th>\n",
              "      <th>39</th>\n",
              "      <th>...</th>\n",
              "      <th>16393</th>\n",
              "      <th>16394</th>\n",
              "      <th>16395</th>\n",
              "      <th>16396</th>\n",
              "      <th>16397</th>\n",
              "      <th>16398</th>\n",
              "      <th>16399</th>\n",
              "      <th>16400</th>\n",
              "      <th>16401</th>\n",
              "      <th>16403</th>\n",
              "      <th>16404</th>\n",
              "      <th>16405</th>\n",
              "      <th>16406</th>\n",
              "      <th>16407</th>\n",
              "      <th>16408</th>\n",
              "      <th>16409</th>\n",
              "      <th>16410</th>\n",
              "      <th>16411</th>\n",
              "      <th>16412</th>\n",
              "      <th>16413</th>\n",
              "      <th>16414</th>\n",
              "      <th>16415</th>\n",
              "      <th>16416</th>\n",
              "      <th>16417</th>\n",
              "      <th>16418</th>\n",
              "      <th>16419</th>\n",
              "      <th>16420</th>\n",
              "      <th>16421</th>\n",
              "      <th>16422</th>\n",
              "      <th>16423</th>\n",
              "      <th>16424</th>\n",
              "      <th>16425</th>\n",
              "      <th>16426</th>\n",
              "      <th>16427</th>\n",
              "      <th>16428</th>\n",
              "      <th>16429</th>\n",
              "      <th>16430</th>\n",
              "      <th>16431</th>\n",
              "      <th>16432</th>\n",
              "      <th>16433</th>\n",
              "    </tr>\n",
              "    <tr>\n",
              "      <th>User-ID</th>\n",
              "      <th></th>\n",
              "      <th></th>\n",
              "      <th></th>\n",
              "      <th></th>\n",
              "      <th></th>\n",
              "      <th></th>\n",
              "      <th></th>\n",
              "      <th></th>\n",
              "      <th></th>\n",
              "      <th></th>\n",
              "      <th></th>\n",
              "      <th></th>\n",
              "      <th></th>\n",
              "      <th></th>\n",
              "      <th></th>\n",
              "      <th></th>\n",
              "      <th></th>\n",
              "      <th></th>\n",
              "      <th></th>\n",
              "      <th></th>\n",
              "      <th></th>\n",
              "      <th></th>\n",
              "      <th></th>\n",
              "      <th></th>\n",
              "      <th></th>\n",
              "      <th></th>\n",
              "      <th></th>\n",
              "      <th></th>\n",
              "      <th></th>\n",
              "      <th></th>\n",
              "      <th></th>\n",
              "      <th></th>\n",
              "      <th></th>\n",
              "      <th></th>\n",
              "      <th></th>\n",
              "      <th></th>\n",
              "      <th></th>\n",
              "      <th></th>\n",
              "      <th></th>\n",
              "      <th></th>\n",
              "      <th></th>\n",
              "      <th></th>\n",
              "      <th></th>\n",
              "      <th></th>\n",
              "      <th></th>\n",
              "      <th></th>\n",
              "      <th></th>\n",
              "      <th></th>\n",
              "      <th></th>\n",
              "      <th></th>\n",
              "      <th></th>\n",
              "      <th></th>\n",
              "      <th></th>\n",
              "      <th></th>\n",
              "      <th></th>\n",
              "      <th></th>\n",
              "      <th></th>\n",
              "      <th></th>\n",
              "      <th></th>\n",
              "      <th></th>\n",
              "      <th></th>\n",
              "      <th></th>\n",
              "      <th></th>\n",
              "      <th></th>\n",
              "      <th></th>\n",
              "      <th></th>\n",
              "      <th></th>\n",
              "      <th></th>\n",
              "      <th></th>\n",
              "      <th></th>\n",
              "      <th></th>\n",
              "      <th></th>\n",
              "      <th></th>\n",
              "      <th></th>\n",
              "      <th></th>\n",
              "      <th></th>\n",
              "      <th></th>\n",
              "      <th></th>\n",
              "      <th></th>\n",
              "      <th></th>\n",
              "      <th></th>\n",
              "    </tr>\n",
              "  </thead>\n",
              "  <tbody>\n",
              "    <tr>\n",
              "      <th>99</th>\n",
              "      <td>0.0</td>\n",
              "      <td>0.0</td>\n",
              "      <td>0.0</td>\n",
              "      <td>0.0</td>\n",
              "      <td>0.0</td>\n",
              "      <td>0.0</td>\n",
              "      <td>0.0</td>\n",
              "      <td>0.0</td>\n",
              "      <td>0.0</td>\n",
              "      <td>0.0</td>\n",
              "      <td>0.0</td>\n",
              "      <td>0.0</td>\n",
              "      <td>0.0</td>\n",
              "      <td>0.0</td>\n",
              "      <td>0.0</td>\n",
              "      <td>0.0</td>\n",
              "      <td>0.0</td>\n",
              "      <td>0.0</td>\n",
              "      <td>0.0</td>\n",
              "      <td>0.0</td>\n",
              "      <td>0.0</td>\n",
              "      <td>0.0</td>\n",
              "      <td>0.0</td>\n",
              "      <td>0.0</td>\n",
              "      <td>0.0</td>\n",
              "      <td>0.0</td>\n",
              "      <td>0.0</td>\n",
              "      <td>0.0</td>\n",
              "      <td>0.0</td>\n",
              "      <td>0.0</td>\n",
              "      <td>0.0</td>\n",
              "      <td>0.0</td>\n",
              "      <td>0.0</td>\n",
              "      <td>0.0</td>\n",
              "      <td>0.0</td>\n",
              "      <td>0.0</td>\n",
              "      <td>0.0</td>\n",
              "      <td>0.0</td>\n",
              "      <td>0.0</td>\n",
              "      <td>0.0</td>\n",
              "      <td>...</td>\n",
              "      <td>0.0</td>\n",
              "      <td>0.0</td>\n",
              "      <td>0.0</td>\n",
              "      <td>0.0</td>\n",
              "      <td>0.0</td>\n",
              "      <td>0.0</td>\n",
              "      <td>0.0</td>\n",
              "      <td>0.0</td>\n",
              "      <td>0.0</td>\n",
              "      <td>0.0</td>\n",
              "      <td>0.0</td>\n",
              "      <td>0.0</td>\n",
              "      <td>0.0</td>\n",
              "      <td>0.0</td>\n",
              "      <td>0.0</td>\n",
              "      <td>0.0</td>\n",
              "      <td>0.0</td>\n",
              "      <td>0.0</td>\n",
              "      <td>0.0</td>\n",
              "      <td>0.0</td>\n",
              "      <td>0.0</td>\n",
              "      <td>0.0</td>\n",
              "      <td>0.0</td>\n",
              "      <td>0.0</td>\n",
              "      <td>0.0</td>\n",
              "      <td>0.0</td>\n",
              "      <td>0.0</td>\n",
              "      <td>0.0</td>\n",
              "      <td>0.0</td>\n",
              "      <td>0.0</td>\n",
              "      <td>0.0</td>\n",
              "      <td>0.0</td>\n",
              "      <td>0.0</td>\n",
              "      <td>0.0</td>\n",
              "      <td>0.0</td>\n",
              "      <td>0.0</td>\n",
              "      <td>0.0</td>\n",
              "      <td>0.0</td>\n",
              "      <td>0.0</td>\n",
              "      <td>0.0</td>\n",
              "    </tr>\n",
              "    <tr>\n",
              "      <th>114</th>\n",
              "      <td>0.0</td>\n",
              "      <td>0.0</td>\n",
              "      <td>0.0</td>\n",
              "      <td>0.0</td>\n",
              "      <td>0.0</td>\n",
              "      <td>0.0</td>\n",
              "      <td>0.0</td>\n",
              "      <td>0.0</td>\n",
              "      <td>0.0</td>\n",
              "      <td>0.0</td>\n",
              "      <td>0.0</td>\n",
              "      <td>0.0</td>\n",
              "      <td>0.0</td>\n",
              "      <td>0.0</td>\n",
              "      <td>0.0</td>\n",
              "      <td>0.0</td>\n",
              "      <td>0.0</td>\n",
              "      <td>0.0</td>\n",
              "      <td>0.0</td>\n",
              "      <td>0.0</td>\n",
              "      <td>0.0</td>\n",
              "      <td>0.0</td>\n",
              "      <td>0.0</td>\n",
              "      <td>0.0</td>\n",
              "      <td>0.0</td>\n",
              "      <td>0.0</td>\n",
              "      <td>0.0</td>\n",
              "      <td>0.0</td>\n",
              "      <td>0.0</td>\n",
              "      <td>0.0</td>\n",
              "      <td>0.0</td>\n",
              "      <td>0.0</td>\n",
              "      <td>0.0</td>\n",
              "      <td>0.0</td>\n",
              "      <td>0.0</td>\n",
              "      <td>0.0</td>\n",
              "      <td>0.0</td>\n",
              "      <td>0.0</td>\n",
              "      <td>0.0</td>\n",
              "      <td>0.0</td>\n",
              "      <td>...</td>\n",
              "      <td>0.0</td>\n",
              "      <td>0.0</td>\n",
              "      <td>0.0</td>\n",
              "      <td>0.0</td>\n",
              "      <td>0.0</td>\n",
              "      <td>0.0</td>\n",
              "      <td>0.0</td>\n",
              "      <td>0.0</td>\n",
              "      <td>0.0</td>\n",
              "      <td>0.0</td>\n",
              "      <td>0.0</td>\n",
              "      <td>0.0</td>\n",
              "      <td>0.0</td>\n",
              "      <td>0.0</td>\n",
              "      <td>0.0</td>\n",
              "      <td>0.0</td>\n",
              "      <td>0.0</td>\n",
              "      <td>0.0</td>\n",
              "      <td>0.0</td>\n",
              "      <td>0.0</td>\n",
              "      <td>0.0</td>\n",
              "      <td>0.0</td>\n",
              "      <td>0.0</td>\n",
              "      <td>0.0</td>\n",
              "      <td>0.0</td>\n",
              "      <td>0.0</td>\n",
              "      <td>0.0</td>\n",
              "      <td>0.0</td>\n",
              "      <td>0.0</td>\n",
              "      <td>0.0</td>\n",
              "      <td>0.0</td>\n",
              "      <td>0.0</td>\n",
              "      <td>0.0</td>\n",
              "      <td>0.0</td>\n",
              "      <td>0.0</td>\n",
              "      <td>0.0</td>\n",
              "      <td>0.0</td>\n",
              "      <td>0.0</td>\n",
              "      <td>0.0</td>\n",
              "      <td>0.0</td>\n",
              "    </tr>\n",
              "    <tr>\n",
              "      <th>242</th>\n",
              "      <td>0.0</td>\n",
              "      <td>0.0</td>\n",
              "      <td>0.0</td>\n",
              "      <td>0.0</td>\n",
              "      <td>0.0</td>\n",
              "      <td>0.0</td>\n",
              "      <td>0.0</td>\n",
              "      <td>0.0</td>\n",
              "      <td>0.0</td>\n",
              "      <td>0.0</td>\n",
              "      <td>0.0</td>\n",
              "      <td>0.0</td>\n",
              "      <td>0.0</td>\n",
              "      <td>0.0</td>\n",
              "      <td>0.0</td>\n",
              "      <td>0.0</td>\n",
              "      <td>0.0</td>\n",
              "      <td>0.0</td>\n",
              "      <td>0.0</td>\n",
              "      <td>0.0</td>\n",
              "      <td>0.0</td>\n",
              "      <td>0.0</td>\n",
              "      <td>0.0</td>\n",
              "      <td>0.0</td>\n",
              "      <td>0.0</td>\n",
              "      <td>0.0</td>\n",
              "      <td>0.0</td>\n",
              "      <td>0.0</td>\n",
              "      <td>0.0</td>\n",
              "      <td>0.0</td>\n",
              "      <td>0.0</td>\n",
              "      <td>0.0</td>\n",
              "      <td>0.0</td>\n",
              "      <td>0.0</td>\n",
              "      <td>0.0</td>\n",
              "      <td>0.0</td>\n",
              "      <td>0.0</td>\n",
              "      <td>0.0</td>\n",
              "      <td>0.0</td>\n",
              "      <td>0.0</td>\n",
              "      <td>...</td>\n",
              "      <td>0.0</td>\n",
              "      <td>0.0</td>\n",
              "      <td>0.0</td>\n",
              "      <td>0.0</td>\n",
              "      <td>0.0</td>\n",
              "      <td>0.0</td>\n",
              "      <td>0.0</td>\n",
              "      <td>0.0</td>\n",
              "      <td>0.0</td>\n",
              "      <td>0.0</td>\n",
              "      <td>0.0</td>\n",
              "      <td>0.0</td>\n",
              "      <td>0.0</td>\n",
              "      <td>0.0</td>\n",
              "      <td>0.0</td>\n",
              "      <td>0.0</td>\n",
              "      <td>0.0</td>\n",
              "      <td>0.0</td>\n",
              "      <td>0.0</td>\n",
              "      <td>0.0</td>\n",
              "      <td>0.0</td>\n",
              "      <td>0.0</td>\n",
              "      <td>0.0</td>\n",
              "      <td>0.0</td>\n",
              "      <td>0.0</td>\n",
              "      <td>0.0</td>\n",
              "      <td>0.0</td>\n",
              "      <td>0.0</td>\n",
              "      <td>0.0</td>\n",
              "      <td>0.0</td>\n",
              "      <td>0.0</td>\n",
              "      <td>0.0</td>\n",
              "      <td>0.0</td>\n",
              "      <td>0.0</td>\n",
              "      <td>0.0</td>\n",
              "      <td>0.0</td>\n",
              "      <td>0.0</td>\n",
              "      <td>0.0</td>\n",
              "      <td>0.0</td>\n",
              "      <td>0.0</td>\n",
              "    </tr>\n",
              "    <tr>\n",
              "      <th>243</th>\n",
              "      <td>0.0</td>\n",
              "      <td>0.0</td>\n",
              "      <td>0.0</td>\n",
              "      <td>0.0</td>\n",
              "      <td>0.0</td>\n",
              "      <td>0.0</td>\n",
              "      <td>0.0</td>\n",
              "      <td>0.0</td>\n",
              "      <td>0.0</td>\n",
              "      <td>0.0</td>\n",
              "      <td>0.0</td>\n",
              "      <td>0.0</td>\n",
              "      <td>0.0</td>\n",
              "      <td>0.0</td>\n",
              "      <td>0.0</td>\n",
              "      <td>0.0</td>\n",
              "      <td>0.0</td>\n",
              "      <td>0.0</td>\n",
              "      <td>0.0</td>\n",
              "      <td>0.0</td>\n",
              "      <td>0.0</td>\n",
              "      <td>0.0</td>\n",
              "      <td>0.0</td>\n",
              "      <td>0.0</td>\n",
              "      <td>0.0</td>\n",
              "      <td>0.0</td>\n",
              "      <td>0.0</td>\n",
              "      <td>0.0</td>\n",
              "      <td>0.0</td>\n",
              "      <td>0.0</td>\n",
              "      <td>0.0</td>\n",
              "      <td>0.0</td>\n",
              "      <td>0.0</td>\n",
              "      <td>0.0</td>\n",
              "      <td>0.0</td>\n",
              "      <td>0.0</td>\n",
              "      <td>0.0</td>\n",
              "      <td>0.0</td>\n",
              "      <td>0.0</td>\n",
              "      <td>0.0</td>\n",
              "      <td>...</td>\n",
              "      <td>0.0</td>\n",
              "      <td>0.0</td>\n",
              "      <td>0.0</td>\n",
              "      <td>0.0</td>\n",
              "      <td>0.0</td>\n",
              "      <td>0.0</td>\n",
              "      <td>0.0</td>\n",
              "      <td>0.0</td>\n",
              "      <td>0.0</td>\n",
              "      <td>0.0</td>\n",
              "      <td>0.0</td>\n",
              "      <td>0.0</td>\n",
              "      <td>0.0</td>\n",
              "      <td>0.0</td>\n",
              "      <td>0.0</td>\n",
              "      <td>0.0</td>\n",
              "      <td>0.0</td>\n",
              "      <td>0.0</td>\n",
              "      <td>0.0</td>\n",
              "      <td>0.0</td>\n",
              "      <td>0.0</td>\n",
              "      <td>0.0</td>\n",
              "      <td>0.0</td>\n",
              "      <td>0.0</td>\n",
              "      <td>0.0</td>\n",
              "      <td>0.0</td>\n",
              "      <td>0.0</td>\n",
              "      <td>0.0</td>\n",
              "      <td>0.0</td>\n",
              "      <td>0.0</td>\n",
              "      <td>0.0</td>\n",
              "      <td>0.0</td>\n",
              "      <td>0.0</td>\n",
              "      <td>0.0</td>\n",
              "      <td>0.0</td>\n",
              "      <td>0.0</td>\n",
              "      <td>0.0</td>\n",
              "      <td>0.0</td>\n",
              "      <td>0.0</td>\n",
              "      <td>0.0</td>\n",
              "    </tr>\n",
              "    <tr>\n",
              "      <th>244</th>\n",
              "      <td>0.0</td>\n",
              "      <td>0.0</td>\n",
              "      <td>0.0</td>\n",
              "      <td>0.0</td>\n",
              "      <td>0.0</td>\n",
              "      <td>0.0</td>\n",
              "      <td>0.0</td>\n",
              "      <td>0.0</td>\n",
              "      <td>0.0</td>\n",
              "      <td>0.0</td>\n",
              "      <td>0.0</td>\n",
              "      <td>0.0</td>\n",
              "      <td>0.0</td>\n",
              "      <td>0.0</td>\n",
              "      <td>0.0</td>\n",
              "      <td>0.0</td>\n",
              "      <td>0.0</td>\n",
              "      <td>0.0</td>\n",
              "      <td>0.0</td>\n",
              "      <td>0.0</td>\n",
              "      <td>0.0</td>\n",
              "      <td>0.0</td>\n",
              "      <td>0.0</td>\n",
              "      <td>0.0</td>\n",
              "      <td>0.0</td>\n",
              "      <td>0.0</td>\n",
              "      <td>0.0</td>\n",
              "      <td>0.0</td>\n",
              "      <td>0.0</td>\n",
              "      <td>0.0</td>\n",
              "      <td>0.0</td>\n",
              "      <td>0.0</td>\n",
              "      <td>0.0</td>\n",
              "      <td>0.0</td>\n",
              "      <td>0.0</td>\n",
              "      <td>0.0</td>\n",
              "      <td>0.0</td>\n",
              "      <td>0.0</td>\n",
              "      <td>0.0</td>\n",
              "      <td>0.0</td>\n",
              "      <td>...</td>\n",
              "      <td>0.0</td>\n",
              "      <td>0.0</td>\n",
              "      <td>0.0</td>\n",
              "      <td>0.0</td>\n",
              "      <td>0.0</td>\n",
              "      <td>0.0</td>\n",
              "      <td>0.0</td>\n",
              "      <td>0.0</td>\n",
              "      <td>0.0</td>\n",
              "      <td>0.0</td>\n",
              "      <td>0.0</td>\n",
              "      <td>0.0</td>\n",
              "      <td>0.0</td>\n",
              "      <td>0.0</td>\n",
              "      <td>0.0</td>\n",
              "      <td>0.0</td>\n",
              "      <td>0.0</td>\n",
              "      <td>0.0</td>\n",
              "      <td>0.0</td>\n",
              "      <td>0.0</td>\n",
              "      <td>0.0</td>\n",
              "      <td>0.0</td>\n",
              "      <td>0.0</td>\n",
              "      <td>0.0</td>\n",
              "      <td>0.0</td>\n",
              "      <td>0.0</td>\n",
              "      <td>0.0</td>\n",
              "      <td>0.0</td>\n",
              "      <td>0.0</td>\n",
              "      <td>0.0</td>\n",
              "      <td>0.0</td>\n",
              "      <td>0.0</td>\n",
              "      <td>0.0</td>\n",
              "      <td>0.0</td>\n",
              "      <td>0.0</td>\n",
              "      <td>0.0</td>\n",
              "      <td>0.0</td>\n",
              "      <td>0.0</td>\n",
              "      <td>0.0</td>\n",
              "      <td>0.0</td>\n",
              "    </tr>\n",
              "  </tbody>\n",
              "</table>\n",
              "<p>5 rows × 16248 columns</p>\n",
              "</div>"
            ],
            "text/plain": [
              "Book-Title  0      1      2      3      ...  16430  16431  16432  16433\n",
              "User-ID                                 ...                            \n",
              "99            0.0    0.0    0.0    0.0  ...    0.0    0.0    0.0    0.0\n",
              "114           0.0    0.0    0.0    0.0  ...    0.0    0.0    0.0    0.0\n",
              "242           0.0    0.0    0.0    0.0  ...    0.0    0.0    0.0    0.0\n",
              "243           0.0    0.0    0.0    0.0  ...    0.0    0.0    0.0    0.0\n",
              "244           0.0    0.0    0.0    0.0  ...    0.0    0.0    0.0    0.0\n",
              "\n",
              "[5 rows x 16248 columns]"
            ]
          },
          "metadata": {},
          "execution_count": 271
        }
      ]
    },
    {
      "cell_type": "code",
      "metadata": {
        "colab": {
          "base_uri": "https://localhost:8080/"
        },
        "id": "gJGtdB12L2FS",
        "outputId": "4767315e-1539-4faa-e509-edc52a6d87d3"
      },
      "source": [
        "users_items_pivot_matrix = users_items_pivot_matrix_df.values\n",
        "users_items_pivot_matrix[:10]"
      ],
      "execution_count": 272,
      "outputs": [
        {
          "output_type": "execute_result",
          "data": {
            "text/plain": [
              "array([[0., 0., 0., ..., 0., 0., 0.],\n",
              "       [0., 0., 0., ..., 0., 0., 0.],\n",
              "       [0., 0., 0., ..., 0., 0., 0.],\n",
              "       ...,\n",
              "       [0., 0., 0., ..., 0., 0., 0.],\n",
              "       [0., 0., 0., ..., 0., 0., 0.],\n",
              "       [0., 0., 0., ..., 0., 0., 0.]])"
            ]
          },
          "metadata": {},
          "execution_count": 272
        }
      ]
    },
    {
      "cell_type": "code",
      "metadata": {
        "colab": {
          "base_uri": "https://localhost:8080/"
        },
        "id": "FW15lRLLL4c-",
        "outputId": "054c131e-81bd-43c3-aa83-5e0b00bbcc96"
      },
      "source": [
        "users_ids = list(users_items_pivot_matrix_df.index)\n",
        "users_ids[:10]"
      ],
      "execution_count": 273,
      "outputs": [
        {
          "output_type": "execute_result",
          "data": {
            "text/plain": [
              "[99, 114, 242, 243, 244, 254, 388, 446, 487, 503]"
            ]
          },
          "metadata": {},
          "execution_count": 273
        }
      ]
    },
    {
      "cell_type": "code",
      "metadata": {
        "id": "po0M694LL7Pe"
      },
      "source": [
        "from scipy.sparse.linalg import svds\n",
        "# The number of factors to factor the user-item matrix.\n",
        "NUMBER_OF_FACTORS_MF = 15\n",
        "\n",
        "#Performs matrix factorization of the original user item matrix\n",
        "U, sigma, Vt = svds(users_items_pivot_matrix, k = NUMBER_OF_FACTORS_MF)"
      ],
      "execution_count": 274,
      "outputs": []
    },
    {
      "cell_type": "markdown",
      "metadata": {
        "id": "u8-Bb98YMVQN"
      },
      "source": [
        "### After the factorization, we try to to reconstruct the original matrix by multiplying its factors. The resulting matrix is not sparse any more. It was generated predictions for items the user have not yet interaction, which we will exploit for recommendations."
      ]
    },
    {
      "cell_type": "code",
      "metadata": {
        "colab": {
          "base_uri": "https://localhost:8080/"
        },
        "id": "DBL28q0zMgWT",
        "outputId": "426ee2b4-b734-4a37-ab1a-9747ead57087"
      },
      "source": [
        "sigma = np.diag(sigma)\n",
        "sigma.shape"
      ],
      "execution_count": 275,
      "outputs": [
        {
          "output_type": "execute_result",
          "data": {
            "text/plain": [
              "(15, 15)"
            ]
          },
          "metadata": {},
          "execution_count": 275
        }
      ]
    },
    {
      "cell_type": "code",
      "metadata": {
        "colab": {
          "base_uri": "https://localhost:8080/"
        },
        "id": "qBHTrSCCMOP7",
        "outputId": "cc61096a-eca8-4a28-a4e3-ef3194af08e9"
      },
      "source": [
        "all_user_predicted_ratings = np.dot(np.dot(U, sigma), Vt) \n",
        "all_user_predicted_ratings"
      ],
      "execution_count": 276,
      "outputs": [
        {
          "output_type": "execute_result",
          "data": {
            "text/plain": [
              "array([[ 2.89662580e-04,  8.72263072e-05, -1.39335159e-04, ...,\n",
              "         9.32024448e-04,  5.95989371e-04,  1.57262328e-04],\n",
              "       [ 2.59891632e-04,  2.31482652e-04,  8.32016680e-03, ...,\n",
              "         1.19574581e-03,  3.36604969e-03,  6.15499350e-05],\n",
              "       [ 5.03816877e-04,  1.56966343e-03, -1.07426460e-03, ...,\n",
              "         3.93068024e-03, -8.53421646e-04,  8.60077830e-04],\n",
              "       ...,\n",
              "       [-1.14248657e-04, -2.63216364e-04, -3.41431004e-04, ...,\n",
              "        -1.04632688e-03,  7.59363087e-06, -2.87026195e-04],\n",
              "       [ 3.94904705e-05,  2.90046755e-03, -1.43982621e-03, ...,\n",
              "         6.08516830e-03,  1.03099757e-03, -2.31220288e-04],\n",
              "       [-4.70166577e-05, -1.76102476e-04,  7.45186854e-05, ...,\n",
              "        -1.67845007e-03,  5.39881068e-04, -1.39487616e-04]])"
            ]
          },
          "metadata": {},
          "execution_count": 276
        }
      ]
    },
    {
      "cell_type": "code",
      "metadata": {
        "colab": {
          "base_uri": "https://localhost:8080/",
          "height": 300
        },
        "id": "E3qmj9XzMaEe",
        "outputId": "49cf2014-f984-4050-dc65-9837ed66ecd9"
      },
      "source": [
        "#Converting the reconstructed matrix back to a Pandas dataframe\n",
        "cf_preds_df = pd.DataFrame(all_user_predicted_ratings, columns = users_items_pivot_matrix_df.columns, index=users_ids).transpose()\n",
        "cf_preds_df.head()"
      ],
      "execution_count": 277,
      "outputs": [
        {
          "output_type": "execute_result",
          "data": {
            "text/html": [
              "<div>\n",
              "<style scoped>\n",
              "    .dataframe tbody tr th:only-of-type {\n",
              "        vertical-align: middle;\n",
              "    }\n",
              "\n",
              "    .dataframe tbody tr th {\n",
              "        vertical-align: top;\n",
              "    }\n",
              "\n",
              "    .dataframe thead th {\n",
              "        text-align: right;\n",
              "    }\n",
              "</style>\n",
              "<table border=\"1\" class=\"dataframe\">\n",
              "  <thead>\n",
              "    <tr style=\"text-align: right;\">\n",
              "      <th></th>\n",
              "      <th>99</th>\n",
              "      <th>114</th>\n",
              "      <th>242</th>\n",
              "      <th>243</th>\n",
              "      <th>244</th>\n",
              "      <th>254</th>\n",
              "      <th>388</th>\n",
              "      <th>446</th>\n",
              "      <th>487</th>\n",
              "      <th>503</th>\n",
              "      <th>505</th>\n",
              "      <th>507</th>\n",
              "      <th>595</th>\n",
              "      <th>638</th>\n",
              "      <th>643</th>\n",
              "      <th>651</th>\n",
              "      <th>709</th>\n",
              "      <th>735</th>\n",
              "      <th>741</th>\n",
              "      <th>805</th>\n",
              "      <th>834</th>\n",
              "      <th>882</th>\n",
              "      <th>929</th>\n",
              "      <th>1025</th>\n",
              "      <th>1075</th>\n",
              "      <th>1083</th>\n",
              "      <th>1116</th>\n",
              "      <th>1129</th>\n",
              "      <th>1131</th>\n",
              "      <th>1155</th>\n",
              "      <th>1167</th>\n",
              "      <th>1211</th>\n",
              "      <th>1248</th>\n",
              "      <th>1261</th>\n",
              "      <th>1409</th>\n",
              "      <th>1412</th>\n",
              "      <th>1424</th>\n",
              "      <th>1435</th>\n",
              "      <th>1548</th>\n",
              "      <th>1585</th>\n",
              "      <th>...</th>\n",
              "      <th>277378</th>\n",
              "      <th>277427</th>\n",
              "      <th>277439</th>\n",
              "      <th>277478</th>\n",
              "      <th>277523</th>\n",
              "      <th>277527</th>\n",
              "      <th>277623</th>\n",
              "      <th>277629</th>\n",
              "      <th>277639</th>\n",
              "      <th>277710</th>\n",
              "      <th>277711</th>\n",
              "      <th>277744</th>\n",
              "      <th>277901</th>\n",
              "      <th>277922</th>\n",
              "      <th>277928</th>\n",
              "      <th>277937</th>\n",
              "      <th>277945</th>\n",
              "      <th>277959</th>\n",
              "      <th>277965</th>\n",
              "      <th>277984</th>\n",
              "      <th>278007</th>\n",
              "      <th>278026</th>\n",
              "      <th>278137</th>\n",
              "      <th>278188</th>\n",
              "      <th>278194</th>\n",
              "      <th>278202</th>\n",
              "      <th>278221</th>\n",
              "      <th>278314</th>\n",
              "      <th>278356</th>\n",
              "      <th>278390</th>\n",
              "      <th>278418</th>\n",
              "      <th>278522</th>\n",
              "      <th>278535</th>\n",
              "      <th>278552</th>\n",
              "      <th>278554</th>\n",
              "      <th>278582</th>\n",
              "      <th>278633</th>\n",
              "      <th>278694</th>\n",
              "      <th>278843</th>\n",
              "      <th>278854</th>\n",
              "    </tr>\n",
              "    <tr>\n",
              "      <th>Book-Title</th>\n",
              "      <th></th>\n",
              "      <th></th>\n",
              "      <th></th>\n",
              "      <th></th>\n",
              "      <th></th>\n",
              "      <th></th>\n",
              "      <th></th>\n",
              "      <th></th>\n",
              "      <th></th>\n",
              "      <th></th>\n",
              "      <th></th>\n",
              "      <th></th>\n",
              "      <th></th>\n",
              "      <th></th>\n",
              "      <th></th>\n",
              "      <th></th>\n",
              "      <th></th>\n",
              "      <th></th>\n",
              "      <th></th>\n",
              "      <th></th>\n",
              "      <th></th>\n",
              "      <th></th>\n",
              "      <th></th>\n",
              "      <th></th>\n",
              "      <th></th>\n",
              "      <th></th>\n",
              "      <th></th>\n",
              "      <th></th>\n",
              "      <th></th>\n",
              "      <th></th>\n",
              "      <th></th>\n",
              "      <th></th>\n",
              "      <th></th>\n",
              "      <th></th>\n",
              "      <th></th>\n",
              "      <th></th>\n",
              "      <th></th>\n",
              "      <th></th>\n",
              "      <th></th>\n",
              "      <th></th>\n",
              "      <th></th>\n",
              "      <th></th>\n",
              "      <th></th>\n",
              "      <th></th>\n",
              "      <th></th>\n",
              "      <th></th>\n",
              "      <th></th>\n",
              "      <th></th>\n",
              "      <th></th>\n",
              "      <th></th>\n",
              "      <th></th>\n",
              "      <th></th>\n",
              "      <th></th>\n",
              "      <th></th>\n",
              "      <th></th>\n",
              "      <th></th>\n",
              "      <th></th>\n",
              "      <th></th>\n",
              "      <th></th>\n",
              "      <th></th>\n",
              "      <th></th>\n",
              "      <th></th>\n",
              "      <th></th>\n",
              "      <th></th>\n",
              "      <th></th>\n",
              "      <th></th>\n",
              "      <th></th>\n",
              "      <th></th>\n",
              "      <th></th>\n",
              "      <th></th>\n",
              "      <th></th>\n",
              "      <th></th>\n",
              "      <th></th>\n",
              "      <th></th>\n",
              "      <th></th>\n",
              "      <th></th>\n",
              "      <th></th>\n",
              "      <th></th>\n",
              "      <th></th>\n",
              "      <th></th>\n",
              "      <th></th>\n",
              "    </tr>\n",
              "  </thead>\n",
              "  <tbody>\n",
              "    <tr>\n",
              "      <th>0</th>\n",
              "      <td>0.000290</td>\n",
              "      <td>0.000260</td>\n",
              "      <td>0.000504</td>\n",
              "      <td>0.002462</td>\n",
              "      <td>0.001065</td>\n",
              "      <td>-0.001061</td>\n",
              "      <td>0.000136</td>\n",
              "      <td>0.000090</td>\n",
              "      <td>0.000576</td>\n",
              "      <td>-0.000071</td>\n",
              "      <td>0.000387</td>\n",
              "      <td>0.003026</td>\n",
              "      <td>0.000586</td>\n",
              "      <td>0.004055</td>\n",
              "      <td>0.000095</td>\n",
              "      <td>0.000181</td>\n",
              "      <td>-0.000939</td>\n",
              "      <td>-0.000481</td>\n",
              "      <td>0.000019</td>\n",
              "      <td>0.004339</td>\n",
              "      <td>-0.000049</td>\n",
              "      <td>0.002872</td>\n",
              "      <td>0.000420</td>\n",
              "      <td>0.001738</td>\n",
              "      <td>0.000337</td>\n",
              "      <td>-0.000026</td>\n",
              "      <td>-0.000028</td>\n",
              "      <td>0.000318</td>\n",
              "      <td>0.001562</td>\n",
              "      <td>-0.000022</td>\n",
              "      <td>-0.000038</td>\n",
              "      <td>0.000166</td>\n",
              "      <td>0.000665</td>\n",
              "      <td>0.000705</td>\n",
              "      <td>0.000182</td>\n",
              "      <td>0.000491</td>\n",
              "      <td>0.001494</td>\n",
              "      <td>-0.000280</td>\n",
              "      <td>0.001874</td>\n",
              "      <td>-0.000284</td>\n",
              "      <td>...</td>\n",
              "      <td>0.002164</td>\n",
              "      <td>0.003102</td>\n",
              "      <td>-0.001171</td>\n",
              "      <td>0.000237</td>\n",
              "      <td>-0.001603</td>\n",
              "      <td>0.000978</td>\n",
              "      <td>0.000571</td>\n",
              "      <td>0.000015</td>\n",
              "      <td>-0.000151</td>\n",
              "      <td>-0.001123</td>\n",
              "      <td>0.000277</td>\n",
              "      <td>0.000506</td>\n",
              "      <td>0.001842</td>\n",
              "      <td>-0.000027</td>\n",
              "      <td>0.000136</td>\n",
              "      <td>0.000901</td>\n",
              "      <td>0.001918</td>\n",
              "      <td>0.000405</td>\n",
              "      <td>0.000771</td>\n",
              "      <td>-0.000505</td>\n",
              "      <td>0.001046</td>\n",
              "      <td>-0.000528</td>\n",
              "      <td>0.001842</td>\n",
              "      <td>0.001558</td>\n",
              "      <td>0.001448</td>\n",
              "      <td>0.000525</td>\n",
              "      <td>0.000525</td>\n",
              "      <td>0.000487</td>\n",
              "      <td>-0.002770</td>\n",
              "      <td>-0.000230</td>\n",
              "      <td>0.001369</td>\n",
              "      <td>-0.000236</td>\n",
              "      <td>-0.001063</td>\n",
              "      <td>0.000250</td>\n",
              "      <td>0.002765</td>\n",
              "      <td>0.002369</td>\n",
              "      <td>0.000670</td>\n",
              "      <td>-0.000114</td>\n",
              "      <td>0.000039</td>\n",
              "      <td>-0.000047</td>\n",
              "    </tr>\n",
              "    <tr>\n",
              "      <th>1</th>\n",
              "      <td>0.000087</td>\n",
              "      <td>0.000231</td>\n",
              "      <td>0.001570</td>\n",
              "      <td>-0.000010</td>\n",
              "      <td>0.001731</td>\n",
              "      <td>0.015440</td>\n",
              "      <td>0.000674</td>\n",
              "      <td>-0.000087</td>\n",
              "      <td>-0.001112</td>\n",
              "      <td>0.001061</td>\n",
              "      <td>0.000511</td>\n",
              "      <td>0.002984</td>\n",
              "      <td>-0.000139</td>\n",
              "      <td>0.003784</td>\n",
              "      <td>0.000229</td>\n",
              "      <td>0.000375</td>\n",
              "      <td>0.000485</td>\n",
              "      <td>-0.000264</td>\n",
              "      <td>0.000026</td>\n",
              "      <td>0.004479</td>\n",
              "      <td>0.000322</td>\n",
              "      <td>0.003301</td>\n",
              "      <td>0.002650</td>\n",
              "      <td>0.000978</td>\n",
              "      <td>0.002038</td>\n",
              "      <td>0.000799</td>\n",
              "      <td>-0.000163</td>\n",
              "      <td>-0.002367</td>\n",
              "      <td>0.001056</td>\n",
              "      <td>0.000422</td>\n",
              "      <td>0.000027</td>\n",
              "      <td>0.000102</td>\n",
              "      <td>0.000512</td>\n",
              "      <td>0.001388</td>\n",
              "      <td>-0.000452</td>\n",
              "      <td>0.001815</td>\n",
              "      <td>0.002798</td>\n",
              "      <td>0.002963</td>\n",
              "      <td>0.001925</td>\n",
              "      <td>0.000632</td>\n",
              "      <td>...</td>\n",
              "      <td>0.001879</td>\n",
              "      <td>0.007630</td>\n",
              "      <td>-0.000428</td>\n",
              "      <td>0.000176</td>\n",
              "      <td>-0.002533</td>\n",
              "      <td>0.001493</td>\n",
              "      <td>0.001308</td>\n",
              "      <td>-0.000624</td>\n",
              "      <td>-0.002351</td>\n",
              "      <td>0.000937</td>\n",
              "      <td>0.000028</td>\n",
              "      <td>0.001002</td>\n",
              "      <td>0.001325</td>\n",
              "      <td>-0.001479</td>\n",
              "      <td>0.000154</td>\n",
              "      <td>0.000474</td>\n",
              "      <td>-0.001112</td>\n",
              "      <td>-0.000197</td>\n",
              "      <td>0.000998</td>\n",
              "      <td>-0.000418</td>\n",
              "      <td>0.001284</td>\n",
              "      <td>-0.000609</td>\n",
              "      <td>0.002995</td>\n",
              "      <td>-0.001476</td>\n",
              "      <td>0.000231</td>\n",
              "      <td>-0.001706</td>\n",
              "      <td>0.000537</td>\n",
              "      <td>0.000201</td>\n",
              "      <td>0.006887</td>\n",
              "      <td>0.001425</td>\n",
              "      <td>0.001454</td>\n",
              "      <td>0.000181</td>\n",
              "      <td>-0.001166</td>\n",
              "      <td>0.000234</td>\n",
              "      <td>0.002620</td>\n",
              "      <td>0.002824</td>\n",
              "      <td>0.001435</td>\n",
              "      <td>-0.000263</td>\n",
              "      <td>0.002900</td>\n",
              "      <td>-0.000176</td>\n",
              "    </tr>\n",
              "    <tr>\n",
              "      <th>2</th>\n",
              "      <td>-0.000139</td>\n",
              "      <td>0.008320</td>\n",
              "      <td>-0.001074</td>\n",
              "      <td>0.000340</td>\n",
              "      <td>0.005222</td>\n",
              "      <td>0.000454</td>\n",
              "      <td>0.000097</td>\n",
              "      <td>0.002381</td>\n",
              "      <td>-0.001705</td>\n",
              "      <td>-0.001014</td>\n",
              "      <td>-0.001621</td>\n",
              "      <td>0.000307</td>\n",
              "      <td>-0.001135</td>\n",
              "      <td>0.002515</td>\n",
              "      <td>-0.000174</td>\n",
              "      <td>-0.002069</td>\n",
              "      <td>-0.002671</td>\n",
              "      <td>0.005070</td>\n",
              "      <td>-0.000126</td>\n",
              "      <td>0.001687</td>\n",
              "      <td>0.000194</td>\n",
              "      <td>0.001269</td>\n",
              "      <td>-0.001591</td>\n",
              "      <td>0.000085</td>\n",
              "      <td>-0.000989</td>\n",
              "      <td>-0.001108</td>\n",
              "      <td>-0.000312</td>\n",
              "      <td>-0.004969</td>\n",
              "      <td>0.006638</td>\n",
              "      <td>0.000723</td>\n",
              "      <td>-0.000328</td>\n",
              "      <td>-0.000415</td>\n",
              "      <td>-0.000569</td>\n",
              "      <td>0.000832</td>\n",
              "      <td>-0.001247</td>\n",
              "      <td>0.007744</td>\n",
              "      <td>-0.000007</td>\n",
              "      <td>-0.002517</td>\n",
              "      <td>0.000829</td>\n",
              "      <td>0.000200</td>\n",
              "      <td>...</td>\n",
              "      <td>0.000317</td>\n",
              "      <td>0.004050</td>\n",
              "      <td>-0.000761</td>\n",
              "      <td>-0.000308</td>\n",
              "      <td>0.026947</td>\n",
              "      <td>0.000459</td>\n",
              "      <td>0.001001</td>\n",
              "      <td>-0.004065</td>\n",
              "      <td>-0.004344</td>\n",
              "      <td>0.011607</td>\n",
              "      <td>-0.000271</td>\n",
              "      <td>-0.000816</td>\n",
              "      <td>0.001463</td>\n",
              "      <td>-0.002599</td>\n",
              "      <td>-0.001247</td>\n",
              "      <td>-0.000576</td>\n",
              "      <td>0.002342</td>\n",
              "      <td>0.002934</td>\n",
              "      <td>-0.001221</td>\n",
              "      <td>0.002403</td>\n",
              "      <td>0.001670</td>\n",
              "      <td>0.004930</td>\n",
              "      <td>-0.001925</td>\n",
              "      <td>0.006300</td>\n",
              "      <td>-0.001635</td>\n",
              "      <td>0.002552</td>\n",
              "      <td>0.002942</td>\n",
              "      <td>-0.000392</td>\n",
              "      <td>-0.003109</td>\n",
              "      <td>0.001795</td>\n",
              "      <td>-0.004269</td>\n",
              "      <td>-0.000312</td>\n",
              "      <td>-0.000954</td>\n",
              "      <td>-0.000249</td>\n",
              "      <td>0.001912</td>\n",
              "      <td>0.027345</td>\n",
              "      <td>-0.004319</td>\n",
              "      <td>-0.000341</td>\n",
              "      <td>-0.001440</td>\n",
              "      <td>0.000075</td>\n",
              "    </tr>\n",
              "    <tr>\n",
              "      <th>3</th>\n",
              "      <td>0.000242</td>\n",
              "      <td>0.000760</td>\n",
              "      <td>0.001840</td>\n",
              "      <td>0.002448</td>\n",
              "      <td>0.002258</td>\n",
              "      <td>-0.002561</td>\n",
              "      <td>0.000301</td>\n",
              "      <td>0.000375</td>\n",
              "      <td>-0.000018</td>\n",
              "      <td>-0.000452</td>\n",
              "      <td>0.000596</td>\n",
              "      <td>0.002749</td>\n",
              "      <td>-0.000348</td>\n",
              "      <td>0.001564</td>\n",
              "      <td>0.000023</td>\n",
              "      <td>0.000768</td>\n",
              "      <td>-0.001468</td>\n",
              "      <td>-0.000868</td>\n",
              "      <td>0.000060</td>\n",
              "      <td>0.005346</td>\n",
              "      <td>-0.000226</td>\n",
              "      <td>0.003560</td>\n",
              "      <td>0.002393</td>\n",
              "      <td>0.001840</td>\n",
              "      <td>0.001653</td>\n",
              "      <td>-0.000027</td>\n",
              "      <td>0.000041</td>\n",
              "      <td>-0.000982</td>\n",
              "      <td>0.002045</td>\n",
              "      <td>-0.000201</td>\n",
              "      <td>0.000049</td>\n",
              "      <td>0.000238</td>\n",
              "      <td>0.001240</td>\n",
              "      <td>0.000940</td>\n",
              "      <td>-0.000116</td>\n",
              "      <td>0.001372</td>\n",
              "      <td>0.001639</td>\n",
              "      <td>0.000431</td>\n",
              "      <td>0.002104</td>\n",
              "      <td>0.000379</td>\n",
              "      <td>...</td>\n",
              "      <td>0.003433</td>\n",
              "      <td>0.007200</td>\n",
              "      <td>-0.001454</td>\n",
              "      <td>0.000661</td>\n",
              "      <td>-0.003542</td>\n",
              "      <td>0.001229</td>\n",
              "      <td>0.000743</td>\n",
              "      <td>0.000197</td>\n",
              "      <td>-0.000903</td>\n",
              "      <td>-0.000751</td>\n",
              "      <td>0.000714</td>\n",
              "      <td>0.000603</td>\n",
              "      <td>0.001712</td>\n",
              "      <td>-0.000539</td>\n",
              "      <td>0.000084</td>\n",
              "      <td>0.001013</td>\n",
              "      <td>-0.000422</td>\n",
              "      <td>0.000011</td>\n",
              "      <td>0.000746</td>\n",
              "      <td>-0.000646</td>\n",
              "      <td>0.000785</td>\n",
              "      <td>-0.000773</td>\n",
              "      <td>0.003325</td>\n",
              "      <td>0.000314</td>\n",
              "      <td>0.001833</td>\n",
              "      <td>-0.000519</td>\n",
              "      <td>0.001237</td>\n",
              "      <td>0.000600</td>\n",
              "      <td>-0.006258</td>\n",
              "      <td>0.000053</td>\n",
              "      <td>0.002481</td>\n",
              "      <td>-0.000457</td>\n",
              "      <td>0.000413</td>\n",
              "      <td>0.000196</td>\n",
              "      <td>0.000944</td>\n",
              "      <td>0.003483</td>\n",
              "      <td>-0.001323</td>\n",
              "      <td>-0.000056</td>\n",
              "      <td>0.000184</td>\n",
              "      <td>0.000015</td>\n",
              "    </tr>\n",
              "    <tr>\n",
              "      <th>4</th>\n",
              "      <td>-0.000066</td>\n",
              "      <td>0.000059</td>\n",
              "      <td>0.000894</td>\n",
              "      <td>0.000818</td>\n",
              "      <td>0.001356</td>\n",
              "      <td>0.000858</td>\n",
              "      <td>0.000652</td>\n",
              "      <td>-0.000093</td>\n",
              "      <td>-0.000407</td>\n",
              "      <td>0.000513</td>\n",
              "      <td>0.001213</td>\n",
              "      <td>0.001308</td>\n",
              "      <td>0.000006</td>\n",
              "      <td>0.003347</td>\n",
              "      <td>0.000225</td>\n",
              "      <td>0.000031</td>\n",
              "      <td>0.000651</td>\n",
              "      <td>-0.000380</td>\n",
              "      <td>0.000019</td>\n",
              "      <td>0.003273</td>\n",
              "      <td>0.000188</td>\n",
              "      <td>0.001793</td>\n",
              "      <td>0.002142</td>\n",
              "      <td>0.001003</td>\n",
              "      <td>0.000976</td>\n",
              "      <td>0.000212</td>\n",
              "      <td>-0.000045</td>\n",
              "      <td>-0.000678</td>\n",
              "      <td>0.000935</td>\n",
              "      <td>0.000296</td>\n",
              "      <td>-0.000221</td>\n",
              "      <td>0.000075</td>\n",
              "      <td>0.000669</td>\n",
              "      <td>0.000631</td>\n",
              "      <td>-0.000320</td>\n",
              "      <td>0.001241</td>\n",
              "      <td>0.001959</td>\n",
              "      <td>0.004017</td>\n",
              "      <td>0.001500</td>\n",
              "      <td>0.000062</td>\n",
              "      <td>...</td>\n",
              "      <td>0.000517</td>\n",
              "      <td>0.001077</td>\n",
              "      <td>0.000292</td>\n",
              "      <td>0.000077</td>\n",
              "      <td>-0.001922</td>\n",
              "      <td>0.000871</td>\n",
              "      <td>0.000437</td>\n",
              "      <td>-0.000630</td>\n",
              "      <td>0.000653</td>\n",
              "      <td>0.003001</td>\n",
              "      <td>0.000033</td>\n",
              "      <td>0.000546</td>\n",
              "      <td>0.001026</td>\n",
              "      <td>0.000065</td>\n",
              "      <td>-0.000194</td>\n",
              "      <td>0.000084</td>\n",
              "      <td>-0.000504</td>\n",
              "      <td>0.000067</td>\n",
              "      <td>0.000417</td>\n",
              "      <td>0.000070</td>\n",
              "      <td>0.001061</td>\n",
              "      <td>-0.001692</td>\n",
              "      <td>0.001770</td>\n",
              "      <td>-0.000363</td>\n",
              "      <td>-0.000244</td>\n",
              "      <td>-0.000645</td>\n",
              "      <td>0.000354</td>\n",
              "      <td>0.000009</td>\n",
              "      <td>-0.004300</td>\n",
              "      <td>0.000297</td>\n",
              "      <td>0.001119</td>\n",
              "      <td>0.000111</td>\n",
              "      <td>-0.001542</td>\n",
              "      <td>0.000310</td>\n",
              "      <td>0.001827</td>\n",
              "      <td>-0.001558</td>\n",
              "      <td>0.003055</td>\n",
              "      <td>-0.000231</td>\n",
              "      <td>0.000464</td>\n",
              "      <td>-0.000260</td>\n",
              "    </tr>\n",
              "  </tbody>\n",
              "</table>\n",
              "<p>5 rows × 8371 columns</p>\n",
              "</div>"
            ],
            "text/plain": [
              "              99        114       242     ...    278694    278843    278854\n",
              "Book-Title                                ...                              \n",
              "0           0.000290  0.000260  0.000504  ... -0.000114  0.000039 -0.000047\n",
              "1           0.000087  0.000231  0.001570  ... -0.000263  0.002900 -0.000176\n",
              "2          -0.000139  0.008320 -0.001074  ... -0.000341 -0.001440  0.000075\n",
              "3           0.000242  0.000760  0.001840  ... -0.000056  0.000184  0.000015\n",
              "4          -0.000066  0.000059  0.000894  ... -0.000231  0.000464 -0.000260\n",
              "\n",
              "[5 rows x 8371 columns]"
            ]
          },
          "metadata": {},
          "execution_count": 277
        }
      ]
    },
    {
      "cell_type": "code",
      "metadata": {
        "id": "owfjNNnzMpYt"
      },
      "source": [
        "class CFRecommender:\n",
        "    \n",
        "    MODEL_NAME = 'Collaborative Filtering'\n",
        "    \n",
        "    def __init__(self, cf_predictions_df, items_df=None):\n",
        "        self.cf_predictions_df = cf_predictions_df\n",
        "        self.items_df = items_df\n",
        "        \n",
        "    def get_model_name(self):\n",
        "        return self.MODEL_NAME\n",
        "        \n",
        "    def recommend_items(self, user_id, items_to_ignore=[], topn=10, verbose=False):\n",
        "        # Get and sort the user's predictions\n",
        "        sorted_user_predictions = self.cf_predictions_df[user_id].sort_values(ascending=False).reset_index().rename(columns={user_id: 'recStrength'})\n",
        "\n",
        "        # Recommend the highest predicted rating content that the user hasn't seen yet.\n",
        "        recommendations_df = sorted_user_predictions[~sorted_user_predictions['Book-Title'].isin(items_to_ignore)].sort_values('recStrength', ascending = False).head(topn)\n",
        "\n",
        "        if verbose:\n",
        "            if self.items_df is None:\n",
        "                raise Exception('\"items_df\" is required in verbose mode')\n",
        "\n",
        "            recommendations_df = recommendations_df.merge(self.items_df, how = 'left', \n",
        "                                                          left_on = 'Book-Title', \n",
        "                                                          right_on = 'Book-Title')[['recStrength','Book-Title']]\n",
        "\n",
        "\n",
        "        return recommendations_df\n",
        "    \n",
        "cf_recommender_model = CFRecommender(cf_preds_df, items_df=df_merged_updated)"
      ],
      "execution_count": 278,
      "outputs": []
    },
    {
      "cell_type": "code",
      "metadata": {
        "colab": {
          "base_uri": "https://localhost:8080/"
        },
        "id": "wcW1HZd-eFU5",
        "outputId": "41157b3b-0523-4483-a81e-07a03daf3c7a"
      },
      "source": [
        "cf_recommender_model"
      ],
      "execution_count": 279,
      "outputs": [
        {
          "output_type": "execute_result",
          "data": {
            "text/plain": [
              "<__main__.CFRecommender at 0x7f5e164e9310>"
            ]
          },
          "metadata": {},
          "execution_count": 279
        }
      ]
    },
    {
      "cell_type": "code",
      "metadata": {
        "id": "BmfVsodHM9ZD"
      },
      "source": [
        "#Indexing by personId to speed up the searches during evaluation\n",
        "interactions_full_indexed_df = interactions_full_df.set_index('User-ID')\n",
        "interactions_train_indexed_df = interactions_train_df.set_index('User-ID')\n",
        "interactions_test_indexed_df = interactions_test_df.set_index('User-ID')"
      ],
      "execution_count": 280,
      "outputs": []
    },
    {
      "cell_type": "code",
      "metadata": {
        "colab": {
          "base_uri": "https://localhost:8080/",
          "height": 235
        },
        "id": "juPqXQ7pzz-i",
        "outputId": "0c7ba721-4ca8-4a76-d852-d7fcf69ba2d4"
      },
      "source": [
        "interactions_test_indexed_df.head()"
      ],
      "execution_count": 281,
      "outputs": [
        {
          "output_type": "execute_result",
          "data": {
            "text/html": [
              "<div>\n",
              "<style scoped>\n",
              "    .dataframe tbody tr th:only-of-type {\n",
              "        vertical-align: middle;\n",
              "    }\n",
              "\n",
              "    .dataframe tbody tr th {\n",
              "        vertical-align: top;\n",
              "    }\n",
              "\n",
              "    .dataframe thead th {\n",
              "        text-align: right;\n",
              "    }\n",
              "</style>\n",
              "<table border=\"1\" class=\"dataframe\">\n",
              "  <thead>\n",
              "    <tr style=\"text-align: right;\">\n",
              "      <th></th>\n",
              "      <th>Book-Title</th>\n",
              "      <th>Book-Rating</th>\n",
              "    </tr>\n",
              "    <tr>\n",
              "      <th>User-ID</th>\n",
              "      <th></th>\n",
              "      <th></th>\n",
              "    </tr>\n",
              "  </thead>\n",
              "  <tbody>\n",
              "    <tr>\n",
              "      <th>105335</th>\n",
              "      <td>130</td>\n",
              "      <td>3.169925</td>\n",
              "    </tr>\n",
              "    <tr>\n",
              "      <th>208236</th>\n",
              "      <td>881</td>\n",
              "      <td>3.169925</td>\n",
              "    </tr>\n",
              "    <tr>\n",
              "      <th>638</th>\n",
              "      <td>11915</td>\n",
              "      <td>3.459432</td>\n",
              "    </tr>\n",
              "    <tr>\n",
              "      <th>203900</th>\n",
              "      <td>5992</td>\n",
              "      <td>3.459432</td>\n",
              "    </tr>\n",
              "    <tr>\n",
              "      <th>189334</th>\n",
              "      <td>1944</td>\n",
              "      <td>3.459432</td>\n",
              "    </tr>\n",
              "  </tbody>\n",
              "</table>\n",
              "</div>"
            ],
            "text/plain": [
              "         Book-Title  Book-Rating\n",
              "User-ID                         \n",
              "105335          130     3.169925\n",
              "208236          881     3.169925\n",
              "638           11915     3.459432\n",
              "203900         5992     3.459432\n",
              "189334         1944     3.459432"
            ]
          },
          "metadata": {},
          "execution_count": 281
        }
      ]
    },
    {
      "cell_type": "code",
      "metadata": {
        "id": "wLpQsKm9NJ2i"
      },
      "source": [
        "def get_items_interacted(person_id, interactions_df):\n",
        "    interacted_items = interactions_df.loc[person_id]['Book-Title']\n",
        "    return set(interacted_items if type(interacted_items) == pd.Series else [interacted_items])"
      ],
      "execution_count": 282,
      "outputs": []
    },
    {
      "cell_type": "code",
      "metadata": {
        "id": "gIHGf6B6NLNd"
      },
      "source": [
        "#Top-N accuracy metrics consts\n",
        "EVAL_RANDOM_SAMPLE_NON_INTERACTED_ITEMS = 100\n",
        "\n",
        "class ModelEvaluator:\n",
        "\n",
        "    # Function for getting the set of items which a user has not interacted with\n",
        "    def get_not_interacted_items_sample(self, person_id, sample_size, seed=42):\n",
        "        interacted_items = get_items_interacted(person_id, interactions_full_indexed_df)\n",
        "        all_items = set(df_merged_updated['Book-Title'])\n",
        "        non_interacted_items = all_items - interacted_items\n",
        "\n",
        "        random.seed(seed)\n",
        "        non_interacted_items_sample = random.sample(non_interacted_items, sample_size)\n",
        "        return set(non_interacted_items_sample)\n",
        "\n",
        "    # Function to verify whether a particular item_id was present in the set of top N recommended items\n",
        "    def _verify_hit_top_n(self, item_id, recommended_items, topn):        \n",
        "            try:\n",
        "                index = next(i for i, c in enumerate(recommended_items) if c == item_id)\n",
        "            except:\n",
        "                index = -1\n",
        "            hit = int(index in range(0, topn))\n",
        "            return hit, index\n",
        "    \n",
        "    # Function to evaluate the performance of model for each user\n",
        "    def evaluate_model_for_user(self, model, person_id):\n",
        "        \n",
        "        # Getting the items in test set\n",
        "        interacted_values_testset = interactions_test_indexed_df.loc[person_id]\n",
        "        \n",
        "        if type(interacted_values_testset['Book-Title']) == pd.Series:\n",
        "            person_interacted_items_testset = set(interacted_values_testset['Book-Title'])\n",
        "        else:\n",
        "            person_interacted_items_testset = set([int(interacted_values_testset['Book-Title'])])\n",
        "            \n",
        "        interacted_items_count_testset = len(person_interacted_items_testset) \n",
        "\n",
        "        # Getting a ranked recommendation list from the model for a given user\n",
        "        person_recs_df = model.recommend_items(person_id, items_to_ignore=get_items_interacted(person_id, interactions_train_indexed_df),topn=10000000000)\n",
        "\n",
        "        hits_at_5_count = 0\n",
        "        hits_at_10_count = 0\n",
        "        \n",
        "        # For each item the user has interacted in test set\n",
        "        for item_id in person_interacted_items_testset:\n",
        "            \n",
        "            # Getting a random sample of 100 items the user has not interacted with\n",
        "            non_interacted_items_sample = self.get_not_interacted_items_sample(person_id, sample_size=EVAL_RANDOM_SAMPLE_NON_INTERACTED_ITEMS, seed=item_id%2)\n",
        "\n",
        "            # Combining the current interacted item with the 100 random items\n",
        "            items_to_filter_recs = non_interacted_items_sample.union(set([item_id]))\n",
        "\n",
        "            # Filtering only recommendations that are either the interacted item or from a random sample of 100 non-interacted items\n",
        "            valid_recs_df = person_recs_df[person_recs_df['Book-Title'].isin(items_to_filter_recs)]                    \n",
        "            valid_recs = valid_recs_df['Book-Title'].values\n",
        "            \n",
        "            # Verifying if the current interacted item is among the Top-N recommended items\n",
        "            hit_at_5, index_at_5 = self._verify_hit_top_n(item_id, valid_recs, 5)\n",
        "            hits_at_5_count += hit_at_5\n",
        "            hit_at_10, index_at_10 = self._verify_hit_top_n(item_id, valid_recs, 10)\n",
        "            hits_at_10_count += hit_at_10\n",
        "\n",
        "        # Recall is the rate of the interacted items that are ranked among the Top-N recommended items\n",
        "        recall_at_5 = hits_at_5_count / float(interacted_items_count_testset)\n",
        "        recall_at_10 = hits_at_10_count / float(interacted_items_count_testset)\n",
        "\n",
        "        person_metrics = {'hits@5_count':hits_at_5_count, \n",
        "                          'hits@10_count':hits_at_10_count, \n",
        "                          'interacted_count': interacted_items_count_testset,\n",
        "                          'recall@5': recall_at_5,\n",
        "                          'recall@10': recall_at_10}\n",
        "        return person_metrics\n",
        "\n",
        "    \n",
        "    # Function to evaluate the performance of model at overall level\n",
        "    def evaluate_model(self, model):\n",
        "        \n",
        "        people_metrics = []\n",
        "        \n",
        "        for idx, person_id in enumerate(list(interactions_test_indexed_df.index.unique().values)):    \n",
        "            person_metrics = self.evaluate_model_for_user(model, person_id)  \n",
        "            person_metrics['_person_id'] = person_id\n",
        "            people_metrics.append(person_metrics)\n",
        "            \n",
        "        print('%d users processed' % idx)\n",
        "\n",
        "        detailed_results_df = pd.DataFrame(people_metrics).sort_values('interacted_count', ascending=False)\n",
        "        \n",
        "        global_recall_at_5 = detailed_results_df['hits@5_count'].sum() / float(detailed_results_df['interacted_count'].sum())\n",
        "        global_recall_at_10 = detailed_results_df['hits@10_count'].sum() / float(detailed_results_df['interacted_count'].sum())\n",
        "        \n",
        "        global_metrics = {'modelName': model.get_model_name(),\n",
        "                          'recall@5': global_recall_at_5,\n",
        "                          'recall@10': global_recall_at_10}    \n",
        "        return global_metrics, detailed_results_df\n",
        "    \n",
        "model_evaluator = ModelEvaluator() "
      ],
      "execution_count": 283,
      "outputs": []
    },
    {
      "cell_type": "code",
      "metadata": {
        "colab": {
          "base_uri": "https://localhost:8080/",
          "height": 447
        },
        "id": "NYu1V3rINcWL",
        "outputId": "3f548ad4-90e5-44fa-e8ce-cf27281258c6"
      },
      "source": [
        "print('Evaluating Collaborative Filtering (SVD Matrix Factorization) model...')\n",
        "cf_global_metrics, cf_detailed_results_df = model_evaluator.evaluate_model(cf_recommender_model)\n",
        "\n",
        "print('\\nGlobal metrics:\\n%s' % cf_global_metrics)\n",
        "cf_detailed_results_df.head(10)"
      ],
      "execution_count": 284,
      "outputs": [
        {
          "output_type": "stream",
          "name": "stdout",
          "text": [
            "Evaluating Collaborative Filtering (SVD Matrix Factorization) model...\n",
            "8370 users processed\n",
            "\n",
            "Global metrics:\n",
            "{'modelName': 'Collaborative Filtering', 'recall@5': 0.9900351111854205, 'recall@10': 0.9900351111854205}\n"
          ]
        },
        {
          "output_type": "execute_result",
          "data": {
            "text/html": [
              "<div>\n",
              "<style scoped>\n",
              "    .dataframe tbody tr th:only-of-type {\n",
              "        vertical-align: middle;\n",
              "    }\n",
              "\n",
              "    .dataframe tbody tr th {\n",
              "        vertical-align: top;\n",
              "    }\n",
              "\n",
              "    .dataframe thead th {\n",
              "        text-align: right;\n",
              "    }\n",
              "</style>\n",
              "<table border=\"1\" class=\"dataframe\">\n",
              "  <thead>\n",
              "    <tr style=\"text-align: right;\">\n",
              "      <th></th>\n",
              "      <th>hits@5_count</th>\n",
              "      <th>hits@10_count</th>\n",
              "      <th>interacted_count</th>\n",
              "      <th>recall@5</th>\n",
              "      <th>recall@10</th>\n",
              "      <th>_person_id</th>\n",
              "    </tr>\n",
              "  </thead>\n",
              "  <tbody>\n",
              "    <tr>\n",
              "      <th>86</th>\n",
              "      <td>667</td>\n",
              "      <td>667</td>\n",
              "      <td>691</td>\n",
              "      <td>0.965268</td>\n",
              "      <td>0.965268</td>\n",
              "      <td>11676</td>\n",
              "    </tr>\n",
              "    <tr>\n",
              "      <th>82</th>\n",
              "      <td>236</td>\n",
              "      <td>236</td>\n",
              "      <td>241</td>\n",
              "      <td>0.979253</td>\n",
              "      <td>0.979253</td>\n",
              "      <td>98391</td>\n",
              "    </tr>\n",
              "    <tr>\n",
              "      <th>18</th>\n",
              "      <td>120</td>\n",
              "      <td>120</td>\n",
              "      <td>120</td>\n",
              "      <td>1.000000</td>\n",
              "      <td>1.000000</td>\n",
              "      <td>153662</td>\n",
              "    </tr>\n",
              "    <tr>\n",
              "      <th>314</th>\n",
              "      <td>100</td>\n",
              "      <td>100</td>\n",
              "      <td>101</td>\n",
              "      <td>0.990099</td>\n",
              "      <td>0.990099</td>\n",
              "      <td>16795</td>\n",
              "    </tr>\n",
              "    <tr>\n",
              "      <th>312</th>\n",
              "      <td>86</td>\n",
              "      <td>86</td>\n",
              "      <td>86</td>\n",
              "      <td>1.000000</td>\n",
              "      <td>1.000000</td>\n",
              "      <td>114368</td>\n",
              "    </tr>\n",
              "    <tr>\n",
              "      <th>226</th>\n",
              "      <td>82</td>\n",
              "      <td>82</td>\n",
              "      <td>83</td>\n",
              "      <td>0.987952</td>\n",
              "      <td>0.987952</td>\n",
              "      <td>95359</td>\n",
              "    </tr>\n",
              "    <tr>\n",
              "      <th>68</th>\n",
              "      <td>73</td>\n",
              "      <td>73</td>\n",
              "      <td>73</td>\n",
              "      <td>1.000000</td>\n",
              "      <td>1.000000</td>\n",
              "      <td>235105</td>\n",
              "    </tr>\n",
              "    <tr>\n",
              "      <th>324</th>\n",
              "      <td>66</td>\n",
              "      <td>66</td>\n",
              "      <td>66</td>\n",
              "      <td>1.000000</td>\n",
              "      <td>1.000000</td>\n",
              "      <td>104636</td>\n",
              "    </tr>\n",
              "    <tr>\n",
              "      <th>168</th>\n",
              "      <td>65</td>\n",
              "      <td>65</td>\n",
              "      <td>65</td>\n",
              "      <td>1.000000</td>\n",
              "      <td>1.000000</td>\n",
              "      <td>35859</td>\n",
              "    </tr>\n",
              "    <tr>\n",
              "      <th>1090</th>\n",
              "      <td>64</td>\n",
              "      <td>64</td>\n",
              "      <td>64</td>\n",
              "      <td>1.000000</td>\n",
              "      <td>1.000000</td>\n",
              "      <td>158295</td>\n",
              "    </tr>\n",
              "  </tbody>\n",
              "</table>\n",
              "</div>"
            ],
            "text/plain": [
              "      hits@5_count  hits@10_count  ...  recall@10  _person_id\n",
              "86             667            667  ...   0.965268       11676\n",
              "82             236            236  ...   0.979253       98391\n",
              "18             120            120  ...   1.000000      153662\n",
              "314            100            100  ...   0.990099       16795\n",
              "312             86             86  ...   1.000000      114368\n",
              "226             82             82  ...   0.987952       95359\n",
              "68              73             73  ...   1.000000      235105\n",
              "324             66             66  ...   1.000000      104636\n",
              "168             65             65  ...   1.000000       35859\n",
              "1090            64             64  ...   1.000000      158295\n",
              "\n",
              "[10 rows x 6 columns]"
            ]
          },
          "metadata": {},
          "execution_count": 284
        }
      ]
    },
    {
      "cell_type": "markdown",
      "metadata": {
        "id": "4khrg-Qi_K6e"
      },
      "source": [
        "# We have obtained \n",
        "#● **Recall@5: 99%**\n",
        "#● **Recall@10: 99%**"
      ]
    },
    {
      "cell_type": "code",
      "metadata": {
        "id": "EQ2JYHLSh5Sl"
      },
      "source": [
        "recc = cf_recommender_model.recommend_items(40943)"
      ],
      "execution_count": 285,
      "outputs": []
    },
    {
      "cell_type": "code",
      "metadata": {
        "id": "_-gfRbvux4LI"
      },
      "source": [
        "recc = le.inverse_transform(recc['Book-Title'])"
      ],
      "execution_count": 286,
      "outputs": []
    },
    {
      "cell_type": "code",
      "metadata": {
        "colab": {
          "base_uri": "https://localhost:8080/"
        },
        "id": "mDPDC7D4yO8y",
        "outputId": "4126f217-6a5c-4204-9438-e5a851e97e8e"
      },
      "source": [
        "recc"
      ],
      "execution_count": 287,
      "outputs": [
        {
          "output_type": "execute_result",
          "data": {
            "text/plain": [
              "array(['Harry Potter and the Chamber of Secrets (Book 2)',\n",
              "       'Harry Potter and the Prisoner of Azkaban (Book 3)',\n",
              "       'Harry Potter and the Goblet of Fire (Book 4)',\n",
              "       \"Harry Potter and the Sorcerer's Stone (Harry Potter (Paperback))\",\n",
              "       'The Secret Life of Bees',\n",
              "       'Harry Potter and the Order of the Phoenix (Book 5)',\n",
              "       \"Harry Potter and the Sorcerer's Stone (Book 1)\",\n",
              "       \"Bridget Jones's Diary\",\n",
              "       'The Fellowship of the Ring (The Lord of the Rings, Part 1)',\n",
              "       'The Nanny Diaries: A Novel'], dtype=object)"
            ]
          },
          "metadata": {},
          "execution_count": 287
        }
      ]
    },
    {
      "cell_type": "code",
      "metadata": {
        "colab": {
          "base_uri": "https://localhost:8080/",
          "height": 204
        },
        "id": "Ftbt2r8F7S3k",
        "outputId": "6aa7e209-6378-42f7-a0a0-9a0eaa22200d"
      },
      "source": [
        "df_merged_updated[df_merged_updated['User-ID']==40943].head()"
      ],
      "execution_count": 288,
      "outputs": [
        {
          "output_type": "execute_result",
          "data": {
            "text/html": [
              "<div>\n",
              "<style scoped>\n",
              "    .dataframe tbody tr th:only-of-type {\n",
              "        vertical-align: middle;\n",
              "    }\n",
              "\n",
              "    .dataframe tbody tr th {\n",
              "        vertical-align: top;\n",
              "    }\n",
              "\n",
              "    .dataframe thead th {\n",
              "        text-align: right;\n",
              "    }\n",
              "</style>\n",
              "<table border=\"1\" class=\"dataframe\">\n",
              "  <thead>\n",
              "    <tr style=\"text-align: right;\">\n",
              "      <th></th>\n",
              "      <th>User-ID</th>\n",
              "      <th>ISBN</th>\n",
              "      <th>Book-Rating</th>\n",
              "      <th>Book-Title</th>\n",
              "      <th>Book-Author</th>\n",
              "      <th>Year-Of-Publication</th>\n",
              "      <th>Publisher</th>\n",
              "      <th>Location</th>\n",
              "      <th>Age</th>\n",
              "      <th>Title-Lenght</th>\n",
              "    </tr>\n",
              "  </thead>\n",
              "  <tbody>\n",
              "    <tr>\n",
              "      <th>367478</th>\n",
              "      <td>40943</td>\n",
              "      <td>0671003755</td>\n",
              "      <td>5</td>\n",
              "      <td>She's Come Undone (Oprah's Book Club (Paperback))</td>\n",
              "      <td>Wally Lamb</td>\n",
              "      <td>1996</td>\n",
              "      <td>Washington Square Press</td>\n",
              "      <td>usa</td>\n",
              "      <td>40</td>\n",
              "      <td>49</td>\n",
              "    </tr>\n",
              "    <tr>\n",
              "      <th>367497</th>\n",
              "      <td>40943</td>\n",
              "      <td>0679746048</td>\n",
              "      <td>8</td>\n",
              "      <td>Girl, Interrupted</td>\n",
              "      <td>SUSANNA KAYSEN</td>\n",
              "      <td>1994</td>\n",
              "      <td>Vintage</td>\n",
              "      <td>usa</td>\n",
              "      <td>40</td>\n",
              "      <td>17</td>\n",
              "    </tr>\n",
              "    <tr>\n",
              "      <th>367499</th>\n",
              "      <td>40943</td>\n",
              "      <td>039480967X</td>\n",
              "      <td>5</td>\n",
              "      <td>Bears on Wheels (Bright &amp;amp; Early Books)</td>\n",
              "      <td>STAN BERENSTAIN</td>\n",
              "      <td>1969</td>\n",
              "      <td>Random House Books for Young Readers</td>\n",
              "      <td>usa</td>\n",
              "      <td>40</td>\n",
              "      <td>42</td>\n",
              "    </tr>\n",
              "    <tr>\n",
              "      <th>367514</th>\n",
              "      <td>40943</td>\n",
              "      <td>043936213X</td>\n",
              "      <td>10</td>\n",
              "      <td>Harry Potter and the Sorcerer's Stone (Book 1)</td>\n",
              "      <td>J. K. Rowling</td>\n",
              "      <td>2001</td>\n",
              "      <td>Scholastic</td>\n",
              "      <td>usa</td>\n",
              "      <td>40</td>\n",
              "      <td>46</td>\n",
              "    </tr>\n",
              "    <tr>\n",
              "      <th>367518</th>\n",
              "      <td>40943</td>\n",
              "      <td>0553274295</td>\n",
              "      <td>10</td>\n",
              "      <td>Where the Red Fern Grows</td>\n",
              "      <td>Wilson Rawls</td>\n",
              "      <td>1984</td>\n",
              "      <td>Random House Children's Books</td>\n",
              "      <td>usa</td>\n",
              "      <td>40</td>\n",
              "      <td>24</td>\n",
              "    </tr>\n",
              "  </tbody>\n",
              "</table>\n",
              "</div>"
            ],
            "text/plain": [
              "        User-ID        ISBN  Book-Rating  ... Location Age  Title-Lenght\n",
              "367478    40943  0671003755            5  ...      usa  40            49\n",
              "367497    40943  0679746048            8  ...      usa  40            17\n",
              "367499    40943  039480967X            5  ...      usa  40            42\n",
              "367514    40943  043936213X           10  ...      usa  40            46\n",
              "367518    40943  0553274295           10  ...      usa  40            24\n",
              "\n",
              "[5 rows x 10 columns]"
            ]
          },
          "metadata": {},
          "execution_count": 288
        }
      ]
    },
    {
      "cell_type": "markdown",
      "metadata": {
        "id": "nnLO8r2IEere"
      },
      "source": [
        "#We can see, the user: **40943**, has rated **Harry Potter and the Sorcerer's Stone (Book 1)**, very highly. Our model, is recommending other parts of the same series. This seems to be consistent with high precision and high recall values that we have obtained thus far."
      ]
    },
    {
      "cell_type": "markdown",
      "metadata": {
        "id": "nI5cYzi_rUzk"
      },
      "source": [
        "#Content Based Filtering For 0 Rank User(Implicit)\n",
        "\n",
        "---\n",
        "\n"
      ]
    },
    {
      "cell_type": "markdown",
      "metadata": {
        "id": "86JgJWU5rfvI"
      },
      "source": [
        "#Extracting Summary from Google Books API"
      ]
    },
    {
      "cell_type": "code",
      "metadata": {
        "id": "zyT3PcSIEbc2"
      },
      "source": [
        "# Python's built-in module for encoding and decoding JSON data\n",
        "import json\n",
        "# Python's built-in module for opening and reading URLs\n",
        "from urllib.request import urlopen\n",
        "\n",
        "api = \"https://www.googleapis.com/books/v1/volumes?q=isbn:\""
      ],
      "execution_count": 289,
      "outputs": []
    },
    {
      "cell_type": "code",
      "metadata": {
        "id": "ssI94aL5Sc_k"
      },
      "source": [
        "gg = df_merged.drop_duplicates('Book-Title',keep='first')"
      ],
      "execution_count": 290,
      "outputs": []
    },
    {
      "cell_type": "code",
      "metadata": {
        "id": "m0VGBj_cari7"
      },
      "source": [
        "list_isbn = list(gg['ISBN'][gg['Book-Rating']==0].unique())"
      ],
      "execution_count": 291,
      "outputs": []
    },
    {
      "cell_type": "code",
      "metadata": {
        "id": "oTzZrgUqXSmB"
      },
      "source": [
        "list_dict= {}"
      ],
      "execution_count": 292,
      "outputs": []
    },
    {
      "cell_type": "markdown",
      "metadata": {
        "id": "3W2BpkvrslKd"
      },
      "source": [
        "#Google Books API has restrictions of number of requests. By using the following code, we have been able to circumvent those restrictions."
      ]
    },
    {
      "cell_type": "code",
      "metadata": {
        "id": "IbotR766GR7z"
      },
      "source": [
        "########## THE CODE WAS USED ONCE TO CREATE CSV FILE, WITH BOOK DESCRIPTIONS ##########\n",
        "\n",
        "\n",
        "# def descripter(x):\n",
        "#   global counter\n",
        "#   counter +=1 \n",
        "#   try:\n",
        "#     return json.load(urlopen(api + x))['items'][0]['volumeInfo'][\"description\"]\n",
        "#   except:\n",
        "#     print('No-Description')\n",
        "\n",
        "# import time\n",
        "# j = 52620\n",
        "# while j!=len(list_isbn):\n",
        "\n",
        "#   for i in list_isbn[j:j+80]:\n",
        "#     list_dict[i] = descripter(i)\n",
        "  \n",
        "#   time.sleep(20)\n",
        "\n",
        "#   j +=80  \n",
        "\n",
        "\n",
        "\n",
        "###Exporting as CSV\n",
        "# export_df = pd.DataFrame(list_dict.items(),columns=['ISBN','description'])\n",
        "# export_df = export_df[~export_df['description'].isna()]\n",
        "\n",
        "# from google.colab import files\n",
        "# export_df.to_csv('description_df_1.csv')\n",
        "# files.download('description_df_1.csv')\n",
        "\n",
        "\n",
        "########## THE CODE WAS USED ONCE TO CREATE CSV FILE, WITH BOOK DESCRIPTIONS ##########"
      ],
      "execution_count": 293,
      "outputs": []
    },
    {
      "cell_type": "code",
      "metadata": {
        "id": "Bt0SWbKGn8hd"
      },
      "source": [
        "df_descriptions = pd.read_csv('/content/gdrive/MyDrive/Colab Notebooks/Module 4: Machine Learning/Capstone Project - 2/BOOK RECOMMENDATION SYSTEM - Harsh Mudgil/Datasets/description_df_1.csv')"
      ],
      "execution_count": 294,
      "outputs": []
    },
    {
      "cell_type": "code",
      "metadata": {
        "colab": {
          "base_uri": "https://localhost:8080/",
          "height": 204
        },
        "id": "2c4A0oP3Wq2c",
        "outputId": "239d5cc3-f7d9-46eb-b536-8592d3ca7d1e"
      },
      "source": [
        "df_descriptions.head()"
      ],
      "execution_count": 295,
      "outputs": [
        {
          "output_type": "execute_result",
          "data": {
            "text/html": [
              "<div>\n",
              "<style scoped>\n",
              "    .dataframe tbody tr th:only-of-type {\n",
              "        vertical-align: middle;\n",
              "    }\n",
              "\n",
              "    .dataframe tbody tr th {\n",
              "        vertical-align: top;\n",
              "    }\n",
              "\n",
              "    .dataframe thead th {\n",
              "        text-align: right;\n",
              "    }\n",
              "</style>\n",
              "<table border=\"1\" class=\"dataframe\">\n",
              "  <thead>\n",
              "    <tr style=\"text-align: right;\">\n",
              "      <th></th>\n",
              "      <th>Unnamed: 0</th>\n",
              "      <th>ISBN</th>\n",
              "      <th>description</th>\n",
              "    </tr>\n",
              "  </thead>\n",
              "  <tbody>\n",
              "    <tr>\n",
              "      <th>0</th>\n",
              "      <td>0</td>\n",
              "      <td>034545104X</td>\n",
              "      <td>Twenty years after having an affair with legen...</td>\n",
              "    </tr>\n",
              "    <tr>\n",
              "      <th>1</th>\n",
              "      <td>1</td>\n",
              "      <td>0449912558</td>\n",
              "      <td>The sole survivor of a crew sent to explore a ...</td>\n",
              "    </tr>\n",
              "    <tr>\n",
              "      <th>2</th>\n",
              "      <td>2</td>\n",
              "      <td>0300069049</td>\n",
              "      <td>Franz Liszt's daughter Cosima began her diarie...</td>\n",
              "    </tr>\n",
              "    <tr>\n",
              "      <th>3</th>\n",
              "      <td>3</td>\n",
              "      <td>0375706771</td>\n",
              "      <td>In the winter of 1981, trapped by unpassable r...</td>\n",
              "    </tr>\n",
              "    <tr>\n",
              "      <th>4</th>\n",
              "      <td>4</td>\n",
              "      <td>0451525078</td>\n",
              "      <td>Cervantes' tale of the deranged gentleman who ...</td>\n",
              "    </tr>\n",
              "  </tbody>\n",
              "</table>\n",
              "</div>"
            ],
            "text/plain": [
              "   Unnamed: 0        ISBN                                        description\n",
              "0           0  034545104X  Twenty years after having an affair with legen...\n",
              "1           1  0449912558  The sole survivor of a crew sent to explore a ...\n",
              "2           2  0300069049  Franz Liszt's daughter Cosima began her diarie...\n",
              "3           3  0375706771  In the winter of 1981, trapped by unpassable r...\n",
              "4           4  0451525078  Cervantes' tale of the deranged gentleman who ..."
            ]
          },
          "metadata": {},
          "execution_count": 295
        }
      ]
    },
    {
      "cell_type": "code",
      "metadata": {
        "id": "V-H04RgxWzio"
      },
      "source": [
        "df_descriptions.drop('Unnamed: 0',axis=1,inplace=True)"
      ],
      "execution_count": 296,
      "outputs": []
    },
    {
      "cell_type": "code",
      "metadata": {
        "id": "EsAqQ_-nXZxY"
      },
      "source": [
        "df_tf = df_merged[df_merged['Book-Rating']==0]"
      ],
      "execution_count": 297,
      "outputs": []
    },
    {
      "cell_type": "code",
      "metadata": {
        "id": "An1qpUahW7KP"
      },
      "source": [
        "df_tf = df_tf.merge(df_descriptions,how='inner',on='ISBN')"
      ],
      "execution_count": 298,
      "outputs": []
    },
    {
      "cell_type": "code",
      "metadata": {
        "colab": {
          "base_uri": "https://localhost:8080/",
          "height": 204
        },
        "id": "zGXy_-IfXg1N",
        "outputId": "8b979a34-0253-4e50-8f8b-354cece1ca80"
      },
      "source": [
        "df_tf[df_tf['Book-Rating']==0].head()"
      ],
      "execution_count": 299,
      "outputs": [
        {
          "output_type": "execute_result",
          "data": {
            "text/html": [
              "<div>\n",
              "<style scoped>\n",
              "    .dataframe tbody tr th:only-of-type {\n",
              "        vertical-align: middle;\n",
              "    }\n",
              "\n",
              "    .dataframe tbody tr th {\n",
              "        vertical-align: top;\n",
              "    }\n",
              "\n",
              "    .dataframe thead th {\n",
              "        text-align: right;\n",
              "    }\n",
              "</style>\n",
              "<table border=\"1\" class=\"dataframe\">\n",
              "  <thead>\n",
              "    <tr style=\"text-align: right;\">\n",
              "      <th></th>\n",
              "      <th>User-ID</th>\n",
              "      <th>ISBN</th>\n",
              "      <th>Book-Rating</th>\n",
              "      <th>Book-Title</th>\n",
              "      <th>Book-Author</th>\n",
              "      <th>Year-Of-Publication</th>\n",
              "      <th>Publisher</th>\n",
              "      <th>Location</th>\n",
              "      <th>Age</th>\n",
              "      <th>Title-Lenght</th>\n",
              "      <th>description</th>\n",
              "    </tr>\n",
              "  </thead>\n",
              "  <tbody>\n",
              "    <tr>\n",
              "      <th>0</th>\n",
              "      <td>276725</td>\n",
              "      <td>034545104X</td>\n",
              "      <td>0</td>\n",
              "      <td>Flesh Tones: A Novel</td>\n",
              "      <td>M. J. Rose</td>\n",
              "      <td>2002</td>\n",
              "      <td>Ballantine Books</td>\n",
              "      <td>usa</td>\n",
              "      <td>43</td>\n",
              "      <td>20</td>\n",
              "      <td>Twenty years after having an affair with legen...</td>\n",
              "    </tr>\n",
              "    <tr>\n",
              "      <th>1</th>\n",
              "      <td>6543</td>\n",
              "      <td>034545104X</td>\n",
              "      <td>0</td>\n",
              "      <td>Flesh Tones: A Novel</td>\n",
              "      <td>M. J. Rose</td>\n",
              "      <td>2002</td>\n",
              "      <td>Ballantine Books</td>\n",
              "      <td>usa</td>\n",
              "      <td>34</td>\n",
              "      <td>20</td>\n",
              "      <td>Twenty years after having an affair with legen...</td>\n",
              "    </tr>\n",
              "    <tr>\n",
              "      <th>2</th>\n",
              "      <td>23768</td>\n",
              "      <td>034545104X</td>\n",
              "      <td>0</td>\n",
              "      <td>Flesh Tones: A Novel</td>\n",
              "      <td>M. J. Rose</td>\n",
              "      <td>2002</td>\n",
              "      <td>Ballantine Books</td>\n",
              "      <td>usa</td>\n",
              "      <td>45</td>\n",
              "      <td>20</td>\n",
              "      <td>Twenty years after having an affair with legen...</td>\n",
              "    </tr>\n",
              "    <tr>\n",
              "      <th>3</th>\n",
              "      <td>28266</td>\n",
              "      <td>034545104X</td>\n",
              "      <td>0</td>\n",
              "      <td>Flesh Tones: A Novel</td>\n",
              "      <td>M. J. Rose</td>\n",
              "      <td>2002</td>\n",
              "      <td>Ballantine Books</td>\n",
              "      <td>usa</td>\n",
              "      <td>27</td>\n",
              "      <td>20</td>\n",
              "      <td>Twenty years after having an affair with legen...</td>\n",
              "    </tr>\n",
              "    <tr>\n",
              "      <th>4</th>\n",
              "      <td>28523</td>\n",
              "      <td>034545104X</td>\n",
              "      <td>0</td>\n",
              "      <td>Flesh Tones: A Novel</td>\n",
              "      <td>M. J. Rose</td>\n",
              "      <td>2002</td>\n",
              "      <td>Ballantine Books</td>\n",
              "      <td>usa</td>\n",
              "      <td>24</td>\n",
              "      <td>20</td>\n",
              "      <td>Twenty years after having an affair with legen...</td>\n",
              "    </tr>\n",
              "  </tbody>\n",
              "</table>\n",
              "</div>"
            ],
            "text/plain": [
              "   User-ID  ...                                        description\n",
              "0   276725  ...  Twenty years after having an affair with legen...\n",
              "1     6543  ...  Twenty years after having an affair with legen...\n",
              "2    23768  ...  Twenty years after having an affair with legen...\n",
              "3    28266  ...  Twenty years after having an affair with legen...\n",
              "4    28523  ...  Twenty years after having an affair with legen...\n",
              "\n",
              "[5 rows x 11 columns]"
            ]
          },
          "metadata": {},
          "execution_count": 299
        }
      ]
    },
    {
      "cell_type": "markdown",
      "metadata": {
        "id": "usrboJEvirlc"
      },
      "source": [
        "#Data Pre-processing"
      ]
    },
    {
      "cell_type": "code",
      "metadata": {
        "colab": {
          "base_uri": "https://localhost:8080/"
        },
        "id": "MbW09m2Xj6YK",
        "outputId": "d4bf10e9-9833-4773-c78e-cc3838916f96"
      },
      "source": [
        "import nltk\n",
        "nltk.download('stopwords')\n",
        "nltk.download('words')\n",
        "\n",
        "import string\n",
        "from nltk.corpus import stopwords\n",
        "from nltk.corpus import words"
      ],
      "execution_count": 300,
      "outputs": [
        {
          "output_type": "stream",
          "name": "stdout",
          "text": [
            "[nltk_data] Downloading package stopwords to /root/nltk_data...\n",
            "[nltk_data]   Package stopwords is already up-to-date!\n",
            "[nltk_data] Downloading package words to /root/nltk_data...\n",
            "[nltk_data]   Package words is already up-to-date!\n"
          ]
        }
      ]
    },
    {
      "cell_type": "code",
      "metadata": {
        "id": "g_MrxOz7kCRT"
      },
      "source": [
        "stopwords.words('english').extend(['\\n','\\t'])"
      ],
      "execution_count": 301,
      "outputs": []
    },
    {
      "cell_type": "code",
      "metadata": {
        "id": "y5dFmLKfkGAX"
      },
      "source": [
        "#Removing Stop Words and Punctuations\n",
        "def text_process(msg):\n",
        "    nopunc =[char for char in msg if char not in string.punctuation]\n",
        "    nopunc=''.join(nopunc)\n",
        "    return ' '.join([word for word in nopunc.split() if word.lower() not in stopwords.words('english')])"
      ],
      "execution_count": 302,
      "outputs": []
    },
    {
      "cell_type": "code",
      "metadata": {
        "id": "CnWs6QgmkRPx"
      },
      "source": [
        "#Removing Stopwords\n",
        "df_descriptions['description'] = df_descriptions['description'].apply(text_process)"
      ],
      "execution_count": 303,
      "outputs": []
    },
    {
      "cell_type": "code",
      "metadata": {
        "colab": {
          "base_uri": "https://localhost:8080/",
          "height": 204
        },
        "id": "g9ILBApoqGnK",
        "outputId": "d63e80e7-f430-49df-838a-3f536ec41e90"
      },
      "source": [
        "df_descriptions.head()"
      ],
      "execution_count": 304,
      "outputs": [
        {
          "output_type": "execute_result",
          "data": {
            "text/html": [
              "<div>\n",
              "<style scoped>\n",
              "    .dataframe tbody tr th:only-of-type {\n",
              "        vertical-align: middle;\n",
              "    }\n",
              "\n",
              "    .dataframe tbody tr th {\n",
              "        vertical-align: top;\n",
              "    }\n",
              "\n",
              "    .dataframe thead th {\n",
              "        text-align: right;\n",
              "    }\n",
              "</style>\n",
              "<table border=\"1\" class=\"dataframe\">\n",
              "  <thead>\n",
              "    <tr style=\"text-align: right;\">\n",
              "      <th></th>\n",
              "      <th>ISBN</th>\n",
              "      <th>description</th>\n",
              "    </tr>\n",
              "  </thead>\n",
              "  <tbody>\n",
              "    <tr>\n",
              "      <th>0</th>\n",
              "      <td>034545104X</td>\n",
              "      <td>Twenty years affair legendary artist George Ga...</td>\n",
              "    </tr>\n",
              "    <tr>\n",
              "      <th>1</th>\n",
              "      <td>0449912558</td>\n",
              "      <td>sole survivor crew sent explore new planet Jes...</td>\n",
              "    </tr>\n",
              "    <tr>\n",
              "      <th>2</th>\n",
              "      <td>0300069049</td>\n",
              "      <td>Franz Liszts daughter Cosima began diaries Jan...</td>\n",
              "    </tr>\n",
              "    <tr>\n",
              "      <th>3</th>\n",
              "      <td>0375706771</td>\n",
              "      <td>winter 1981 trapped unpassable roads midwife S...</td>\n",
              "    </tr>\n",
              "    <tr>\n",
              "      <th>4</th>\n",
              "      <td>0451525078</td>\n",
              "      <td>Cervantes tale deranged gentleman turns knight...</td>\n",
              "    </tr>\n",
              "  </tbody>\n",
              "</table>\n",
              "</div>"
            ],
            "text/plain": [
              "         ISBN                                        description\n",
              "0  034545104X  Twenty years affair legendary artist George Ga...\n",
              "1  0449912558  sole survivor crew sent explore new planet Jes...\n",
              "2  0300069049  Franz Liszts daughter Cosima began diaries Jan...\n",
              "3  0375706771  winter 1981 trapped unpassable roads midwife S...\n",
              "4  0451525078  Cervantes tale deranged gentleman turns knight..."
            ]
          },
          "metadata": {},
          "execution_count": 304
        }
      ]
    },
    {
      "cell_type": "code",
      "metadata": {
        "colab": {
          "base_uri": "https://localhost:8080/"
        },
        "id": "QDfSGg3QqIfi",
        "outputId": "6935c6b7-4ec2-46e7-9b12-0cfecb878feb"
      },
      "source": [
        "nltk.download('wordnet')\n",
        "from nltk.stem import WordNetLemmatizer\n",
        "\n",
        "# Create WordNetLemmatizer object\n",
        "wnl = WordNetLemmatizer()\n",
        "\n",
        "def lemma(text):    \n",
        "    '''a function which stems each word in the given text'''\n",
        "    text = [wnl.lemmatize(word) for word in text.split()]\n",
        "    return \" \".join(text)"
      ],
      "execution_count": 305,
      "outputs": [
        {
          "output_type": "stream",
          "name": "stdout",
          "text": [
            "[nltk_data] Downloading package wordnet to /root/nltk_data...\n",
            "[nltk_data]   Package wordnet is already up-to-date!\n"
          ]
        }
      ]
    },
    {
      "cell_type": "code",
      "metadata": {
        "id": "U2vDZRBnq02X"
      },
      "source": [
        "df_descriptions['description'] = df_descriptions['description'].apply(lemma)"
      ],
      "execution_count": 306,
      "outputs": []
    },
    {
      "cell_type": "markdown",
      "metadata": {
        "id": "BEKEO3BkrvID"
      },
      "source": [
        "#Vectorizing The Data"
      ]
    },
    {
      "cell_type": "code",
      "metadata": {
        "id": "mMc-1SeSrxrY"
      },
      "source": [
        "from sklearn.feature_extraction.text import TfidfVectorizer\n",
        "tfidf = TfidfVectorizer(min_df=5)\n",
        "tfidf_mat = tfidf.fit_transform(df_descriptions['description'])"
      ],
      "execution_count": 307,
      "outputs": []
    },
    {
      "cell_type": "code",
      "metadata": {
        "id": "YQ5rfSzsszEc"
      },
      "source": [
        "from sklearn.metrics.pairwise import cosine_similarity"
      ],
      "execution_count": 308,
      "outputs": []
    },
    {
      "cell_type": "code",
      "metadata": {
        "id": "NFd1WpgLwVMm"
      },
      "source": [
        "# Change chunk_size to control resource consumption and speed\n",
        "# Higher chunk_size means more memory/RAM needed but also faster \n",
        "chunk_size = 500 \n",
        "matrix_len = tfidf_mat.shape[0] # Not sparse numpy.ndarray\n",
        "\n",
        "def similarity_cosine_by_chunk(start, end):\n",
        "    if end > matrix_len:\n",
        "        end = matrix_len\n",
        "    return cosine_similarity(X=tfidf_mat[start:end], Y=tfidf_mat) # scikit-learn function\n",
        "\n",
        "for chunk_start in range(0, matrix_len, chunk_size):\n",
        "    cosine_similarity_chunk = similarity_cosine_by_chunk(chunk_start, chunk_start+chunk_size)\n",
        "    # Handle cosine_similarity_chunk  ( Write it to file_timestamp and close the file )\n",
        "    # Do not open the same file again or you may end up with out of memory after few chunks "
      ],
      "execution_count": 309,
      "outputs": []
    },
    {
      "cell_type": "code",
      "metadata": {
        "id": "diU3uXv33ilr"
      },
      "source": [
        "indices = pd.Series(df_descriptions['ISBN'])"
      ],
      "execution_count": 310,
      "outputs": []
    },
    {
      "cell_type": "code",
      "metadata": {
        "id": "BMZNW3tv3-gN"
      },
      "source": [
        "def recommendations(ISBN,cosine_sim = cosine_similarity_chunk ):\n",
        "  try:\n",
        "    index = indices[indices == ISBN].index[0]\n",
        "    similarity_scores = pd.Series(cosine_similarity_chunk[index]).sort_values(ascending=False)\n",
        "    top_10_books = list(similarity_scores.iloc[1:11].index)\n",
        "    recommended_books_ISBN = [df_books[df_books['ISBN']==df_descriptions.iloc[list(df_descriptions.index)[i]]['ISBN']]['Book-Title'].to_list()[0] for i in top_10_books]\n",
        "    return recommended_books_ISBN\n",
        "\n",
        "  except:\n",
        "    print('The Book Is not Indexed')\n"
      ],
      "execution_count": 311,
      "outputs": []
    },
    {
      "cell_type": "code",
      "metadata": {
        "colab": {
          "base_uri": "https://localhost:8080/",
          "height": 305
        },
        "id": "2ELSYHI-CPJ7",
        "outputId": "99727db6-2c65-4d78-ebce-1f7e1969c806"
      },
      "source": [
        "df_tf[df_tf['Book-Title']=='SHERLOCK HOLMES &amp; THE CASE OF SABINA HALL'].head()"
      ],
      "execution_count": 312,
      "outputs": [
        {
          "output_type": "execute_result",
          "data": {
            "text/html": [
              "<div>\n",
              "<style scoped>\n",
              "    .dataframe tbody tr th:only-of-type {\n",
              "        vertical-align: middle;\n",
              "    }\n",
              "\n",
              "    .dataframe tbody tr th {\n",
              "        vertical-align: top;\n",
              "    }\n",
              "\n",
              "    .dataframe thead th {\n",
              "        text-align: right;\n",
              "    }\n",
              "</style>\n",
              "<table border=\"1\" class=\"dataframe\">\n",
              "  <thead>\n",
              "    <tr style=\"text-align: right;\">\n",
              "      <th></th>\n",
              "      <th>User-ID</th>\n",
              "      <th>ISBN</th>\n",
              "      <th>Book-Rating</th>\n",
              "      <th>Book-Title</th>\n",
              "      <th>Book-Author</th>\n",
              "      <th>Year-Of-Publication</th>\n",
              "      <th>Publisher</th>\n",
              "      <th>Location</th>\n",
              "      <th>Age</th>\n",
              "      <th>Title-Lenght</th>\n",
              "      <th>description</th>\n",
              "    </tr>\n",
              "  </thead>\n",
              "  <tbody>\n",
              "    <tr>\n",
              "      <th>5220</th>\n",
              "      <td>6543</td>\n",
              "      <td>0671659154</td>\n",
              "      <td>0</td>\n",
              "      <td>SHERLOCK HOLMES &amp;amp; THE CASE OF SABINA HALL</td>\n",
              "      <td>Pamela Greenwood</td>\n",
              "      <td>1989</td>\n",
              "      <td>Pocket</td>\n",
              "      <td>usa</td>\n",
              "      <td>34</td>\n",
              "      <td>45</td>\n",
              "      <td>At the request of an acquaintance, Holmes and ...</td>\n",
              "    </tr>\n",
              "    <tr>\n",
              "      <th>5221</th>\n",
              "      <td>278418</td>\n",
              "      <td>0671659154</td>\n",
              "      <td>0</td>\n",
              "      <td>SHERLOCK HOLMES &amp;amp; THE CASE OF SABINA HALL</td>\n",
              "      <td>Pamela Greenwood</td>\n",
              "      <td>1989</td>\n",
              "      <td>Pocket</td>\n",
              "      <td>usa</td>\n",
              "      <td>39</td>\n",
              "      <td>45</td>\n",
              "      <td>At the request of an acquaintance, Holmes and ...</td>\n",
              "    </tr>\n",
              "    <tr>\n",
              "      <th>5222</th>\n",
              "      <td>15418</td>\n",
              "      <td>0671659154</td>\n",
              "      <td>0</td>\n",
              "      <td>SHERLOCK HOLMES &amp;amp; THE CASE OF SABINA HALL</td>\n",
              "      <td>Pamela Greenwood</td>\n",
              "      <td>1989</td>\n",
              "      <td>Pocket</td>\n",
              "      <td>spain</td>\n",
              "      <td>23</td>\n",
              "      <td>45</td>\n",
              "      <td>At the request of an acquaintance, Holmes and ...</td>\n",
              "    </tr>\n",
              "    <tr>\n",
              "      <th>5223</th>\n",
              "      <td>221870</td>\n",
              "      <td>0671659154</td>\n",
              "      <td>0</td>\n",
              "      <td>SHERLOCK HOLMES &amp;amp; THE CASE OF SABINA HALL</td>\n",
              "      <td>Pamela Greenwood</td>\n",
              "      <td>1989</td>\n",
              "      <td>Pocket</td>\n",
              "      <td>usa</td>\n",
              "      <td>45</td>\n",
              "      <td>45</td>\n",
              "      <td>At the request of an acquaintance, Holmes and ...</td>\n",
              "    </tr>\n",
              "    <tr>\n",
              "      <th>5224</th>\n",
              "      <td>88733</td>\n",
              "      <td>0671659154</td>\n",
              "      <td>0</td>\n",
              "      <td>SHERLOCK HOLMES &amp;amp; THE CASE OF SABINA HALL</td>\n",
              "      <td>Pamela Greenwood</td>\n",
              "      <td>1989</td>\n",
              "      <td>Pocket</td>\n",
              "      <td>usa</td>\n",
              "      <td>43</td>\n",
              "      <td>45</td>\n",
              "      <td>At the request of an acquaintance, Holmes and ...</td>\n",
              "    </tr>\n",
              "  </tbody>\n",
              "</table>\n",
              "</div>"
            ],
            "text/plain": [
              "      User-ID  ...                                        description\n",
              "5220     6543  ...  At the request of an acquaintance, Holmes and ...\n",
              "5221   278418  ...  At the request of an acquaintance, Holmes and ...\n",
              "5222    15418  ...  At the request of an acquaintance, Holmes and ...\n",
              "5223   221870  ...  At the request of an acquaintance, Holmes and ...\n",
              "5224    88733  ...  At the request of an acquaintance, Holmes and ...\n",
              "\n",
              "[5 rows x 11 columns]"
            ]
          },
          "metadata": {},
          "execution_count": 312
        }
      ]
    },
    {
      "cell_type": "markdown",
      "metadata": {
        "id": "PVW4ApBHB1oS"
      },
      "source": [
        "# For a person who has bought **SHERLOCK HOLMES &amp; THE CASE OF SABINA HALL** and has left no rating, based on the content of this book, we can recommend the following titles."
      ]
    },
    {
      "cell_type": "code",
      "metadata": {
        "colab": {
          "base_uri": "https://localhost:8080/"
        },
        "id": "9JNmewmr6Yc-",
        "outputId": "68ea303d-b503-44f4-fa27-5db0fb58e66a"
      },
      "source": [
        "recommendations('0671659154') "
      ],
      "execution_count": 313,
      "outputs": [
        {
          "output_type": "execute_result",
          "data": {
            "text/plain": [
              "['The Case of Jennie Brice',\n",
              " \"Alfred Hitchcock's Sinister Spies\",\n",
              " 'Man With A Past (Montana Mavericks #11) (Montana Mavericks No 11)',\n",
              " 'The Witch Herself',\n",
              " 'Rest in Pieces (Mrs. Murphy Mysteries (Paperback))',\n",
              " 'Ellis Island &amp; Other Stories',\n",
              " 'First Evil (Fear Street Cheerleaders 1) : First Evil',\n",
              " \"Don't Go in the Basement (Sweet Valley Twins, 109)\",\n",
              " 'SLAG LIKE ME (ALIEN NATION 5) : SLAG LIKE ME (Alien Nation, No 5)',\n",
              " 'Turnip Blues']"
            ]
          },
          "metadata": {},
          "execution_count": 313
        }
      ]
    },
    {
      "cell_type": "markdown",
      "metadata": {
        "id": "NGtNUY-OGqnV"
      },
      "source": [
        "#We can notice that, all the books in above recommendation list, belong to the same genre, that is: Mystery. Thus our recommendation systems is working well.\n",
        "\n"
      ]
    }
  ]
}